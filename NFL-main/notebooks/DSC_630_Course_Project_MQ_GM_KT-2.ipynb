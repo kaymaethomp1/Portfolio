{
 "cells": [
  {
   "cell_type": "markdown",
   "metadata": {
    "id": "J6EyDObltA96"
   },
   "source": [
    "#### Mohamad Quteifan, Kayla Thompson, Gloria Moore\n",
    "#### Professor: Brett Werner\n",
    "#### DSC 630: Predictive Analytics\n",
    "\n",
    "\n",
    "\n",
    "# Problem Statement: \n",
    "\n"
   ]
  },
  {
   "cell_type": "markdown",
   "metadata": {
    "id": "5QNKBWZktA-F"
   },
   "source": [
    "# Exploratory Data Analysis"
   ]
  },
  {
   "cell_type": "markdown",
   "metadata": {
    "id": "5yOAsPPmtA-M"
   },
   "source": [
    "Import libraries"
   ]
  },
  {
   "cell_type": "code",
   "execution_count": 1,
   "metadata": {
    "id": "6ossbwlDtA-N"
   },
   "outputs": [],
   "source": [
    "import pandas as pd\n",
    "import numpy as np\n",
    "import matplotlib.pyplot as plt\n",
    "import pprint as pp\n",
    "from scipy import stats\n",
    "%matplotlib inline\n",
    "import seaborn as sns\n",
    "import sklearn\n",
    "from sklearn import linear_model\n",
    "from sklearn.linear_model import LinearRegression, LogisticRegression, LogisticRegressionCV\n",
    "from sklearn.model_selection import train_test_split\n",
    "from sklearn.model_selection import KFold, RandomizedSearchCV\n",
    "from sklearn.metrics import f1_score, roc_curve, auc, roc_auc_score"
   ]
  },
  {
   "cell_type": "markdown",
   "metadata": {
    "id": "nbhv8uhSxLsy"
   },
   "source": [
    "# Data Frame Analysis\n",
    "\n",
    "The following data set was extratect from: https://www.kaggle.com/c/nfl-big-data-bowl-2021/data\n",
    "This data frame contains play-level information for each game.\n",
    "Variables description can be found using the link provided\n",
    "Following section looks to import data set in Pandas Data frame as well as describe the principal variables that we have defined"
   ]
  },
  {
   "cell_type": "code",
   "execution_count": 2,
   "metadata": {
    "id": "ZzCJaRSZtA-P"
   },
   "outputs": [],
   "source": [
    "df = pd.read_csv(\"plays.csv\")"
   ]
  },
  {
   "cell_type": "code",
   "execution_count": 3,
   "metadata": {
    "colab": {
     "base_uri": "https://localhost:8080/",
     "height": 779
    },
    "id": "uNmhjj-TtA-R",
    "outputId": "66ea3919-6e50-4150-8395-ca1a7ec1eea4"
   },
   "outputs": [
    {
     "data": {
      "text/html": [
       "<div>\n",
       "<style scoped>\n",
       "    .dataframe tbody tr th:only-of-type {\n",
       "        vertical-align: middle;\n",
       "    }\n",
       "\n",
       "    .dataframe tbody tr th {\n",
       "        vertical-align: top;\n",
       "    }\n",
       "\n",
       "    .dataframe thead th {\n",
       "        text-align: right;\n",
       "    }\n",
       "</style>\n",
       "<table border=\"1\" class=\"dataframe\">\n",
       "  <thead>\n",
       "    <tr style=\"text-align: right;\">\n",
       "      <th></th>\n",
       "      <th>gameId</th>\n",
       "      <th>playId</th>\n",
       "      <th>playDescription</th>\n",
       "      <th>quarter</th>\n",
       "      <th>down</th>\n",
       "      <th>yardsToGo</th>\n",
       "      <th>possessionTeam</th>\n",
       "      <th>playType</th>\n",
       "      <th>yardlineSide</th>\n",
       "      <th>yardlineNumber</th>\n",
       "      <th>...</th>\n",
       "      <th>preSnapHomeScore</th>\n",
       "      <th>gameClock</th>\n",
       "      <th>absoluteYardlineNumber</th>\n",
       "      <th>penaltyCodes</th>\n",
       "      <th>penaltyJerseyNumbers</th>\n",
       "      <th>passResult</th>\n",
       "      <th>offensePlayResult</th>\n",
       "      <th>playResult</th>\n",
       "      <th>epa</th>\n",
       "      <th>isDefensivePI</th>\n",
       "    </tr>\n",
       "  </thead>\n",
       "  <tbody>\n",
       "    <tr>\n",
       "      <td>0</td>\n",
       "      <td>2018090600</td>\n",
       "      <td>75</td>\n",
       "      <td>(15:00) M.Ryan pass short right to J.Jones pus...</td>\n",
       "      <td>1</td>\n",
       "      <td>1</td>\n",
       "      <td>15</td>\n",
       "      <td>ATL</td>\n",
       "      <td>play_type_pass</td>\n",
       "      <td>ATL</td>\n",
       "      <td>20</td>\n",
       "      <td>...</td>\n",
       "      <td>0.0</td>\n",
       "      <td>15:00:00</td>\n",
       "      <td>90.0</td>\n",
       "      <td>NaN</td>\n",
       "      <td>NaN</td>\n",
       "      <td>C</td>\n",
       "      <td>10</td>\n",
       "      <td>10</td>\n",
       "      <td>0.261827</td>\n",
       "      <td>False</td>\n",
       "    </tr>\n",
       "    <tr>\n",
       "      <td>1</td>\n",
       "      <td>2018090600</td>\n",
       "      <td>146</td>\n",
       "      <td>(13:10) M.Ryan pass incomplete short right to ...</td>\n",
       "      <td>1</td>\n",
       "      <td>1</td>\n",
       "      <td>10</td>\n",
       "      <td>ATL</td>\n",
       "      <td>play_type_pass</td>\n",
       "      <td>PHI</td>\n",
       "      <td>39</td>\n",
       "      <td>...</td>\n",
       "      <td>0.0</td>\n",
       "      <td>13:10:00</td>\n",
       "      <td>49.0</td>\n",
       "      <td>NaN</td>\n",
       "      <td>NaN</td>\n",
       "      <td>I</td>\n",
       "      <td>0</td>\n",
       "      <td>0</td>\n",
       "      <td>-0.372360</td>\n",
       "      <td>False</td>\n",
       "    </tr>\n",
       "    <tr>\n",
       "      <td>2</td>\n",
       "      <td>2018090600</td>\n",
       "      <td>168</td>\n",
       "      <td>(13:05) (Shotgun) M.Ryan pass incomplete short...</td>\n",
       "      <td>1</td>\n",
       "      <td>2</td>\n",
       "      <td>10</td>\n",
       "      <td>ATL</td>\n",
       "      <td>play_type_pass</td>\n",
       "      <td>PHI</td>\n",
       "      <td>39</td>\n",
       "      <td>...</td>\n",
       "      <td>0.0</td>\n",
       "      <td>13:05:00</td>\n",
       "      <td>49.0</td>\n",
       "      <td>NaN</td>\n",
       "      <td>NaN</td>\n",
       "      <td>I</td>\n",
       "      <td>0</td>\n",
       "      <td>0</td>\n",
       "      <td>-0.702779</td>\n",
       "      <td>False</td>\n",
       "    </tr>\n",
       "    <tr>\n",
       "      <td>3</td>\n",
       "      <td>2018090600</td>\n",
       "      <td>190</td>\n",
       "      <td>(13:01) (Shotgun) M.Ryan pass deep left to J.J...</td>\n",
       "      <td>1</td>\n",
       "      <td>3</td>\n",
       "      <td>10</td>\n",
       "      <td>ATL</td>\n",
       "      <td>play_type_pass</td>\n",
       "      <td>PHI</td>\n",
       "      <td>39</td>\n",
       "      <td>...</td>\n",
       "      <td>0.0</td>\n",
       "      <td>13:01:00</td>\n",
       "      <td>49.0</td>\n",
       "      <td>NaN</td>\n",
       "      <td>NaN</td>\n",
       "      <td>C</td>\n",
       "      <td>33</td>\n",
       "      <td>33</td>\n",
       "      <td>3.047530</td>\n",
       "      <td>False</td>\n",
       "    </tr>\n",
       "    <tr>\n",
       "      <td>4</td>\n",
       "      <td>2018090600</td>\n",
       "      <td>256</td>\n",
       "      <td>(10:59) (Shotgun) M.Ryan pass incomplete short...</td>\n",
       "      <td>1</td>\n",
       "      <td>3</td>\n",
       "      <td>1</td>\n",
       "      <td>ATL</td>\n",
       "      <td>play_type_pass</td>\n",
       "      <td>PHI</td>\n",
       "      <td>1</td>\n",
       "      <td>...</td>\n",
       "      <td>0.0</td>\n",
       "      <td>10:59:00</td>\n",
       "      <td>11.0</td>\n",
       "      <td>NaN</td>\n",
       "      <td>NaN</td>\n",
       "      <td>I</td>\n",
       "      <td>0</td>\n",
       "      <td>0</td>\n",
       "      <td>-0.842272</td>\n",
       "      <td>False</td>\n",
       "    </tr>\n",
       "    <tr>\n",
       "      <td>...</td>\n",
       "      <td>...</td>\n",
       "      <td>...</td>\n",
       "      <td>...</td>\n",
       "      <td>...</td>\n",
       "      <td>...</td>\n",
       "      <td>...</td>\n",
       "      <td>...</td>\n",
       "      <td>...</td>\n",
       "      <td>...</td>\n",
       "      <td>...</td>\n",
       "      <td>...</td>\n",
       "      <td>...</td>\n",
       "      <td>...</td>\n",
       "      <td>...</td>\n",
       "      <td>...</td>\n",
       "      <td>...</td>\n",
       "      <td>...</td>\n",
       "      <td>...</td>\n",
       "      <td>...</td>\n",
       "      <td>...</td>\n",
       "      <td>...</td>\n",
       "    </tr>\n",
       "    <tr>\n",
       "      <td>19234</td>\n",
       "      <td>2018122200</td>\n",
       "      <td>2300</td>\n",
       "      <td>(7:53) J.Johnson pass incomplete short left [K...</td>\n",
       "      <td>3</td>\n",
       "      <td>2</td>\n",
       "      <td>5</td>\n",
       "      <td>WAS</td>\n",
       "      <td>play_type_unknown</td>\n",
       "      <td>WAS</td>\n",
       "      <td>31</td>\n",
       "      <td>...</td>\n",
       "      <td>NaN</td>\n",
       "      <td>NaN</td>\n",
       "      <td>NaN</td>\n",
       "      <td>DH</td>\n",
       "      <td>TEN 24</td>\n",
       "      <td>I</td>\n",
       "      <td>0</td>\n",
       "      <td>5</td>\n",
       "      <td>0.848703</td>\n",
       "      <td>False</td>\n",
       "    </tr>\n",
       "    <tr>\n",
       "      <td>19235</td>\n",
       "      <td>2018122200</td>\n",
       "      <td>3177</td>\n",
       "      <td>(6:53) (Shotgun) B.Gabbert pass incomplete sho...</td>\n",
       "      <td>4</td>\n",
       "      <td>3</td>\n",
       "      <td>7</td>\n",
       "      <td>TEN</td>\n",
       "      <td>play_type_unknown</td>\n",
       "      <td>WAS</td>\n",
       "      <td>37</td>\n",
       "      <td>...</td>\n",
       "      <td>NaN</td>\n",
       "      <td>NaN</td>\n",
       "      <td>NaN</td>\n",
       "      <td>DH</td>\n",
       "      <td>WAS 31</td>\n",
       "      <td>I</td>\n",
       "      <td>0</td>\n",
       "      <td>5</td>\n",
       "      <td>1.227695</td>\n",
       "      <td>False</td>\n",
       "    </tr>\n",
       "    <tr>\n",
       "      <td>19236</td>\n",
       "      <td>2018122201</td>\n",
       "      <td>566</td>\n",
       "      <td>(5:32) (Shotgun) P.Rivers pass deep right to K...</td>\n",
       "      <td>1</td>\n",
       "      <td>3</td>\n",
       "      <td>4</td>\n",
       "      <td>LAC</td>\n",
       "      <td>play_type_unknown</td>\n",
       "      <td>LAC</td>\n",
       "      <td>49</td>\n",
       "      <td>...</td>\n",
       "      <td>NaN</td>\n",
       "      <td>NaN</td>\n",
       "      <td>NaN</td>\n",
       "      <td>OPI</td>\n",
       "      <td>LAC 13</td>\n",
       "      <td>C</td>\n",
       "      <td>27</td>\n",
       "      <td>-10</td>\n",
       "      <td>-0.720168</td>\n",
       "      <td>False</td>\n",
       "    </tr>\n",
       "    <tr>\n",
       "      <td>19237</td>\n",
       "      <td>2018122201</td>\n",
       "      <td>1719</td>\n",
       "      <td>(1:08) P.Rivers pass incomplete deep middle to...</td>\n",
       "      <td>2</td>\n",
       "      <td>3</td>\n",
       "      <td>1</td>\n",
       "      <td>LAC</td>\n",
       "      <td>play_type_unknown</td>\n",
       "      <td>LAC</td>\n",
       "      <td>48</td>\n",
       "      <td>...</td>\n",
       "      <td>NaN</td>\n",
       "      <td>NaN</td>\n",
       "      <td>NaN</td>\n",
       "      <td>DPI</td>\n",
       "      <td>BAL 23</td>\n",
       "      <td>I</td>\n",
       "      <td>0</td>\n",
       "      <td>15</td>\n",
       "      <td>1.336078</td>\n",
       "      <td>True</td>\n",
       "    </tr>\n",
       "    <tr>\n",
       "      <td>19238</td>\n",
       "      <td>2018122201</td>\n",
       "      <td>2649</td>\n",
       "      <td>(7:16) (Shotgun) L.Jackson pass incomplete sho...</td>\n",
       "      <td>3</td>\n",
       "      <td>1</td>\n",
       "      <td>10</td>\n",
       "      <td>BAL</td>\n",
       "      <td>play_type_unknown</td>\n",
       "      <td>LAC</td>\n",
       "      <td>49</td>\n",
       "      <td>...</td>\n",
       "      <td>NaN</td>\n",
       "      <td>NaN</td>\n",
       "      <td>NaN</td>\n",
       "      <td>DPI</td>\n",
       "      <td>LAC 43</td>\n",
       "      <td>I</td>\n",
       "      <td>0</td>\n",
       "      <td>9</td>\n",
       "      <td>0.550256</td>\n",
       "      <td>True</td>\n",
       "    </tr>\n",
       "  </tbody>\n",
       "</table>\n",
       "<p>19239 rows × 27 columns</p>\n",
       "</div>"
      ],
      "text/plain": [
       "           gameId  playId                                    playDescription  \\\n",
       "0      2018090600      75  (15:00) M.Ryan pass short right to J.Jones pus...   \n",
       "1      2018090600     146  (13:10) M.Ryan pass incomplete short right to ...   \n",
       "2      2018090600     168  (13:05) (Shotgun) M.Ryan pass incomplete short...   \n",
       "3      2018090600     190  (13:01) (Shotgun) M.Ryan pass deep left to J.J...   \n",
       "4      2018090600     256  (10:59) (Shotgun) M.Ryan pass incomplete short...   \n",
       "...           ...     ...                                                ...   \n",
       "19234  2018122200    2300  (7:53) J.Johnson pass incomplete short left [K...   \n",
       "19235  2018122200    3177  (6:53) (Shotgun) B.Gabbert pass incomplete sho...   \n",
       "19236  2018122201     566  (5:32) (Shotgun) P.Rivers pass deep right to K...   \n",
       "19237  2018122201    1719  (1:08) P.Rivers pass incomplete deep middle to...   \n",
       "19238  2018122201    2649  (7:16) (Shotgun) L.Jackson pass incomplete sho...   \n",
       "\n",
       "       quarter  down  yardsToGo possessionTeam           playType  \\\n",
       "0            1     1         15            ATL     play_type_pass   \n",
       "1            1     1         10            ATL     play_type_pass   \n",
       "2            1     2         10            ATL     play_type_pass   \n",
       "3            1     3         10            ATL     play_type_pass   \n",
       "4            1     3          1            ATL     play_type_pass   \n",
       "...        ...   ...        ...            ...                ...   \n",
       "19234        3     2          5            WAS  play_type_unknown   \n",
       "19235        4     3          7            TEN  play_type_unknown   \n",
       "19236        1     3          4            LAC  play_type_unknown   \n",
       "19237        2     3          1            LAC  play_type_unknown   \n",
       "19238        3     1         10            BAL  play_type_unknown   \n",
       "\n",
       "      yardlineSide  yardlineNumber  ... preSnapHomeScore gameClock  \\\n",
       "0              ATL              20  ...              0.0  15:00:00   \n",
       "1              PHI              39  ...              0.0  13:10:00   \n",
       "2              PHI              39  ...              0.0  13:05:00   \n",
       "3              PHI              39  ...              0.0  13:01:00   \n",
       "4              PHI               1  ...              0.0  10:59:00   \n",
       "...            ...             ...  ...              ...       ...   \n",
       "19234          WAS              31  ...              NaN       NaN   \n",
       "19235          WAS              37  ...              NaN       NaN   \n",
       "19236          LAC              49  ...              NaN       NaN   \n",
       "19237          LAC              48  ...              NaN       NaN   \n",
       "19238          LAC              49  ...              NaN       NaN   \n",
       "\n",
       "       absoluteYardlineNumber  penaltyCodes penaltyJerseyNumbers passResult  \\\n",
       "0                        90.0           NaN                  NaN          C   \n",
       "1                        49.0           NaN                  NaN          I   \n",
       "2                        49.0           NaN                  NaN          I   \n",
       "3                        49.0           NaN                  NaN          C   \n",
       "4                        11.0           NaN                  NaN          I   \n",
       "...                       ...           ...                  ...        ...   \n",
       "19234                     NaN            DH               TEN 24          I   \n",
       "19235                     NaN            DH               WAS 31          I   \n",
       "19236                     NaN           OPI               LAC 13          C   \n",
       "19237                     NaN           DPI               BAL 23          I   \n",
       "19238                     NaN           DPI               LAC 43          I   \n",
       "\n",
       "       offensePlayResult  playResult       epa  isDefensivePI  \n",
       "0                     10          10  0.261827          False  \n",
       "1                      0           0 -0.372360          False  \n",
       "2                      0           0 -0.702779          False  \n",
       "3                     33          33  3.047530          False  \n",
       "4                      0           0 -0.842272          False  \n",
       "...                  ...         ...       ...            ...  \n",
       "19234                  0           5  0.848703          False  \n",
       "19235                  0           5  1.227695          False  \n",
       "19236                 27         -10 -0.720168          False  \n",
       "19237                  0          15  1.336078           True  \n",
       "19238                  0           9  0.550256           True  \n",
       "\n",
       "[19239 rows x 27 columns]"
      ]
     },
     "execution_count": 3,
     "metadata": {},
     "output_type": "execute_result"
    }
   ],
   "source": [
    "df"
   ]
  },
  {
   "cell_type": "code",
   "execution_count": 4,
   "metadata": {
    "colab": {
     "base_uri": "https://localhost:8080/",
     "height": 394
    },
    "id": "alQ2xOOqtA-W",
    "outputId": "1a474d2a-d257-49d4-d9ef-86f8d6a672b6"
   },
   "outputs": [
    {
     "data": {
      "text/html": [
       "<div>\n",
       "<style scoped>\n",
       "    .dataframe tbody tr th:only-of-type {\n",
       "        vertical-align: middle;\n",
       "    }\n",
       "\n",
       "    .dataframe tbody tr th {\n",
       "        vertical-align: top;\n",
       "    }\n",
       "\n",
       "    .dataframe thead th {\n",
       "        text-align: right;\n",
       "    }\n",
       "</style>\n",
       "<table border=\"1\" class=\"dataframe\">\n",
       "  <thead>\n",
       "    <tr style=\"text-align: right;\">\n",
       "      <th></th>\n",
       "      <th>gameId</th>\n",
       "      <th>playId</th>\n",
       "      <th>playDescription</th>\n",
       "      <th>quarter</th>\n",
       "      <th>down</th>\n",
       "      <th>yardsToGo</th>\n",
       "      <th>possessionTeam</th>\n",
       "      <th>playType</th>\n",
       "      <th>yardlineSide</th>\n",
       "      <th>yardlineNumber</th>\n",
       "      <th>...</th>\n",
       "      <th>preSnapHomeScore</th>\n",
       "      <th>gameClock</th>\n",
       "      <th>absoluteYardlineNumber</th>\n",
       "      <th>penaltyCodes</th>\n",
       "      <th>penaltyJerseyNumbers</th>\n",
       "      <th>passResult</th>\n",
       "      <th>offensePlayResult</th>\n",
       "      <th>playResult</th>\n",
       "      <th>epa</th>\n",
       "      <th>isDefensivePI</th>\n",
       "    </tr>\n",
       "  </thead>\n",
       "  <tbody>\n",
       "    <tr>\n",
       "      <td>0</td>\n",
       "      <td>2018090600</td>\n",
       "      <td>75</td>\n",
       "      <td>(15:00) M.Ryan pass short right to J.Jones pus...</td>\n",
       "      <td>1</td>\n",
       "      <td>1</td>\n",
       "      <td>15</td>\n",
       "      <td>ATL</td>\n",
       "      <td>play_type_pass</td>\n",
       "      <td>ATL</td>\n",
       "      <td>20</td>\n",
       "      <td>...</td>\n",
       "      <td>0.0</td>\n",
       "      <td>15:00:00</td>\n",
       "      <td>90.0</td>\n",
       "      <td>NaN</td>\n",
       "      <td>NaN</td>\n",
       "      <td>C</td>\n",
       "      <td>10</td>\n",
       "      <td>10</td>\n",
       "      <td>0.261827</td>\n",
       "      <td>False</td>\n",
       "    </tr>\n",
       "    <tr>\n",
       "      <td>1</td>\n",
       "      <td>2018090600</td>\n",
       "      <td>146</td>\n",
       "      <td>(13:10) M.Ryan pass incomplete short right to ...</td>\n",
       "      <td>1</td>\n",
       "      <td>1</td>\n",
       "      <td>10</td>\n",
       "      <td>ATL</td>\n",
       "      <td>play_type_pass</td>\n",
       "      <td>PHI</td>\n",
       "      <td>39</td>\n",
       "      <td>...</td>\n",
       "      <td>0.0</td>\n",
       "      <td>13:10:00</td>\n",
       "      <td>49.0</td>\n",
       "      <td>NaN</td>\n",
       "      <td>NaN</td>\n",
       "      <td>I</td>\n",
       "      <td>0</td>\n",
       "      <td>0</td>\n",
       "      <td>-0.372360</td>\n",
       "      <td>False</td>\n",
       "    </tr>\n",
       "    <tr>\n",
       "      <td>2</td>\n",
       "      <td>2018090600</td>\n",
       "      <td>168</td>\n",
       "      <td>(13:05) (Shotgun) M.Ryan pass incomplete short...</td>\n",
       "      <td>1</td>\n",
       "      <td>2</td>\n",
       "      <td>10</td>\n",
       "      <td>ATL</td>\n",
       "      <td>play_type_pass</td>\n",
       "      <td>PHI</td>\n",
       "      <td>39</td>\n",
       "      <td>...</td>\n",
       "      <td>0.0</td>\n",
       "      <td>13:05:00</td>\n",
       "      <td>49.0</td>\n",
       "      <td>NaN</td>\n",
       "      <td>NaN</td>\n",
       "      <td>I</td>\n",
       "      <td>0</td>\n",
       "      <td>0</td>\n",
       "      <td>-0.702779</td>\n",
       "      <td>False</td>\n",
       "    </tr>\n",
       "    <tr>\n",
       "      <td>3</td>\n",
       "      <td>2018090600</td>\n",
       "      <td>190</td>\n",
       "      <td>(13:01) (Shotgun) M.Ryan pass deep left to J.J...</td>\n",
       "      <td>1</td>\n",
       "      <td>3</td>\n",
       "      <td>10</td>\n",
       "      <td>ATL</td>\n",
       "      <td>play_type_pass</td>\n",
       "      <td>PHI</td>\n",
       "      <td>39</td>\n",
       "      <td>...</td>\n",
       "      <td>0.0</td>\n",
       "      <td>13:01:00</td>\n",
       "      <td>49.0</td>\n",
       "      <td>NaN</td>\n",
       "      <td>NaN</td>\n",
       "      <td>C</td>\n",
       "      <td>33</td>\n",
       "      <td>33</td>\n",
       "      <td>3.047530</td>\n",
       "      <td>False</td>\n",
       "    </tr>\n",
       "    <tr>\n",
       "      <td>4</td>\n",
       "      <td>2018090600</td>\n",
       "      <td>256</td>\n",
       "      <td>(10:59) (Shotgun) M.Ryan pass incomplete short...</td>\n",
       "      <td>1</td>\n",
       "      <td>3</td>\n",
       "      <td>1</td>\n",
       "      <td>ATL</td>\n",
       "      <td>play_type_pass</td>\n",
       "      <td>PHI</td>\n",
       "      <td>1</td>\n",
       "      <td>...</td>\n",
       "      <td>0.0</td>\n",
       "      <td>10:59:00</td>\n",
       "      <td>11.0</td>\n",
       "      <td>NaN</td>\n",
       "      <td>NaN</td>\n",
       "      <td>I</td>\n",
       "      <td>0</td>\n",
       "      <td>0</td>\n",
       "      <td>-0.842272</td>\n",
       "      <td>False</td>\n",
       "    </tr>\n",
       "  </tbody>\n",
       "</table>\n",
       "<p>5 rows × 27 columns</p>\n",
       "</div>"
      ],
      "text/plain": [
       "       gameId  playId                                    playDescription  \\\n",
       "0  2018090600      75  (15:00) M.Ryan pass short right to J.Jones pus...   \n",
       "1  2018090600     146  (13:10) M.Ryan pass incomplete short right to ...   \n",
       "2  2018090600     168  (13:05) (Shotgun) M.Ryan pass incomplete short...   \n",
       "3  2018090600     190  (13:01) (Shotgun) M.Ryan pass deep left to J.J...   \n",
       "4  2018090600     256  (10:59) (Shotgun) M.Ryan pass incomplete short...   \n",
       "\n",
       "   quarter  down  yardsToGo possessionTeam        playType yardlineSide  \\\n",
       "0        1     1         15            ATL  play_type_pass          ATL   \n",
       "1        1     1         10            ATL  play_type_pass          PHI   \n",
       "2        1     2         10            ATL  play_type_pass          PHI   \n",
       "3        1     3         10            ATL  play_type_pass          PHI   \n",
       "4        1     3          1            ATL  play_type_pass          PHI   \n",
       "\n",
       "   yardlineNumber  ... preSnapHomeScore gameClock  absoluteYardlineNumber  \\\n",
       "0              20  ...              0.0  15:00:00                    90.0   \n",
       "1              39  ...              0.0  13:10:00                    49.0   \n",
       "2              39  ...              0.0  13:05:00                    49.0   \n",
       "3              39  ...              0.0  13:01:00                    49.0   \n",
       "4               1  ...              0.0  10:59:00                    11.0   \n",
       "\n",
       "   penaltyCodes penaltyJerseyNumbers passResult  offensePlayResult  \\\n",
       "0           NaN                  NaN          C                 10   \n",
       "1           NaN                  NaN          I                  0   \n",
       "2           NaN                  NaN          I                  0   \n",
       "3           NaN                  NaN          C                 33   \n",
       "4           NaN                  NaN          I                  0   \n",
       "\n",
       "   playResult       epa  isDefensivePI  \n",
       "0          10  0.261827          False  \n",
       "1           0 -0.372360          False  \n",
       "2           0 -0.702779          False  \n",
       "3          33  3.047530          False  \n",
       "4           0 -0.842272          False  \n",
       "\n",
       "[5 rows x 27 columns]"
      ]
     },
     "execution_count": 4,
     "metadata": {},
     "output_type": "execute_result"
    }
   ],
   "source": [
    "df.head()"
   ]
  },
  {
   "cell_type": "code",
   "execution_count": 5,
   "metadata": {
    "colab": {
     "base_uri": "https://localhost:8080/"
    },
    "id": "zKiHXUo-tA-a",
    "outputId": "7e3303cc-7079-427f-e3c1-6fe1e7a985ac"
   },
   "outputs": [
    {
     "name": "stdout",
     "output_type": "stream",
     "text": [
      "The shape of the data:\n",
      " (19239, 27) \n",
      "The first 5 rows are:\n",
      "        gameId  playId                                    playDescription  \\\n",
      "0  2018090600      75  (15:00) M.Ryan pass short right to J.Jones pus...   \n",
      "1  2018090600     146  (13:10) M.Ryan pass incomplete short right to ...   \n",
      "2  2018090600     168  (13:05) (Shotgun) M.Ryan pass incomplete short...   \n",
      "3  2018090600     190  (13:01) (Shotgun) M.Ryan pass deep left to J.J...   \n",
      "4  2018090600     256  (10:59) (Shotgun) M.Ryan pass incomplete short...   \n",
      "\n",
      "   quarter  down  yardsToGo possessionTeam        playType yardlineSide  \\\n",
      "0        1     1         15            ATL  play_type_pass          ATL   \n",
      "1        1     1         10            ATL  play_type_pass          PHI   \n",
      "2        1     2         10            ATL  play_type_pass          PHI   \n",
      "3        1     3         10            ATL  play_type_pass          PHI   \n",
      "4        1     3          1            ATL  play_type_pass          PHI   \n",
      "\n",
      "   yardlineNumber  ... preSnapHomeScore gameClock  absoluteYardlineNumber  \\\n",
      "0              20  ...              0.0  15:00:00                    90.0   \n",
      "1              39  ...              0.0  13:10:00                    49.0   \n",
      "2              39  ...              0.0  13:05:00                    49.0   \n",
      "3              39  ...              0.0  13:01:00                    49.0   \n",
      "4               1  ...              0.0  10:59:00                    11.0   \n",
      "\n",
      "   penaltyCodes penaltyJerseyNumbers passResult  offensePlayResult  \\\n",
      "0           NaN                  NaN          C                 10   \n",
      "1           NaN                  NaN          I                  0   \n",
      "2           NaN                  NaN          I                  0   \n",
      "3           NaN                  NaN          C                 33   \n",
      "4           NaN                  NaN          I                  0   \n",
      "\n",
      "   playResult       epa  isDefensivePI  \n",
      "0          10  0.261827          False  \n",
      "1           0 -0.372360          False  \n",
      "2           0 -0.702779          False  \n",
      "3          33  3.047530          False  \n",
      "4           0 -0.842272          False  \n",
      "\n",
      "[5 rows x 27 columns] \n",
      "The last 5 rows are:\n",
      "            gameId  playId                                    playDescription  \\\n",
      "19234  2018122200    2300  (7:53) J.Johnson pass incomplete short left [K...   \n",
      "19235  2018122200    3177  (6:53) (Shotgun) B.Gabbert pass incomplete sho...   \n",
      "19236  2018122201     566  (5:32) (Shotgun) P.Rivers pass deep right to K...   \n",
      "19237  2018122201    1719  (1:08) P.Rivers pass incomplete deep middle to...   \n",
      "19238  2018122201    2649  (7:16) (Shotgun) L.Jackson pass incomplete sho...   \n",
      "\n",
      "       quarter  down  yardsToGo possessionTeam           playType  \\\n",
      "19234        3     2          5            WAS  play_type_unknown   \n",
      "19235        4     3          7            TEN  play_type_unknown   \n",
      "19236        1     3          4            LAC  play_type_unknown   \n",
      "19237        2     3          1            LAC  play_type_unknown   \n",
      "19238        3     1         10            BAL  play_type_unknown   \n",
      "\n",
      "      yardlineSide  yardlineNumber  ... preSnapHomeScore gameClock  \\\n",
      "19234          WAS              31  ...              NaN       NaN   \n",
      "19235          WAS              37  ...              NaN       NaN   \n",
      "19236          LAC              49  ...              NaN       NaN   \n",
      "19237          LAC              48  ...              NaN       NaN   \n",
      "19238          LAC              49  ...              NaN       NaN   \n",
      "\n",
      "       absoluteYardlineNumber  penaltyCodes penaltyJerseyNumbers passResult  \\\n",
      "19234                     NaN            DH               TEN 24          I   \n",
      "19235                     NaN            DH               WAS 31          I   \n",
      "19236                     NaN           OPI               LAC 13          C   \n",
      "19237                     NaN           DPI               BAL 23          I   \n",
      "19238                     NaN           DPI               LAC 43          I   \n",
      "\n",
      "       offensePlayResult  playResult       epa  isDefensivePI  \n",
      "19234                  0           5  0.848703          False  \n",
      "19235                  0           5  1.227695          False  \n",
      "19236                 27         -10 -0.720168          False  \n",
      "19237                  0          15  1.336078           True  \n",
      "19238                  0           9  0.550256           True  \n",
      "\n",
      "[5 rows x 27 columns] \n",
      "The column names are:\n",
      " Index(['gameId', 'playId', 'playDescription', 'quarter', 'down', 'yardsToGo',\n",
      "       'possessionTeam', 'playType', 'yardlineSide', 'yardlineNumber',\n",
      "       'offenseFormation', 'personnelO', 'defendersInTheBox',\n",
      "       'numberOfPassRushers', 'personnelD', 'typeDropback',\n",
      "       'preSnapVisitorScore', 'preSnapHomeScore', 'gameClock',\n",
      "       'absoluteYardlineNumber', 'penaltyCodes', 'penaltyJerseyNumbers',\n",
      "       'passResult', 'offensePlayResult', 'playResult', 'epa',\n",
      "       'isDefensivePI'],\n",
      "      dtype='object')\n"
     ]
    }
   ],
   "source": [
    "print(\"The shape of the data:\\n\",\n",
    "      df.shape, \n",
    "      \"\\nThe first 5 rows are:\\n\", \n",
    "      df.head(), \n",
    "      \"\\nThe last 5 rows are:\\n\",\n",
    "      df.tail(), \n",
    "      \"\\nThe column names are:\\n\",\n",
    "      df.columns)\n",
    "      "
   ]
  },
  {
   "cell_type": "markdown",
   "metadata": {
    "id": "2LhY-XO-tA-c"
   },
   "source": [
    "# Part 1: Variable Analysis\n",
    "\n",
    "## Variable 1rst Selection:\n",
    "*Guys I think we should explain here a bit why are we taking these variables, I thought to leave this section to discuss with you*"
   ]
  },
  {
   "cell_type": "code",
   "execution_count": 6,
   "metadata": {
    "colab": {
     "base_uri": "https://localhost:8080/"
    },
    "id": "hBDW_UQPtA-c",
    "outputId": "df32df23-d11f-4d6d-e5fd-3da28ca9f696"
   },
   "outputs": [
    {
     "name": "stdout",
     "output_type": "stream",
     "text": [
      "Yards To Go :\n",
      " 10    8684\n",
      "6     1071\n",
      "7     1047\n",
      "8     1003\n",
      "5      992\n",
      "9      932\n",
      "4      852\n",
      "3      769\n",
      "2      618\n",
      "1      522\n",
      "11     432\n",
      "15     421\n",
      "12     366\n",
      "20     310\n",
      "13     257\n",
      "14     224\n",
      "16     159\n",
      "17     156\n",
      "18     127\n",
      "19     102\n",
      "21      45\n",
      "22      37\n",
      "25      35\n",
      "23      24\n",
      "30      13\n",
      "24      12\n",
      "26      10\n",
      "28       7\n",
      "27       4\n",
      "29       3\n",
      "32       2\n",
      "41       1\n",
      "38       1\n",
      "33       1\n",
      "Name: yardsToGo, dtype: int64 Play Type:\n",
      " play_type_pass       17346\n",
      "play_type_sack        1260\n",
      "play_type_unknown      633\n",
      "Name: playType, dtype: int64 Offense Formation:\n",
      " SHOTGUN       12627\n",
      "SINGLEBACK     2790\n",
      "EMPTY          2428\n",
      "I_FORM          915\n",
      "PISTOL          251\n",
      "JUMBO            51\n",
      "WILDCAT          36\n",
      "Name: offenseFormation, dtype: int64 Offensive Personnel:\n",
      " 1 RB, 1 TE, 3 WR                            13716\n",
      "1 RB, 2 TE, 2 WR                             2737\n",
      "2 RB, 1 TE, 2 WR                             1083\n",
      "1 RB, 3 TE, 1 WR                              406\n",
      "1 RB, 0 TE, 4 WR                              273\n",
      "0 RB, 1 TE, 4 WR                              173\n",
      "2 RB, 2 TE, 1 WR                              165\n",
      "2 RB, 0 TE, 3 WR                              148\n",
      "6 OL, 1 RB, 1 TE, 2 WR                        111\n",
      "2 QB, 1 RB, 1 TE, 2 WR                         56\n",
      "0 RB, 2 TE, 3 WR                               51\n",
      "6 OL, 1 RB, 2 TE, 1 WR                         48\n",
      "0 RB, 0 TE, 5 WR                               36\n",
      "6 OL, 1 RB, 0 TE, 3 WR                         29\n",
      "6 OL, 2 RB, 2 TE, 0 WR                         21\n",
      "3 RB, 1 TE, 1 WR                               19\n",
      "3 RB, 0 TE, 2 WR                               13\n",
      "2 RB, 3 TE, 0 WR                               12\n",
      "6 OL, 2 RB, 1 TE, 1 WR                         11\n",
      "6 OL, 2 RB, 0 TE, 2 WR                         10\n",
      "6 OL, 1 RB, 3 TE, 0 WR                          9\n",
      "1 RB, 4 TE, 0 WR                                8\n",
      "1 RB, 1 TE, 2 WR,1 DL                           7\n",
      "2 QB, 1 RB, 0 TE, 3 WR                          7\n",
      "2 QB, 0 RB, 1 TE, 3 WR                          6\n",
      "2 QB, 2 RB, 1 TE, 1 WR                          6\n",
      "1 RB, 2 TE, 1 WR,1 DL                           5\n",
      "2 QB, 1 RB, 2 TE, 1 WR                          4\n",
      "6 OL, 1 RB, 2 TE, 0 WR,1 DL                     4\n",
      "0 RB, 3 TE, 2 WR                                3\n",
      "1 RB, 2 TE, 1 WR,1 DB                           3\n",
      "6 OL, 2 RB, 1 TE, 0 WR,1 DL                     3\n",
      "0 RB, 1 TE, 1 WR,1 P,3 LB,1 LS,1 DL,3 DB        2\n",
      "3 RB, 2 TE, 0 WR                                2\n",
      "6 OL, 0 RB, 1 TE, 0 WR,1 P,1 LS,1 DL,1 K        2\n",
      "7 OL, 0 RB, 1 TE, 0 WR,1 P,1 LS,1 K             1\n",
      "1 RB, 1 TE, 2 WR,1 DB                           1\n",
      "0 RB, 1 TE, 0 WR,1 P,3 LB,1 LS,1 DL,4 DB        1\n",
      "0 RB, 2 TE, 0 WR,1 P,1 LS,1 DL,1 K              1\n",
      "1 RB, 0 TE, 3 WR,1 DL                           1\n",
      "2 RB, 2 TE, 0 WR,1 P,3 LB,1 LS,2 DB             1\n",
      "4 RB, 1 TE, 0 WR                                1\n",
      "1 RB, 0 TE, 0 WR,1 P,4 LB,1 LS,3 DB             1\n",
      "1 RB, 1 TE, 2 WR,1 P,3 LB,1 LS,2 DB             1\n",
      "6 OL, 1 RB, 1 TE, 1 WR,1 DL                     1\n",
      "1 RB, 1 TE, 1 WR,1 P,4 LB,1 LS,1 DL,1 DB        1\n",
      "1 RB, 2 TE, 1 WR,1 P,4 LB,1 LS,1 DB             1\n",
      "2 QB, 2 RB, 2 TE, 0 WR                          1\n",
      "1 RB, 2 TE, 1 WR,1 P,2 LB,1 LS,3 DB             1\n",
      "0 RB, 1 TE, 0 WR,1 P,1 LS,2 DL,1 K              1\n",
      "0 RB, 2 TE, 0 WR,1 P,3 LB,1 LS,4 DB             1\n",
      "1 RB, 1 TE, 2 WR                                1\n",
      "1 RB, 0 TE, 0 WR,1 P,3 LB,1 LS,1 DL,4 DB        1\n",
      "2 QB, 1 RB, 1 TE, 1 WR,1 DL                     1\n",
      "6 OL, 0 RB, 0 TE, 0 WR,4 DL                     1\n",
      "1 RB, 0 TE, 3 WR,1 DB                           1\n",
      "Name: personnelO, dtype: int64 Defenders In The Box:\n",
      " 6.0     8825\n",
      "7.0     4401\n",
      "5.0     3450\n",
      "4.0     1170\n",
      "8.0     1059\n",
      "3.0      133\n",
      "9.0       77\n",
      "10.0      31\n",
      "11.0      15\n",
      "2.0       14\n",
      "1.0        2\n",
      "Name: defendersInTheBox, dtype: int64 Number Of Pass Rushers:\n",
      " 4.0     11521\n",
      "5.0      3646\n",
      "3.0      1597\n",
      "6.0      1136\n",
      "2.0       253\n",
      "7.0       242\n",
      "0.0       106\n",
      "1.0        73\n",
      "8.0        30\n",
      "10.0        1\n",
      "9.0         1\n",
      "Name: numberOfPassRushers, dtype: int64 Defensive personnel:\n",
      " 4 DL, 2 LB, 5 DB                    6652\n",
      "3 DL, 3 LB, 5 DB                    3103\n",
      "4 DL, 3 LB, 4 DB                    2407\n",
      "2 DL, 4 LB, 5 DB                    2109\n",
      "4 DL, 1 LB, 6 DB                    1104\n",
      "3 DL, 2 LB, 6 DB                    1047\n",
      "2 DL, 3 LB, 6 DB                     917\n",
      "3 DL, 4 LB, 4 DB                     743\n",
      "1 DL, 4 LB, 6 DB                     311\n",
      "1 DL, 5 LB, 5 DB                     266\n",
      "1 DL, 3 LB, 7 DB                     102\n",
      "5 DL, 2 LB, 4 DB                      93\n",
      "3 DL, 1 LB, 7 DB                      82\n",
      "2 DL, 2 LB, 7 DB                      71\n",
      "0 DL, 4 LB, 7 DB                      32\n",
      "4 DL, 0 LB, 7 DB                      24\n",
      "4 DL, 4 LB, 3 DB                      23\n",
      "0 DL, 5 LB, 6 DB                      17\n",
      "5 DL, 3 LB, 3 DB                      14\n",
      "5 DL, 1 LB, 5 DB                      13\n",
      "6 DL, 4 LB, 1 DB                      12\n",
      "6 DL, 3 LB, 2 DB                      12\n",
      "0 DL, 6 LB, 5 DB                       6\n",
      "2 DL, 3 LB, 5 DB, 1 WR                 4\n",
      "4 DL, 5 LB, 2 DB                       4\n",
      "6 DL, 2 LB, 3 DB                       3\n",
      "3 DL, 1 LB, 6 DB, 1 WR                 3\n",
      "5 DL, 3 LB, 2 DB, 1 OL                 3\n",
      "6 DL, 1 LB, 4 DB                       2\n",
      "4 DL, 2 LB, 4 DB                       2\n",
      "3 DL, 2 LB, 5 DB, 1 WR                 2\n",
      "3 DL, 1 LB, 6 DB, 1 TE                 2\n",
      "2 DL, 3 LB, 5 DB                       2\n",
      "5 DL, 5 LB, 1 DB                       1\n",
      "2 DL, 2 LB, 6 DB, 1 WR                 1\n",
      "5 DL, 4 LB, 2 DB                       1\n",
      "1 DL, 3 LB, 6 DB, 1 WR                 1\n",
      "1 DL, 4 LB, 3 DB, 1 RB,2 WR            1\n",
      "0 DL, 4 LB, 4 DB, 1 RB,2 WR            1\n",
      "1 DL, 4 LB, 5 DB                       1\n",
      "3 DL, 3 LB, 4 DB, 1 WR                 1\n",
      "3 DL, 2 LB, 5 DB                       1\n",
      "3 DL, 0 LB, 8 DB                       1\n",
      "1 DL, 3 LB, 5 DB, 1 TE,1 WR            1\n",
      "1 DL, 4 LB, 5 DB, 1 RB                 1\n",
      "0 DL, 3 LB, 3 DB, 2 RB,2 TE,1 WR       1\n",
      "2 DL, 4 LB, 4 DB                       1\n",
      "3 DL, 5 LB, 3 DB                       1\n",
      "4 DL, 3 LB, 3 DB, 1 WR                 1\n",
      "1 DL, 2 LB, 7 DB                       1\n",
      "7 DL, 3 LB, 1 DB                       1\n",
      "0 DL, 3 LB, 4 DB, 3 RB,1 QB            1\n",
      "2 DL, 4 LB, 4 DB, 1 RB                 1\n",
      "0 DL, 2 LB, 4 DB, 3 RB,2 WR            1\n",
      "0 DL, 4 LB, 4 DB, 1 TE,2 WR            1\n",
      "4 DL, 4 LB, 2 DB                       1\n",
      "Name: personnelD, dtype: int64 The Result of Pass Play:\n",
      " C     11370\n",
      "I      6135\n",
      "S      1308\n",
      "IN      420\n",
      "R         4\n",
      "Name: passResult, dtype: int64 Offense Play Result:\n",
      " 0     6820\n",
      "6      817\n",
      "5      789\n",
      "7      789\n",
      "8      744\n",
      "      ... \n",
      "97       1\n",
      "89       1\n",
      "85       1\n",
      "69       1\n",
      "79       1\n",
      "Name: offensePlayResult, Length: 104, dtype: int64 Play Results:\n",
      "  0     6319\n",
      " 5      987\n",
      " 6      813\n",
      " 7      786\n",
      " 8      744\n",
      "       ... \n",
      "-41       1\n",
      " 85       1\n",
      " 69       1\n",
      "-27       1\n",
      "-24       1\n",
      "Name: playResult, Length: 123, dtype: int64\n"
     ]
    }
   ],
   "source": [
    "print(\n",
    "    \"Yards To Go :\\n\",df[\"yardsToGo\"].value_counts(),\n",
    "    \"Play Type:\\n\", df[\"playType\"].value_counts(),\n",
    "    \"Offense Formation:\\n\", df[\"offenseFormation\"].value_counts(),\n",
    "    \"Offensive Personnel:\\n\", df[\"personnelO\"].value_counts(),\n",
    "    \"Defenders In The Box:\\n\", df[\"defendersInTheBox\"].value_counts(),\n",
    "    \"Number Of Pass Rushers:\\n\", df[\"numberOfPassRushers\"].value_counts(),\n",
    "    \"Defensive personnel:\\n\", df[\"personnelD\"].value_counts(),\n",
    "    \"The Result of Pass Play:\\n\", df[\"passResult\"].value_counts(),\n",
    "    \"Offense Play Result:\\n\", df[\"offensePlayResult\"].value_counts(),\n",
    "    \"Play Results:\\n\", df[\"playResult\"].value_counts(),\n",
    "     )"
   ]
  },
  {
   "cell_type": "code",
   "execution_count": 7,
   "metadata": {
    "id": "5utVee_Sz9pN"
   },
   "outputs": [],
   "source": [
    "#    Mohamad Quteifan\n",
    "#\"Yards To Go :\\n\",df[\"yardsToGo\"].value_counts(),\n",
    "#    \"Play Type:\\n\", df[\"playType\"].value_counts(),\n",
    "#    \"Offense Formation:\\n\", df[\"offenseFormation\"].value_counts(),\n",
    "#    \"Offensive Personnel:\\n\", df[\"personnelO\"].value_counts(),\n",
    "\n",
    "# Kayla Thompson\n",
    "    #\"Defenders In The Box:\\n\", df[\"defendersInTheBox\"].value_counts(),\n",
    "    #\"Number Of Pass Rushers:\\n\", df[\"numberOfPassRushers\"].value_counts(),\n",
    "    #\"Defensive personnel:\\n\", df[\"personnelD\"].value_counts(),\n",
    "\n",
    "#Gloria Moore\n",
    "    #\"The Result of Pass Play:\\n\", df[\"passResult\"].value_counts(), The resut\n",
    "    #\"Play Results:\\n\", df[\"playResult\"].value_counts(),\n"
   ]
  },
  {
   "cell_type": "markdown",
   "metadata": {
    "id": "hQgWbZo7tA-d"
   },
   "source": [
    "#### Quick Variable analysis: \n",
    "We made a few key discoveries running through the values of each feature(features that matter for the researh). One key discover comes from the playType feature. We can see that all the plays are passing plays and the data does not contain any running plays. I have to review the \"play_type_unknown\" value and ensure that it is a pass play. The other value, \"play_type_sack\" is a negative result of the pass play and it is still classified as a pass play. This was not known before and will change the overall problem statement. \n",
    "\n",
    "KEY TAKEAWAYS:\n",
    "1. No Running Plays\n",
    "\n",
    "2. Shotgun most common play\n",
    "\n",
    "3. Most common offensive formation: 1 RB, 1 TE, 3 WR, 2nd most common: 1 RB, 2 TE, 2 WR\n",
    "\n",
    "4. There usually 6-7 defenders in the box but this varies -- 4 to 8 is rather consistent.\n",
    "\n",
    "5. Usually 4 defenders rush the passer\n",
    "\n",
    "6. Most common defensive formation: 4 DL, 2 LB, 5 DB, with 3 DL, 3 LB, 5 DB as the runner up\n",
    "- defense formations deviate more than offensive formations.\n",
    "\n",
    "7. Defense usually wins the battle with the offense on most plays, the most common play result ==0\n",
    "\n",
    "8. More completed passes than \n",
    "\n",
    "9. \n",
    "\n",
    "10. \n",
    "\n",
    "11. \n"
   ]
  },
  {
   "cell_type": "markdown",
   "metadata": {
    "id": "EJ5Iw1NdtA-f"
   },
   "source": [
    "Look at what the value \"play_type_unknown\" represents"
   ]
  },
  {
   "cell_type": "code",
   "execution_count": 8,
   "metadata": {
    "colab": {
     "base_uri": "https://localhost:8080/",
     "height": 779
    },
    "id": "cUPoq07GtA-g",
    "outputId": "9fcdd854-b91f-4ca5-8f7b-8c58c94676b5"
   },
   "outputs": [
    {
     "data": {
      "text/html": [
       "<div>\n",
       "<style scoped>\n",
       "    .dataframe tbody tr th:only-of-type {\n",
       "        vertical-align: middle;\n",
       "    }\n",
       "\n",
       "    .dataframe tbody tr th {\n",
       "        vertical-align: top;\n",
       "    }\n",
       "\n",
       "    .dataframe thead th {\n",
       "        text-align: right;\n",
       "    }\n",
       "</style>\n",
       "<table border=\"1\" class=\"dataframe\">\n",
       "  <thead>\n",
       "    <tr style=\"text-align: right;\">\n",
       "      <th></th>\n",
       "      <th>gameId</th>\n",
       "      <th>playId</th>\n",
       "      <th>playDescription</th>\n",
       "      <th>quarter</th>\n",
       "      <th>down</th>\n",
       "      <th>yardsToGo</th>\n",
       "      <th>possessionTeam</th>\n",
       "      <th>playType</th>\n",
       "      <th>yardlineSide</th>\n",
       "      <th>yardlineNumber</th>\n",
       "      <th>...</th>\n",
       "      <th>preSnapHomeScore</th>\n",
       "      <th>gameClock</th>\n",
       "      <th>absoluteYardlineNumber</th>\n",
       "      <th>penaltyCodes</th>\n",
       "      <th>penaltyJerseyNumbers</th>\n",
       "      <th>passResult</th>\n",
       "      <th>offensePlayResult</th>\n",
       "      <th>playResult</th>\n",
       "      <th>epa</th>\n",
       "      <th>isDefensivePI</th>\n",
       "    </tr>\n",
       "  </thead>\n",
       "  <tbody>\n",
       "    <tr>\n",
       "      <td>18606</td>\n",
       "      <td>2018090600</td>\n",
       "      <td>1226</td>\n",
       "      <td>(8:23) (Shotgun) N.Foles pass incomplete short...</td>\n",
       "      <td>2</td>\n",
       "      <td>3</td>\n",
       "      <td>7</td>\n",
       "      <td>PHI</td>\n",
       "      <td>play_type_unknown</td>\n",
       "      <td>ATL</td>\n",
       "      <td>17</td>\n",
       "      <td>...</td>\n",
       "      <td>NaN</td>\n",
       "      <td>NaN</td>\n",
       "      <td>NaN</td>\n",
       "      <td>DPI</td>\n",
       "      <td>ATL 21</td>\n",
       "      <td>I</td>\n",
       "      <td>0</td>\n",
       "      <td>8</td>\n",
       "      <td>1.169181</td>\n",
       "      <td>True</td>\n",
       "    </tr>\n",
       "    <tr>\n",
       "      <td>18607</td>\n",
       "      <td>2018090600</td>\n",
       "      <td>1715</td>\n",
       "      <td>(1:50) (Shotgun) N.Foles pass short right to N...</td>\n",
       "      <td>2</td>\n",
       "      <td>1</td>\n",
       "      <td>10</td>\n",
       "      <td>PHI</td>\n",
       "      <td>play_type_unknown</td>\n",
       "      <td>PHI</td>\n",
       "      <td>24</td>\n",
       "      <td>...</td>\n",
       "      <td>NaN</td>\n",
       "      <td>NaN</td>\n",
       "      <td>NaN</td>\n",
       "      <td>DH</td>\n",
       "      <td>ATL 21</td>\n",
       "      <td>C</td>\n",
       "      <td>7</td>\n",
       "      <td>5</td>\n",
       "      <td>0.169598</td>\n",
       "      <td>False</td>\n",
       "    </tr>\n",
       "    <tr>\n",
       "      <td>18608</td>\n",
       "      <td>2018090600</td>\n",
       "      <td>2305</td>\n",
       "      <td>(13:44) (Shotgun) N.Foles pass incomplete shor...</td>\n",
       "      <td>3</td>\n",
       "      <td>1</td>\n",
       "      <td>10</td>\n",
       "      <td>PHI</td>\n",
       "      <td>play_type_unknown</td>\n",
       "      <td>PHI</td>\n",
       "      <td>36</td>\n",
       "      <td>...</td>\n",
       "      <td>NaN</td>\n",
       "      <td>NaN</td>\n",
       "      <td>NaN</td>\n",
       "      <td>ICT</td>\n",
       "      <td>ATL 23</td>\n",
       "      <td>I</td>\n",
       "      <td>0</td>\n",
       "      <td>5</td>\n",
       "      <td>0.309866</td>\n",
       "      <td>False</td>\n",
       "    </tr>\n",
       "    <tr>\n",
       "      <td>18609</td>\n",
       "      <td>2018090600</td>\n",
       "      <td>3626</td>\n",
       "      <td>(8:31) (Shotgun) N.Foles pass short right to N...</td>\n",
       "      <td>4</td>\n",
       "      <td>3</td>\n",
       "      <td>4</td>\n",
       "      <td>PHI</td>\n",
       "      <td>play_type_unknown</td>\n",
       "      <td>PHI</td>\n",
       "      <td>31</td>\n",
       "      <td>...</td>\n",
       "      <td>NaN</td>\n",
       "      <td>NaN</td>\n",
       "      <td>NaN</td>\n",
       "      <td>OPI</td>\n",
       "      <td>PHI 86</td>\n",
       "      <td>C</td>\n",
       "      <td>10</td>\n",
       "      <td>-10</td>\n",
       "      <td>-0.694743</td>\n",
       "      <td>False</td>\n",
       "    </tr>\n",
       "    <tr>\n",
       "      <td>18610</td>\n",
       "      <td>2018090600</td>\n",
       "      <td>4439</td>\n",
       "      <td>(:06) (Shotgun) M.Ryan pass incomplete short r...</td>\n",
       "      <td>4</td>\n",
       "      <td>4</td>\n",
       "      <td>10</td>\n",
       "      <td>ATL</td>\n",
       "      <td>play_type_unknown</td>\n",
       "      <td>PHI</td>\n",
       "      <td>10</td>\n",
       "      <td>...</td>\n",
       "      <td>NaN</td>\n",
       "      <td>NaN</td>\n",
       "      <td>NaN</td>\n",
       "      <td>ICT</td>\n",
       "      <td>PHI 58</td>\n",
       "      <td>I</td>\n",
       "      <td>0</td>\n",
       "      <td>5</td>\n",
       "      <td>1.383655</td>\n",
       "      <td>False</td>\n",
       "    </tr>\n",
       "    <tr>\n",
       "      <td>...</td>\n",
       "      <td>...</td>\n",
       "      <td>...</td>\n",
       "      <td>...</td>\n",
       "      <td>...</td>\n",
       "      <td>...</td>\n",
       "      <td>...</td>\n",
       "      <td>...</td>\n",
       "      <td>...</td>\n",
       "      <td>...</td>\n",
       "      <td>...</td>\n",
       "      <td>...</td>\n",
       "      <td>...</td>\n",
       "      <td>...</td>\n",
       "      <td>...</td>\n",
       "      <td>...</td>\n",
       "      <td>...</td>\n",
       "      <td>...</td>\n",
       "      <td>...</td>\n",
       "      <td>...</td>\n",
       "      <td>...</td>\n",
       "      <td>...</td>\n",
       "    </tr>\n",
       "    <tr>\n",
       "      <td>19234</td>\n",
       "      <td>2018122200</td>\n",
       "      <td>2300</td>\n",
       "      <td>(7:53) J.Johnson pass incomplete short left [K...</td>\n",
       "      <td>3</td>\n",
       "      <td>2</td>\n",
       "      <td>5</td>\n",
       "      <td>WAS</td>\n",
       "      <td>play_type_unknown</td>\n",
       "      <td>WAS</td>\n",
       "      <td>31</td>\n",
       "      <td>...</td>\n",
       "      <td>NaN</td>\n",
       "      <td>NaN</td>\n",
       "      <td>NaN</td>\n",
       "      <td>DH</td>\n",
       "      <td>TEN 24</td>\n",
       "      <td>I</td>\n",
       "      <td>0</td>\n",
       "      <td>5</td>\n",
       "      <td>0.848703</td>\n",
       "      <td>False</td>\n",
       "    </tr>\n",
       "    <tr>\n",
       "      <td>19235</td>\n",
       "      <td>2018122200</td>\n",
       "      <td>3177</td>\n",
       "      <td>(6:53) (Shotgun) B.Gabbert pass incomplete sho...</td>\n",
       "      <td>4</td>\n",
       "      <td>3</td>\n",
       "      <td>7</td>\n",
       "      <td>TEN</td>\n",
       "      <td>play_type_unknown</td>\n",
       "      <td>WAS</td>\n",
       "      <td>37</td>\n",
       "      <td>...</td>\n",
       "      <td>NaN</td>\n",
       "      <td>NaN</td>\n",
       "      <td>NaN</td>\n",
       "      <td>DH</td>\n",
       "      <td>WAS 31</td>\n",
       "      <td>I</td>\n",
       "      <td>0</td>\n",
       "      <td>5</td>\n",
       "      <td>1.227695</td>\n",
       "      <td>False</td>\n",
       "    </tr>\n",
       "    <tr>\n",
       "      <td>19236</td>\n",
       "      <td>2018122201</td>\n",
       "      <td>566</td>\n",
       "      <td>(5:32) (Shotgun) P.Rivers pass deep right to K...</td>\n",
       "      <td>1</td>\n",
       "      <td>3</td>\n",
       "      <td>4</td>\n",
       "      <td>LAC</td>\n",
       "      <td>play_type_unknown</td>\n",
       "      <td>LAC</td>\n",
       "      <td>49</td>\n",
       "      <td>...</td>\n",
       "      <td>NaN</td>\n",
       "      <td>NaN</td>\n",
       "      <td>NaN</td>\n",
       "      <td>OPI</td>\n",
       "      <td>LAC 13</td>\n",
       "      <td>C</td>\n",
       "      <td>27</td>\n",
       "      <td>-10</td>\n",
       "      <td>-0.720168</td>\n",
       "      <td>False</td>\n",
       "    </tr>\n",
       "    <tr>\n",
       "      <td>19237</td>\n",
       "      <td>2018122201</td>\n",
       "      <td>1719</td>\n",
       "      <td>(1:08) P.Rivers pass incomplete deep middle to...</td>\n",
       "      <td>2</td>\n",
       "      <td>3</td>\n",
       "      <td>1</td>\n",
       "      <td>LAC</td>\n",
       "      <td>play_type_unknown</td>\n",
       "      <td>LAC</td>\n",
       "      <td>48</td>\n",
       "      <td>...</td>\n",
       "      <td>NaN</td>\n",
       "      <td>NaN</td>\n",
       "      <td>NaN</td>\n",
       "      <td>DPI</td>\n",
       "      <td>BAL 23</td>\n",
       "      <td>I</td>\n",
       "      <td>0</td>\n",
       "      <td>15</td>\n",
       "      <td>1.336078</td>\n",
       "      <td>True</td>\n",
       "    </tr>\n",
       "    <tr>\n",
       "      <td>19238</td>\n",
       "      <td>2018122201</td>\n",
       "      <td>2649</td>\n",
       "      <td>(7:16) (Shotgun) L.Jackson pass incomplete sho...</td>\n",
       "      <td>3</td>\n",
       "      <td>1</td>\n",
       "      <td>10</td>\n",
       "      <td>BAL</td>\n",
       "      <td>play_type_unknown</td>\n",
       "      <td>LAC</td>\n",
       "      <td>49</td>\n",
       "      <td>...</td>\n",
       "      <td>NaN</td>\n",
       "      <td>NaN</td>\n",
       "      <td>NaN</td>\n",
       "      <td>DPI</td>\n",
       "      <td>LAC 43</td>\n",
       "      <td>I</td>\n",
       "      <td>0</td>\n",
       "      <td>9</td>\n",
       "      <td>0.550256</td>\n",
       "      <td>True</td>\n",
       "    </tr>\n",
       "  </tbody>\n",
       "</table>\n",
       "<p>633 rows × 27 columns</p>\n",
       "</div>"
      ],
      "text/plain": [
       "           gameId  playId                                    playDescription  \\\n",
       "18606  2018090600    1226  (8:23) (Shotgun) N.Foles pass incomplete short...   \n",
       "18607  2018090600    1715  (1:50) (Shotgun) N.Foles pass short right to N...   \n",
       "18608  2018090600    2305  (13:44) (Shotgun) N.Foles pass incomplete shor...   \n",
       "18609  2018090600    3626  (8:31) (Shotgun) N.Foles pass short right to N...   \n",
       "18610  2018090600    4439  (:06) (Shotgun) M.Ryan pass incomplete short r...   \n",
       "...           ...     ...                                                ...   \n",
       "19234  2018122200    2300  (7:53) J.Johnson pass incomplete short left [K...   \n",
       "19235  2018122200    3177  (6:53) (Shotgun) B.Gabbert pass incomplete sho...   \n",
       "19236  2018122201     566  (5:32) (Shotgun) P.Rivers pass deep right to K...   \n",
       "19237  2018122201    1719  (1:08) P.Rivers pass incomplete deep middle to...   \n",
       "19238  2018122201    2649  (7:16) (Shotgun) L.Jackson pass incomplete sho...   \n",
       "\n",
       "       quarter  down  yardsToGo possessionTeam           playType  \\\n",
       "18606        2     3          7            PHI  play_type_unknown   \n",
       "18607        2     1         10            PHI  play_type_unknown   \n",
       "18608        3     1         10            PHI  play_type_unknown   \n",
       "18609        4     3          4            PHI  play_type_unknown   \n",
       "18610        4     4         10            ATL  play_type_unknown   \n",
       "...        ...   ...        ...            ...                ...   \n",
       "19234        3     2          5            WAS  play_type_unknown   \n",
       "19235        4     3          7            TEN  play_type_unknown   \n",
       "19236        1     3          4            LAC  play_type_unknown   \n",
       "19237        2     3          1            LAC  play_type_unknown   \n",
       "19238        3     1         10            BAL  play_type_unknown   \n",
       "\n",
       "      yardlineSide  yardlineNumber  ... preSnapHomeScore gameClock  \\\n",
       "18606          ATL              17  ...              NaN       NaN   \n",
       "18607          PHI              24  ...              NaN       NaN   \n",
       "18608          PHI              36  ...              NaN       NaN   \n",
       "18609          PHI              31  ...              NaN       NaN   \n",
       "18610          PHI              10  ...              NaN       NaN   \n",
       "...            ...             ...  ...              ...       ...   \n",
       "19234          WAS              31  ...              NaN       NaN   \n",
       "19235          WAS              37  ...              NaN       NaN   \n",
       "19236          LAC              49  ...              NaN       NaN   \n",
       "19237          LAC              48  ...              NaN       NaN   \n",
       "19238          LAC              49  ...              NaN       NaN   \n",
       "\n",
       "       absoluteYardlineNumber  penaltyCodes penaltyJerseyNumbers passResult  \\\n",
       "18606                     NaN           DPI               ATL 21          I   \n",
       "18607                     NaN            DH               ATL 21          C   \n",
       "18608                     NaN           ICT               ATL 23          I   \n",
       "18609                     NaN           OPI               PHI 86          C   \n",
       "18610                     NaN           ICT               PHI 58          I   \n",
       "...                       ...           ...                  ...        ...   \n",
       "19234                     NaN            DH               TEN 24          I   \n",
       "19235                     NaN            DH               WAS 31          I   \n",
       "19236                     NaN           OPI               LAC 13          C   \n",
       "19237                     NaN           DPI               BAL 23          I   \n",
       "19238                     NaN           DPI               LAC 43          I   \n",
       "\n",
       "       offensePlayResult  playResult       epa  isDefensivePI  \n",
       "18606                  0           8  1.169181           True  \n",
       "18607                  7           5  0.169598          False  \n",
       "18608                  0           5  0.309866          False  \n",
       "18609                 10         -10 -0.694743          False  \n",
       "18610                  0           5  1.383655          False  \n",
       "...                  ...         ...       ...            ...  \n",
       "19234                  0           5  0.848703          False  \n",
       "19235                  0           5  1.227695          False  \n",
       "19236                 27         -10 -0.720168          False  \n",
       "19237                  0          15  1.336078           True  \n",
       "19238                  0           9  0.550256           True  \n",
       "\n",
       "[633 rows x 27 columns]"
      ]
     },
     "execution_count": 8,
     "metadata": {},
     "output_type": "execute_result"
    }
   ],
   "source": [
    "df_copy = df.copy()\n",
    "df_copy.loc[(df_copy['playType'] == \"play_type_unknown\")]\n",
    "df_copy.loc[(df_copy['playType'] == \"play_type_unknown\")]\n"
   ]
  },
  {
   "cell_type": "markdown",
   "metadata": {
    "id": "11YvelKvtA-h"
   },
   "source": [
    "They are just pass plays that are either short or incompete. Confirms our orginal conclusion that the data is made up of only pass plays(success + unsuccessful pass plays). What needs to be done with the play type variable is convert to only one value, pass play. This will be much easier to work with and containing those other 2 values is only going to slow down the model and analysis. For the purpose of this study as suck is an unsuccessful pass play. "
   ]
  },
  {
   "cell_type": "markdown",
   "metadata": {
    "id": "M3s4b_KhtA-j"
   },
   "source": [
    "### Check empty for empty or Nan values"
   ]
  },
  {
   "cell_type": "code",
   "execution_count": 9,
   "metadata": {
    "colab": {
     "base_uri": "https://localhost:8080/",
     "height": 579
    },
    "id": "nOIxk8a8tA-m",
    "outputId": "bce21059-6ea5-4599-bb01-8517be6e32ac",
    "scrolled": true
   },
   "outputs": [
    {
     "ename": "NameError",
     "evalue": "name 'msno' is not defined",
     "output_type": "error",
     "traceback": [
      "\u001b[1;31m---------------------------------------------------------------------------\u001b[0m",
      "\u001b[1;31mNameError\u001b[0m                                 Traceback (most recent call last)",
      "\u001b[1;32m<ipython-input-9-b2ae9003e3b5>\u001b[0m in \u001b[0;36m<module>\u001b[1;34m\u001b[0m\n\u001b[1;32m----> 1\u001b[1;33m \u001b[0mmsno\u001b[0m\u001b[1;33m.\u001b[0m\u001b[0mbar\u001b[0m\u001b[1;33m(\u001b[0m\u001b[0mdf\u001b[0m\u001b[1;33m)\u001b[0m\u001b[1;33m\u001b[0m\u001b[1;33m\u001b[0m\u001b[0m\n\u001b[0m\u001b[0;32m      2\u001b[0m \u001b[0mplt\u001b[0m\u001b[1;33m.\u001b[0m\u001b[0mfigure\u001b[0m\u001b[1;33m(\u001b[0m\u001b[0mfigsize\u001b[0m\u001b[1;33m=\u001b[0m\u001b[1;33m(\u001b[0m\u001b[1;36m10\u001b[0m\u001b[1;33m,\u001b[0m\u001b[1;36m10\u001b[0m\u001b[1;33m)\u001b[0m\u001b[1;33m)\u001b[0m\u001b[1;33m\u001b[0m\u001b[1;33m\u001b[0m\u001b[0m\n\u001b[0;32m      3\u001b[0m \u001b[0mplt\u001b[0m\u001b[1;33m.\u001b[0m\u001b[0mxlabel\u001b[0m\u001b[1;33m(\u001b[0m\u001b[1;34m'Columns'\u001b[0m\u001b[1;33m,\u001b[0m \u001b[0mfontsize\u001b[0m \u001b[1;33m=\u001b[0m \u001b[1;36m30\u001b[0m \u001b[1;33m)\u001b[0m\u001b[1;33m\u001b[0m\u001b[1;33m\u001b[0m\u001b[0m\n\u001b[0;32m      4\u001b[0m \u001b[0mplt\u001b[0m\u001b[1;33m.\u001b[0m\u001b[0mylabel\u001b[0m\u001b[1;33m(\u001b[0m\u001b[1;34m'Values'\u001b[0m\u001b[1;33m)\u001b[0m\u001b[1;33m\u001b[0m\u001b[1;33m\u001b[0m\u001b[0m\n\u001b[0;32m      5\u001b[0m \u001b[0mplt\u001b[0m\u001b[1;33m.\u001b[0m\u001b[0mtitle\u001b[0m\u001b[1;33m(\u001b[0m\u001b[1;34m'Missing Values'\u001b[0m\u001b[1;33m,\u001b[0m \u001b[0mfontsize\u001b[0m \u001b[1;33m=\u001b[0m \u001b[1;36m30\u001b[0m\u001b[1;33m)\u001b[0m\u001b[1;33m\u001b[0m\u001b[1;33m\u001b[0m\u001b[0m\n",
      "\u001b[1;31mNameError\u001b[0m: name 'msno' is not defined"
     ]
    }
   ],
   "source": [
    "msno.bar(df)\n",
    "plt.figure(figsize=(10,10))\n",
    "plt.xlabel('Columns', fontsize = 30 )\n",
    "plt.ylabel('Values')\n",
    "plt.title('Missing Values', fontsize = 30)\n",
    "# Show the figure\n",
    "plt.show()"
   ]
  },
  {
   "cell_type": "code",
   "execution_count": 13,
   "metadata": {
    "colab": {
     "base_uri": "https://localhost:8080/"
    },
    "id": "CJhA_K--tA-u",
    "outputId": "80be337c-7ab7-4f76-ef01-fe6bd1992404",
    "scrolled": true
   },
   "outputs": [
    {
     "name": "stdout",
     "output_type": "stream",
     "text": [
      "There are:  0 empty values in the Yards to go feature \n",
      "There are:  0 empty values in the Play Type feature \n",
      "There are:  141 empty values in the offense Formation feature \n",
      "There are:  29 empty values in the Offensive personnel feature \n",
      "There are:  62 empty values in the defenders in the box feature \n",
      "There are:  633 empty values in the number Of Pass Rushers feature \n",
      "There are:  29 empty values in the Defensive personnel feature \n",
      "There are:  2 empty values in the Result of the play feature \n",
      "There are:  0 empty values in the Result of the offensive Play feature \n",
      "There are:  0 empty values in the play result feature \n",
      "There are:  0 empty values in the downs feature\n"
     ]
    }
   ],
   "source": [
    "print(\"There are: \", df[\"yardsToGo\"].isnull().values.sum(), \"empty values in the Yards to go feature\",\n",
    "      \"\\nThere are: \", df[\"playType\"].isnull().values.sum(), \"empty values in the Play Type feature\",\n",
    "      \"\\nThere are: \", df[\"offenseFormation\"].isnull().values.sum(), \"empty values in the offense Formation feature\",\n",
    "      \"\\nThere are: \", df[\"personnelO\"].isnull().values.sum(), \"empty values in the Offensive personnel feature\",\n",
    "      \"\\nThere are: \", df[\"defendersInTheBox\"].isnull().values.sum(), \"empty values in the defenders in the box feature\",\n",
    "      \"\\nThere are: \", df[\"numberOfPassRushers\"].isnull().values.sum(), \"empty values in the number Of Pass Rushers feature\",\n",
    "      \"\\nThere are: \", df[\"personnelD\"].isnull().values.sum(), \"empty values in the Defensive personnel feature\",\n",
    "      \"\\nThere are: \", df[\"passResult\"].isnull().values.sum(), \"empty values in the Result of the play feature\",\n",
    "      \"\\nThere are: \", df[\"offensePlayResult\"].isnull().values.sum(), \"empty values in the Result of the offensive Play feature\",\n",
    "      \"\\nThere are: \", df[\"playResult\"].isnull().values.sum(), \"empty values in the play result feature\",\n",
    "      \"\\nThere are: \", df[\"down\"].isnull().values.sum(),  \"empty values in the downs feature\")"
   ]
  },
  {
   "cell_type": "markdown",
   "metadata": {
    "id": "Iy500Q7ztA-v"
   },
   "source": [
    "There are missing values in the data frame and we have review the offensive formation, offensive personnel, defenders in the box, pass rushers column, Defensive Personnel column and result of the play column. The result of the play column maybe one that we may need to remove from the data because it may lead to issues with the model. "
   ]
  },
  {
   "cell_type": "markdown",
   "metadata": {
    "id": "nwCHBVcJtA-x"
   },
   "source": [
    "###  Feature 1 Offensive Personnel (with missing values) analysis and distributions"
   ]
  },
  {
   "cell_type": "code",
   "execution_count": 14,
   "metadata": {
    "colab": {
     "base_uri": "https://localhost:8080/"
    },
    "id": "zkNXzlXRtA-x",
    "outputId": "d5a0ec20-46a5-46c8-9b77-ac5a0f239963"
   },
   "outputs": [
    {
     "data": {
      "text/plain": [
       "0        2 RB, 1 TE, 2 WR\n",
       "1        1 RB, 1 TE, 3 WR\n",
       "2        2 RB, 1 TE, 2 WR\n",
       "3        1 RB, 1 TE, 3 WR\n",
       "4        2 RB, 3 TE, 0 WR\n",
       "               ...       \n",
       "19234    1 RB, 1 TE, 3 WR\n",
       "19235    1 RB, 1 TE, 3 WR\n",
       "19236    1 RB, 1 TE, 3 WR\n",
       "19237    1 RB, 1 TE, 3 WR\n",
       "19238    1 RB, 1 TE, 3 WR\n",
       "Name: personnelO, Length: 19239, dtype: object"
      ]
     },
     "execution_count": 14,
     "metadata": {},
     "output_type": "execute_result"
    }
   ],
   "source": [
    "df_copy1 = df.copy()\n",
    "off_per = df_copy[\"personnelO\"]\n",
    "off_per"
   ]
  },
  {
   "cell_type": "code",
   "execution_count": 15,
   "metadata": {
    "colab": {
     "base_uri": "https://localhost:8080/",
     "height": 1000
    },
    "id": "PGnaf3cztA-x",
    "outputId": "3170f8f7-5579-4eac-ee0d-0170f2020a78"
   },
   "outputs": [
    {
     "data": {
      "text/html": [
       "<div>\n",
       "<style scoped>\n",
       "    .dataframe tbody tr th:only-of-type {\n",
       "        vertical-align: middle;\n",
       "    }\n",
       "\n",
       "    .dataframe tbody tr th {\n",
       "        vertical-align: top;\n",
       "    }\n",
       "\n",
       "    .dataframe thead th {\n",
       "        text-align: right;\n",
       "    }\n",
       "</style>\n",
       "<table border=\"1\" class=\"dataframe\">\n",
       "  <thead>\n",
       "    <tr style=\"text-align: right;\">\n",
       "      <th></th>\n",
       "      <th>gameId</th>\n",
       "      <th>playId</th>\n",
       "      <th>playDescription</th>\n",
       "      <th>quarter</th>\n",
       "      <th>down</th>\n",
       "      <th>yardsToGo</th>\n",
       "      <th>possessionTeam</th>\n",
       "      <th>playType</th>\n",
       "      <th>yardlineSide</th>\n",
       "      <th>yardlineNumber</th>\n",
       "      <th>...</th>\n",
       "      <th>preSnapHomeScore</th>\n",
       "      <th>gameClock</th>\n",
       "      <th>absoluteYardlineNumber</th>\n",
       "      <th>penaltyCodes</th>\n",
       "      <th>penaltyJerseyNumbers</th>\n",
       "      <th>passResult</th>\n",
       "      <th>offensePlayResult</th>\n",
       "      <th>playResult</th>\n",
       "      <th>epa</th>\n",
       "      <th>isDefensivePI</th>\n",
       "    </tr>\n",
       "  </thead>\n",
       "  <tbody>\n",
       "    <tr>\n",
       "      <td>18629</td>\n",
       "      <td>2018090906</td>\n",
       "      <td>1188</td>\n",
       "      <td>(11:30) (Shotgun) R.Fitzpatrick pass incomplet...</td>\n",
       "      <td>2</td>\n",
       "      <td>3</td>\n",
       "      <td>7</td>\n",
       "      <td>TB</td>\n",
       "      <td>play_type_unknown</td>\n",
       "      <td>NO</td>\n",
       "      <td>15</td>\n",
       "      <td>...</td>\n",
       "      <td>NaN</td>\n",
       "      <td>NaN</td>\n",
       "      <td>NaN</td>\n",
       "      <td>DH;OPI</td>\n",
       "      <td>NO 21;TB 10</td>\n",
       "      <td>I</td>\n",
       "      <td>0</td>\n",
       "      <td>0</td>\n",
       "      <td>-0.000288</td>\n",
       "      <td>False</td>\n",
       "    </tr>\n",
       "    <tr>\n",
       "      <td>18658</td>\n",
       "      <td>2018091602</td>\n",
       "      <td>2823</td>\n",
       "      <td>(12:54) (Shotgun) A.Rodgers pass deep right in...</td>\n",
       "      <td>4</td>\n",
       "      <td>1</td>\n",
       "      <td>10</td>\n",
       "      <td>GB</td>\n",
       "      <td>play_type_unknown</td>\n",
       "      <td>GB</td>\n",
       "      <td>36</td>\n",
       "      <td>...</td>\n",
       "      <td>NaN</td>\n",
       "      <td>NaN</td>\n",
       "      <td>NaN</td>\n",
       "      <td>ILM;DH</td>\n",
       "      <td>GB 18;MIN 22</td>\n",
       "      <td>IN</td>\n",
       "      <td>0</td>\n",
       "      <td>0</td>\n",
       "      <td>0.006909</td>\n",
       "      <td>False</td>\n",
       "    </tr>\n",
       "    <tr>\n",
       "      <td>18690</td>\n",
       "      <td>2018091611</td>\n",
       "      <td>3501</td>\n",
       "      <td>(3:53) (Shotgun) D.Carr pass deep right to A.C...</td>\n",
       "      <td>4</td>\n",
       "      <td>2</td>\n",
       "      <td>6</td>\n",
       "      <td>OAK</td>\n",
       "      <td>play_type_unknown</td>\n",
       "      <td>OAK</td>\n",
       "      <td>40</td>\n",
       "      <td>...</td>\n",
       "      <td>NaN</td>\n",
       "      <td>NaN</td>\n",
       "      <td>NaN</td>\n",
       "      <td>DPI;OPI</td>\n",
       "      <td>DEN 29;OAK 89</td>\n",
       "      <td>C</td>\n",
       "      <td>29</td>\n",
       "      <td>0</td>\n",
       "      <td>-0.000406</td>\n",
       "      <td>True</td>\n",
       "    </tr>\n",
       "    <tr>\n",
       "      <td>18698</td>\n",
       "      <td>2018092303</td>\n",
       "      <td>950</td>\n",
       "      <td>(13:48) E.Manning pass short right to C.Latime...</td>\n",
       "      <td>2</td>\n",
       "      <td>1</td>\n",
       "      <td>10</td>\n",
       "      <td>NYG</td>\n",
       "      <td>play_type_unknown</td>\n",
       "      <td>HOU</td>\n",
       "      <td>27</td>\n",
       "      <td>...</td>\n",
       "      <td>NaN</td>\n",
       "      <td>NaN</td>\n",
       "      <td>NaN</td>\n",
       "      <td>ICT;TAU</td>\n",
       "      <td>HOU 22;NYG 87</td>\n",
       "      <td>C</td>\n",
       "      <td>14</td>\n",
       "      <td>0</td>\n",
       "      <td>-0.001846</td>\n",
       "      <td>False</td>\n",
       "    </tr>\n",
       "    <tr>\n",
       "      <td>18699</td>\n",
       "      <td>2018092303</td>\n",
       "      <td>3099</td>\n",
       "      <td>(10:05) (Shotgun) D.Watson pass incomplete dee...</td>\n",
       "      <td>4</td>\n",
       "      <td>1</td>\n",
       "      <td>10</td>\n",
       "      <td>HOU</td>\n",
       "      <td>play_type_unknown</td>\n",
       "      <td>NYG</td>\n",
       "      <td>20</td>\n",
       "      <td>...</td>\n",
       "      <td>NaN</td>\n",
       "      <td>NaN</td>\n",
       "      <td>NaN</td>\n",
       "      <td>OH;DH</td>\n",
       "      <td>HOU 66;NYG 20</td>\n",
       "      <td>I</td>\n",
       "      <td>0</td>\n",
       "      <td>0</td>\n",
       "      <td>0.000406</td>\n",
       "      <td>False</td>\n",
       "    </tr>\n",
       "    <tr>\n",
       "      <td>18722</td>\n",
       "      <td>2018092306</td>\n",
       "      <td>1098</td>\n",
       "      <td>(12:26) (Shotgun) R.Tannehill pass incomplete ...</td>\n",
       "      <td>2</td>\n",
       "      <td>3</td>\n",
       "      <td>9</td>\n",
       "      <td>MIA</td>\n",
       "      <td>play_type_unknown</td>\n",
       "      <td>OAK</td>\n",
       "      <td>34</td>\n",
       "      <td>...</td>\n",
       "      <td>NaN</td>\n",
       "      <td>NaN</td>\n",
       "      <td>NaN</td>\n",
       "      <td>OH;RPS</td>\n",
       "      <td>MIA 86;OAK 73</td>\n",
       "      <td>I</td>\n",
       "      <td>0</td>\n",
       "      <td>0</td>\n",
       "      <td>0.002487</td>\n",
       "      <td>False</td>\n",
       "    </tr>\n",
       "    <tr>\n",
       "      <td>18775</td>\n",
       "      <td>2018100701</td>\n",
       "      <td>3541</td>\n",
       "      <td>(8:08) (Shotgun) C.Newton pass incomplete shor...</td>\n",
       "      <td>4</td>\n",
       "      <td>1</td>\n",
       "      <td>10</td>\n",
       "      <td>CAR</td>\n",
       "      <td>play_type_unknown</td>\n",
       "      <td>CAR</td>\n",
       "      <td>25</td>\n",
       "      <td>...</td>\n",
       "      <td>NaN</td>\n",
       "      <td>NaN</td>\n",
       "      <td>NaN</td>\n",
       "      <td>OH;RPS</td>\n",
       "      <td>CAR 74;NYG 72</td>\n",
       "      <td>I</td>\n",
       "      <td>0</td>\n",
       "      <td>0</td>\n",
       "      <td>0.002345</td>\n",
       "      <td>False</td>\n",
       "    </tr>\n",
       "    <tr>\n",
       "      <td>18780</td>\n",
       "      <td>2018100704</td>\n",
       "      <td>1490</td>\n",
       "      <td>(9:13) M.Stafford pass deep right to M.Jones t...</td>\n",
       "      <td>2</td>\n",
       "      <td>2</td>\n",
       "      <td>8</td>\n",
       "      <td>DET</td>\n",
       "      <td>play_type_unknown</td>\n",
       "      <td>DET</td>\n",
       "      <td>48</td>\n",
       "      <td>...</td>\n",
       "      <td>NaN</td>\n",
       "      <td>NaN</td>\n",
       "      <td>NaN</td>\n",
       "      <td>DPI;ILH</td>\n",
       "      <td>GB 20;DET 60</td>\n",
       "      <td>C</td>\n",
       "      <td>39</td>\n",
       "      <td>0</td>\n",
       "      <td>0.004934</td>\n",
       "      <td>True</td>\n",
       "    </tr>\n",
       "    <tr>\n",
       "      <td>18790</td>\n",
       "      <td>2018100711</td>\n",
       "      <td>2987</td>\n",
       "      <td>(4:36) G.Fant reported in as eligible.  R.Wils...</td>\n",
       "      <td>3</td>\n",
       "      <td>1</td>\n",
       "      <td>10</td>\n",
       "      <td>SEA</td>\n",
       "      <td>play_type_unknown</td>\n",
       "      <td>SEA</td>\n",
       "      <td>36</td>\n",
       "      <td>...</td>\n",
       "      <td>NaN</td>\n",
       "      <td>NaN</td>\n",
       "      <td>NaN</td>\n",
       "      <td>DH;ING</td>\n",
       "      <td>LA 22;SEA 3</td>\n",
       "      <td>I</td>\n",
       "      <td>0</td>\n",
       "      <td>0</td>\n",
       "      <td>-0.000991</td>\n",
       "      <td>False</td>\n",
       "    </tr>\n",
       "    <tr>\n",
       "      <td>18832</td>\n",
       "      <td>2018101412</td>\n",
       "      <td>2923</td>\n",
       "      <td>(:17) (Shotgun) T.Brady pass incomplete deep r...</td>\n",
       "      <td>3</td>\n",
       "      <td>2</td>\n",
       "      <td>9</td>\n",
       "      <td>NE</td>\n",
       "      <td>play_type_unknown</td>\n",
       "      <td>NE</td>\n",
       "      <td>26</td>\n",
       "      <td>...</td>\n",
       "      <td>NaN</td>\n",
       "      <td>NaN</td>\n",
       "      <td>NaN</td>\n",
       "      <td>DH;OPI</td>\n",
       "      <td>KC 23;NE 11</td>\n",
       "      <td>I</td>\n",
       "      <td>0</td>\n",
       "      <td>0</td>\n",
       "      <td>0.000360</td>\n",
       "      <td>False</td>\n",
       "    </tr>\n",
       "    <tr>\n",
       "      <td>18865</td>\n",
       "      <td>2018102500</td>\n",
       "      <td>2679</td>\n",
       "      <td>(7:34) (Shotgun) D.Watson pass deep left to D....</td>\n",
       "      <td>3</td>\n",
       "      <td>3</td>\n",
       "      <td>8</td>\n",
       "      <td>HOU</td>\n",
       "      <td>play_type_unknown</td>\n",
       "      <td>HOU</td>\n",
       "      <td>19</td>\n",
       "      <td>...</td>\n",
       "      <td>NaN</td>\n",
       "      <td>NaN</td>\n",
       "      <td>NaN</td>\n",
       "      <td>ICT;OPI</td>\n",
       "      <td>MIA 28;HOU 10</td>\n",
       "      <td>C</td>\n",
       "      <td>34</td>\n",
       "      <td>0</td>\n",
       "      <td>0.001992</td>\n",
       "      <td>False</td>\n",
       "    </tr>\n",
       "    <tr>\n",
       "      <td>18869</td>\n",
       "      <td>2018102805</td>\n",
       "      <td>983</td>\n",
       "      <td>(15:00) C.Keenum pass deep right to E.Sanders ...</td>\n",
       "      <td>2</td>\n",
       "      <td>1</td>\n",
       "      <td>10</td>\n",
       "      <td>DEN</td>\n",
       "      <td>play_type_unknown</td>\n",
       "      <td>KC</td>\n",
       "      <td>45</td>\n",
       "      <td>...</td>\n",
       "      <td>NaN</td>\n",
       "      <td>NaN</td>\n",
       "      <td>NaN</td>\n",
       "      <td>OPI;DH</td>\n",
       "      <td>DEN 10;KC 20</td>\n",
       "      <td>C</td>\n",
       "      <td>22</td>\n",
       "      <td>0</td>\n",
       "      <td>-0.000247</td>\n",
       "      <td>False</td>\n",
       "    </tr>\n",
       "    <tr>\n",
       "      <td>18883</td>\n",
       "      <td>2018102802</td>\n",
       "      <td>1801</td>\n",
       "      <td>(:50) (Shotgun) M.Trubisky pass deep right to ...</td>\n",
       "      <td>2</td>\n",
       "      <td>3</td>\n",
       "      <td>7</td>\n",
       "      <td>CHI</td>\n",
       "      <td>play_type_unknown</td>\n",
       "      <td>CHI</td>\n",
       "      <td>45</td>\n",
       "      <td>...</td>\n",
       "      <td>NaN</td>\n",
       "      <td>NaN</td>\n",
       "      <td>NaN</td>\n",
       "      <td>RPS;UNR</td>\n",
       "      <td>NYJ 55;CHI 75</td>\n",
       "      <td>C</td>\n",
       "      <td>20</td>\n",
       "      <td>0</td>\n",
       "      <td>-0.045422</td>\n",
       "      <td>False</td>\n",
       "    </tr>\n",
       "    <tr>\n",
       "      <td>18886</td>\n",
       "      <td>2018102808</td>\n",
       "      <td>544</td>\n",
       "      <td>(4:49) (Shotgun) A.Luck scrambles left end ran...</td>\n",
       "      <td>1</td>\n",
       "      <td>3</td>\n",
       "      <td>5</td>\n",
       "      <td>IND</td>\n",
       "      <td>play_type_unknown</td>\n",
       "      <td>IND</td>\n",
       "      <td>45</td>\n",
       "      <td>...</td>\n",
       "      <td>NaN</td>\n",
       "      <td>NaN</td>\n",
       "      <td>NaN</td>\n",
       "      <td>DH;OH</td>\n",
       "      <td>OAK 99;IND 78</td>\n",
       "      <td>R</td>\n",
       "      <td>18</td>\n",
       "      <td>0</td>\n",
       "      <td>-0.003994</td>\n",
       "      <td>False</td>\n",
       "    </tr>\n",
       "    <tr>\n",
       "      <td>18919</td>\n",
       "      <td>2018110408</td>\n",
       "      <td>3533</td>\n",
       "      <td>(6:15) (Shotgun) R.Wilson pass incomplete shor...</td>\n",
       "      <td>4</td>\n",
       "      <td>1</td>\n",
       "      <td>10</td>\n",
       "      <td>SEA</td>\n",
       "      <td>play_type_unknown</td>\n",
       "      <td>LAC</td>\n",
       "      <td>36</td>\n",
       "      <td>...</td>\n",
       "      <td>NaN</td>\n",
       "      <td>NaN</td>\n",
       "      <td>NaN</td>\n",
       "      <td>OH;RPS</td>\n",
       "      <td>SEA 65;LAC 93</td>\n",
       "      <td>I</td>\n",
       "      <td>0</td>\n",
       "      <td>0</td>\n",
       "      <td>0.000686</td>\n",
       "      <td>False</td>\n",
       "    </tr>\n",
       "    <tr>\n",
       "      <td>18925</td>\n",
       "      <td>2018110410</td>\n",
       "      <td>2201</td>\n",
       "      <td>(1:15) (Shotgun) A.Rodgers scrambles right tac...</td>\n",
       "      <td>2</td>\n",
       "      <td>2</td>\n",
       "      <td>10</td>\n",
       "      <td>GB</td>\n",
       "      <td>play_type_unknown</td>\n",
       "      <td>GB</td>\n",
       "      <td>36</td>\n",
       "      <td>...</td>\n",
       "      <td>NaN</td>\n",
       "      <td>NaN</td>\n",
       "      <td>NaN</td>\n",
       "      <td>OH;DH</td>\n",
       "      <td>GB 74;NE 91</td>\n",
       "      <td>R</td>\n",
       "      <td>5</td>\n",
       "      <td>0</td>\n",
       "      <td>-0.034272</td>\n",
       "      <td>False</td>\n",
       "    </tr>\n",
       "    <tr>\n",
       "      <td>18939</td>\n",
       "      <td>2018111103</td>\n",
       "      <td>3323</td>\n",
       "      <td>(9:34) (Shotgun) A.Rodgers sacked ob at MIA 21...</td>\n",
       "      <td>4</td>\n",
       "      <td>2</td>\n",
       "      <td>7</td>\n",
       "      <td>GB</td>\n",
       "      <td>play_type_unknown</td>\n",
       "      <td>MIA</td>\n",
       "      <td>20</td>\n",
       "      <td>...</td>\n",
       "      <td>NaN</td>\n",
       "      <td>NaN</td>\n",
       "      <td>NaN</td>\n",
       "      <td>DH;OH</td>\n",
       "      <td>MIA 56;GB 69</td>\n",
       "      <td>S</td>\n",
       "      <td>-1</td>\n",
       "      <td>0</td>\n",
       "      <td>0.006620</td>\n",
       "      <td>False</td>\n",
       "    </tr>\n",
       "    <tr>\n",
       "      <td>18963</td>\n",
       "      <td>2018111803</td>\n",
       "      <td>1789</td>\n",
       "      <td>(:25) (Shotgun) M.Stafford pass incomplete dee...</td>\n",
       "      <td>2</td>\n",
       "      <td>2</td>\n",
       "      <td>10</td>\n",
       "      <td>DET</td>\n",
       "      <td>play_type_unknown</td>\n",
       "      <td>DET</td>\n",
       "      <td>47</td>\n",
       "      <td>...</td>\n",
       "      <td>NaN</td>\n",
       "      <td>NaN</td>\n",
       "      <td>NaN</td>\n",
       "      <td>DPI;OPI</td>\n",
       "      <td>CAR 41;DET 13</td>\n",
       "      <td>I</td>\n",
       "      <td>0</td>\n",
       "      <td>0</td>\n",
       "      <td>-0.038740</td>\n",
       "      <td>True</td>\n",
       "    </tr>\n",
       "    <tr>\n",
       "      <td>18996</td>\n",
       "      <td>2018112503</td>\n",
       "      <td>1519</td>\n",
       "      <td>(5:37) B.Mayfield pass incomplete deep right t...</td>\n",
       "      <td>2</td>\n",
       "      <td>2</td>\n",
       "      <td>1</td>\n",
       "      <td>CLE</td>\n",
       "      <td>play_type_unknown</td>\n",
       "      <td>CIN</td>\n",
       "      <td>22</td>\n",
       "      <td>...</td>\n",
       "      <td>NaN</td>\n",
       "      <td>NaN</td>\n",
       "      <td>NaN</td>\n",
       "      <td>OH;DH</td>\n",
       "      <td>CLE 78;CIN 22</td>\n",
       "      <td>I</td>\n",
       "      <td>0</td>\n",
       "      <td>0</td>\n",
       "      <td>0.000351</td>\n",
       "      <td>False</td>\n",
       "    </tr>\n",
       "    <tr>\n",
       "      <td>19039</td>\n",
       "      <td>2018120206</td>\n",
       "      <td>2585</td>\n",
       "      <td>(6:37) (Shotgun) R.Tannehill pass incomplete s...</td>\n",
       "      <td>3</td>\n",
       "      <td>3</td>\n",
       "      <td>6</td>\n",
       "      <td>MIA</td>\n",
       "      <td>play_type_unknown</td>\n",
       "      <td>MIA</td>\n",
       "      <td>40</td>\n",
       "      <td>...</td>\n",
       "      <td>NaN</td>\n",
       "      <td>NaN</td>\n",
       "      <td>NaN</td>\n",
       "      <td>OH;DH</td>\n",
       "      <td>MIA 70;BUF 58</td>\n",
       "      <td>I</td>\n",
       "      <td>0</td>\n",
       "      <td>0</td>\n",
       "      <td>0.000064</td>\n",
       "      <td>False</td>\n",
       "    </tr>\n",
       "    <tr>\n",
       "      <td>19044</td>\n",
       "      <td>2018120202</td>\n",
       "      <td>3380</td>\n",
       "      <td>(13:47) (Shotgun) J.Goff pass short middle to ...</td>\n",
       "      <td>4</td>\n",
       "      <td>2</td>\n",
       "      <td>15</td>\n",
       "      <td>LA</td>\n",
       "      <td>play_type_unknown</td>\n",
       "      <td>DET</td>\n",
       "      <td>45</td>\n",
       "      <td>...</td>\n",
       "      <td>NaN</td>\n",
       "      <td>NaN</td>\n",
       "      <td>NaN</td>\n",
       "      <td>OH;RPS</td>\n",
       "      <td>LA 79;DET 94</td>\n",
       "      <td>C</td>\n",
       "      <td>10</td>\n",
       "      <td>0</td>\n",
       "      <td>0.002252</td>\n",
       "      <td>False</td>\n",
       "    </tr>\n",
       "    <tr>\n",
       "      <td>19046</td>\n",
       "      <td>2018120202</td>\n",
       "      <td>4053</td>\n",
       "      <td>(3:47) (Shotgun) M.Stafford sacked at LA 17 fo...</td>\n",
       "      <td>4</td>\n",
       "      <td>2</td>\n",
       "      <td>11</td>\n",
       "      <td>DET</td>\n",
       "      <td>play_type_unknown</td>\n",
       "      <td>LA</td>\n",
       "      <td>16</td>\n",
       "      <td>...</td>\n",
       "      <td>NaN</td>\n",
       "      <td>NaN</td>\n",
       "      <td>NaN</td>\n",
       "      <td>OH;DH;OH</td>\n",
       "      <td>DET 68;LA 32;DET 71</td>\n",
       "      <td>S</td>\n",
       "      <td>-1</td>\n",
       "      <td>0</td>\n",
       "      <td>-0.013822</td>\n",
       "      <td>False</td>\n",
       "    </tr>\n",
       "    <tr>\n",
       "      <td>19061</td>\n",
       "      <td>2018120211</td>\n",
       "      <td>4034</td>\n",
       "      <td>(1:46) (Shotgun) M.Mariota scrambles right end...</td>\n",
       "      <td>4</td>\n",
       "      <td>1</td>\n",
       "      <td>10</td>\n",
       "      <td>TEN</td>\n",
       "      <td>play_type_unknown</td>\n",
       "      <td>TEN</td>\n",
       "      <td>14</td>\n",
       "      <td>...</td>\n",
       "      <td>NaN</td>\n",
       "      <td>NaN</td>\n",
       "      <td>NaN</td>\n",
       "      <td>OH;DH</td>\n",
       "      <td>TEN 78;NYJ 21</td>\n",
       "      <td>R</td>\n",
       "      <td>11</td>\n",
       "      <td>0</td>\n",
       "      <td>-0.002844</td>\n",
       "      <td>False</td>\n",
       "    </tr>\n",
       "    <tr>\n",
       "      <td>19114</td>\n",
       "      <td>2018120911</td>\n",
       "      <td>1692</td>\n",
       "      <td>(4:46) (Shotgun) M.Stafford pass deep right to...</td>\n",
       "      <td>2</td>\n",
       "      <td>3</td>\n",
       "      <td>15</td>\n",
       "      <td>DET</td>\n",
       "      <td>play_type_unknown</td>\n",
       "      <td>DET</td>\n",
       "      <td>39</td>\n",
       "      <td>...</td>\n",
       "      <td>NaN</td>\n",
       "      <td>NaN</td>\n",
       "      <td>NaN</td>\n",
       "      <td>OH;DH</td>\n",
       "      <td>DET 60;ARI 51</td>\n",
       "      <td>C</td>\n",
       "      <td>18</td>\n",
       "      <td>0</td>\n",
       "      <td>0.042085</td>\n",
       "      <td>False</td>\n",
       "    </tr>\n",
       "    <tr>\n",
       "      <td>19118</td>\n",
       "      <td>2018120911</td>\n",
       "      <td>3967</td>\n",
       "      <td>(2:20) (No Huddle, Shotgun) J.Rosen pass incom...</td>\n",
       "      <td>4</td>\n",
       "      <td>3</td>\n",
       "      <td>12</td>\n",
       "      <td>ARI</td>\n",
       "      <td>play_type_unknown</td>\n",
       "      <td>DET</td>\n",
       "      <td>41</td>\n",
       "      <td>...</td>\n",
       "      <td>NaN</td>\n",
       "      <td>NaN</td>\n",
       "      <td>NaN</td>\n",
       "      <td>OH;DPI</td>\n",
       "      <td>ARI 78;DET 38</td>\n",
       "      <td>I</td>\n",
       "      <td>0</td>\n",
       "      <td>0</td>\n",
       "      <td>-0.025804</td>\n",
       "      <td>True</td>\n",
       "    </tr>\n",
       "    <tr>\n",
       "      <td>19141</td>\n",
       "      <td>2018121501</td>\n",
       "      <td>2727</td>\n",
       "      <td>(7:13) B.Mayfield pass incomplete short middle...</td>\n",
       "      <td>3</td>\n",
       "      <td>1</td>\n",
       "      <td>10</td>\n",
       "      <td>CLE</td>\n",
       "      <td>play_type_unknown</td>\n",
       "      <td>DEN</td>\n",
       "      <td>40</td>\n",
       "      <td>...</td>\n",
       "      <td>NaN</td>\n",
       "      <td>NaN</td>\n",
       "      <td>NaN</td>\n",
       "      <td>DH;OH</td>\n",
       "      <td>DEN 26;CLE 88</td>\n",
       "      <td>I</td>\n",
       "      <td>0</td>\n",
       "      <td>0</td>\n",
       "      <td>-0.000092</td>\n",
       "      <td>False</td>\n",
       "    </tr>\n",
       "    <tr>\n",
       "      <td>19143</td>\n",
       "      <td>2018121602</td>\n",
       "      <td>1340</td>\n",
       "      <td>(7:41) (Shotgun) M.Stafford pass incomplete sh...</td>\n",
       "      <td>2</td>\n",
       "      <td>3</td>\n",
       "      <td>10</td>\n",
       "      <td>DET</td>\n",
       "      <td>play_type_unknown</td>\n",
       "      <td>DET</td>\n",
       "      <td>23</td>\n",
       "      <td>...</td>\n",
       "      <td>NaN</td>\n",
       "      <td>NaN</td>\n",
       "      <td>NaN</td>\n",
       "      <td>DH;OH</td>\n",
       "      <td>BUF 27;DET 60</td>\n",
       "      <td>I</td>\n",
       "      <td>0</td>\n",
       "      <td>0</td>\n",
       "      <td>0.003643</td>\n",
       "      <td>False</td>\n",
       "    </tr>\n",
       "    <tr>\n",
       "      <td>19155</td>\n",
       "      <td>2018121605</td>\n",
       "      <td>3173</td>\n",
       "      <td>(:11) (Shotgun) D.Prescott pass incomplete sho...</td>\n",
       "      <td>3</td>\n",
       "      <td>3</td>\n",
       "      <td>9</td>\n",
       "      <td>DAL</td>\n",
       "      <td>play_type_unknown</td>\n",
       "      <td>IND</td>\n",
       "      <td>47</td>\n",
       "      <td>...</td>\n",
       "      <td>NaN</td>\n",
       "      <td>NaN</td>\n",
       "      <td>NaN</td>\n",
       "      <td>OH;DH</td>\n",
       "      <td>DAL 45;IND 53</td>\n",
       "      <td>I</td>\n",
       "      <td>0</td>\n",
       "      <td>0</td>\n",
       "      <td>0.000201</td>\n",
       "      <td>False</td>\n",
       "    </tr>\n",
       "    <tr>\n",
       "      <td>19210</td>\n",
       "      <td>2018123001</td>\n",
       "      <td>236</td>\n",
       "      <td>(10:53) (Shotgun) J.Allen pass incomplete deep...</td>\n",
       "      <td>1</td>\n",
       "      <td>3</td>\n",
       "      <td>16</td>\n",
       "      <td>BUF</td>\n",
       "      <td>play_type_unknown</td>\n",
       "      <td>MIA</td>\n",
       "      <td>47</td>\n",
       "      <td>...</td>\n",
       "      <td>NaN</td>\n",
       "      <td>NaN</td>\n",
       "      <td>NaN</td>\n",
       "      <td>OH;DPI</td>\n",
       "      <td>BUF 25;MIA 28</td>\n",
       "      <td>I</td>\n",
       "      <td>0</td>\n",
       "      <td>0</td>\n",
       "      <td>-0.000232</td>\n",
       "      <td>True</td>\n",
       "    </tr>\n",
       "  </tbody>\n",
       "</table>\n",
       "<p>29 rows × 27 columns</p>\n",
       "</div>"
      ],
      "text/plain": [
       "           gameId  playId                                    playDescription  \\\n",
       "18629  2018090906    1188  (11:30) (Shotgun) R.Fitzpatrick pass incomplet...   \n",
       "18658  2018091602    2823  (12:54) (Shotgun) A.Rodgers pass deep right in...   \n",
       "18690  2018091611    3501  (3:53) (Shotgun) D.Carr pass deep right to A.C...   \n",
       "18698  2018092303     950  (13:48) E.Manning pass short right to C.Latime...   \n",
       "18699  2018092303    3099  (10:05) (Shotgun) D.Watson pass incomplete dee...   \n",
       "18722  2018092306    1098  (12:26) (Shotgun) R.Tannehill pass incomplete ...   \n",
       "18775  2018100701    3541  (8:08) (Shotgun) C.Newton pass incomplete shor...   \n",
       "18780  2018100704    1490  (9:13) M.Stafford pass deep right to M.Jones t...   \n",
       "18790  2018100711    2987  (4:36) G.Fant reported in as eligible.  R.Wils...   \n",
       "18832  2018101412    2923  (:17) (Shotgun) T.Brady pass incomplete deep r...   \n",
       "18865  2018102500    2679  (7:34) (Shotgun) D.Watson pass deep left to D....   \n",
       "18869  2018102805     983  (15:00) C.Keenum pass deep right to E.Sanders ...   \n",
       "18883  2018102802    1801  (:50) (Shotgun) M.Trubisky pass deep right to ...   \n",
       "18886  2018102808     544  (4:49) (Shotgun) A.Luck scrambles left end ran...   \n",
       "18919  2018110408    3533  (6:15) (Shotgun) R.Wilson pass incomplete shor...   \n",
       "18925  2018110410    2201  (1:15) (Shotgun) A.Rodgers scrambles right tac...   \n",
       "18939  2018111103    3323  (9:34) (Shotgun) A.Rodgers sacked ob at MIA 21...   \n",
       "18963  2018111803    1789  (:25) (Shotgun) M.Stafford pass incomplete dee...   \n",
       "18996  2018112503    1519  (5:37) B.Mayfield pass incomplete deep right t...   \n",
       "19039  2018120206    2585  (6:37) (Shotgun) R.Tannehill pass incomplete s...   \n",
       "19044  2018120202    3380  (13:47) (Shotgun) J.Goff pass short middle to ...   \n",
       "19046  2018120202    4053  (3:47) (Shotgun) M.Stafford sacked at LA 17 fo...   \n",
       "19061  2018120211    4034  (1:46) (Shotgun) M.Mariota scrambles right end...   \n",
       "19114  2018120911    1692  (4:46) (Shotgun) M.Stafford pass deep right to...   \n",
       "19118  2018120911    3967  (2:20) (No Huddle, Shotgun) J.Rosen pass incom...   \n",
       "19141  2018121501    2727  (7:13) B.Mayfield pass incomplete short middle...   \n",
       "19143  2018121602    1340  (7:41) (Shotgun) M.Stafford pass incomplete sh...   \n",
       "19155  2018121605    3173  (:11) (Shotgun) D.Prescott pass incomplete sho...   \n",
       "19210  2018123001     236  (10:53) (Shotgun) J.Allen pass incomplete deep...   \n",
       "\n",
       "       quarter  down  yardsToGo possessionTeam           playType  \\\n",
       "18629        2     3          7             TB  play_type_unknown   \n",
       "18658        4     1         10             GB  play_type_unknown   \n",
       "18690        4     2          6            OAK  play_type_unknown   \n",
       "18698        2     1         10            NYG  play_type_unknown   \n",
       "18699        4     1         10            HOU  play_type_unknown   \n",
       "18722        2     3          9            MIA  play_type_unknown   \n",
       "18775        4     1         10            CAR  play_type_unknown   \n",
       "18780        2     2          8            DET  play_type_unknown   \n",
       "18790        3     1         10            SEA  play_type_unknown   \n",
       "18832        3     2          9             NE  play_type_unknown   \n",
       "18865        3     3          8            HOU  play_type_unknown   \n",
       "18869        2     1         10            DEN  play_type_unknown   \n",
       "18883        2     3          7            CHI  play_type_unknown   \n",
       "18886        1     3          5            IND  play_type_unknown   \n",
       "18919        4     1         10            SEA  play_type_unknown   \n",
       "18925        2     2         10             GB  play_type_unknown   \n",
       "18939        4     2          7             GB  play_type_unknown   \n",
       "18963        2     2         10            DET  play_type_unknown   \n",
       "18996        2     2          1            CLE  play_type_unknown   \n",
       "19039        3     3          6            MIA  play_type_unknown   \n",
       "19044        4     2         15             LA  play_type_unknown   \n",
       "19046        4     2         11            DET  play_type_unknown   \n",
       "19061        4     1         10            TEN  play_type_unknown   \n",
       "19114        2     3         15            DET  play_type_unknown   \n",
       "19118        4     3         12            ARI  play_type_unknown   \n",
       "19141        3     1         10            CLE  play_type_unknown   \n",
       "19143        2     3         10            DET  play_type_unknown   \n",
       "19155        3     3          9            DAL  play_type_unknown   \n",
       "19210        1     3         16            BUF  play_type_unknown   \n",
       "\n",
       "      yardlineSide  yardlineNumber  ... preSnapHomeScore gameClock  \\\n",
       "18629           NO              15  ...              NaN       NaN   \n",
       "18658           GB              36  ...              NaN       NaN   \n",
       "18690          OAK              40  ...              NaN       NaN   \n",
       "18698          HOU              27  ...              NaN       NaN   \n",
       "18699          NYG              20  ...              NaN       NaN   \n",
       "18722          OAK              34  ...              NaN       NaN   \n",
       "18775          CAR              25  ...              NaN       NaN   \n",
       "18780          DET              48  ...              NaN       NaN   \n",
       "18790          SEA              36  ...              NaN       NaN   \n",
       "18832           NE              26  ...              NaN       NaN   \n",
       "18865          HOU              19  ...              NaN       NaN   \n",
       "18869           KC              45  ...              NaN       NaN   \n",
       "18883          CHI              45  ...              NaN       NaN   \n",
       "18886          IND              45  ...              NaN       NaN   \n",
       "18919          LAC              36  ...              NaN       NaN   \n",
       "18925           GB              36  ...              NaN       NaN   \n",
       "18939          MIA              20  ...              NaN       NaN   \n",
       "18963          DET              47  ...              NaN       NaN   \n",
       "18996          CIN              22  ...              NaN       NaN   \n",
       "19039          MIA              40  ...              NaN       NaN   \n",
       "19044          DET              45  ...              NaN       NaN   \n",
       "19046           LA              16  ...              NaN       NaN   \n",
       "19061          TEN              14  ...              NaN       NaN   \n",
       "19114          DET              39  ...              NaN       NaN   \n",
       "19118          DET              41  ...              NaN       NaN   \n",
       "19141          DEN              40  ...              NaN       NaN   \n",
       "19143          DET              23  ...              NaN       NaN   \n",
       "19155          IND              47  ...              NaN       NaN   \n",
       "19210          MIA              47  ...              NaN       NaN   \n",
       "\n",
       "       absoluteYardlineNumber  penaltyCodes penaltyJerseyNumbers passResult  \\\n",
       "18629                     NaN        DH;OPI          NO 21;TB 10          I   \n",
       "18658                     NaN        ILM;DH         GB 18;MIN 22         IN   \n",
       "18690                     NaN       DPI;OPI        DEN 29;OAK 89          C   \n",
       "18698                     NaN       ICT;TAU        HOU 22;NYG 87          C   \n",
       "18699                     NaN         OH;DH        HOU 66;NYG 20          I   \n",
       "18722                     NaN        OH;RPS        MIA 86;OAK 73          I   \n",
       "18775                     NaN        OH;RPS        CAR 74;NYG 72          I   \n",
       "18780                     NaN       DPI;ILH         GB 20;DET 60          C   \n",
       "18790                     NaN        DH;ING          LA 22;SEA 3          I   \n",
       "18832                     NaN        DH;OPI          KC 23;NE 11          I   \n",
       "18865                     NaN       ICT;OPI        MIA 28;HOU 10          C   \n",
       "18869                     NaN        OPI;DH         DEN 10;KC 20          C   \n",
       "18883                     NaN       RPS;UNR        NYJ 55;CHI 75          C   \n",
       "18886                     NaN         DH;OH        OAK 99;IND 78          R   \n",
       "18919                     NaN        OH;RPS        SEA 65;LAC 93          I   \n",
       "18925                     NaN         OH;DH          GB 74;NE 91          R   \n",
       "18939                     NaN         DH;OH         MIA 56;GB 69          S   \n",
       "18963                     NaN       DPI;OPI        CAR 41;DET 13          I   \n",
       "18996                     NaN         OH;DH        CLE 78;CIN 22          I   \n",
       "19039                     NaN         OH;DH        MIA 70;BUF 58          I   \n",
       "19044                     NaN        OH;RPS         LA 79;DET 94          C   \n",
       "19046                     NaN      OH;DH;OH  DET 68;LA 32;DET 71          S   \n",
       "19061                     NaN         OH;DH        TEN 78;NYJ 21          R   \n",
       "19114                     NaN         OH;DH        DET 60;ARI 51          C   \n",
       "19118                     NaN        OH;DPI        ARI 78;DET 38          I   \n",
       "19141                     NaN         DH;OH        DEN 26;CLE 88          I   \n",
       "19143                     NaN         DH;OH        BUF 27;DET 60          I   \n",
       "19155                     NaN         OH;DH        DAL 45;IND 53          I   \n",
       "19210                     NaN        OH;DPI        BUF 25;MIA 28          I   \n",
       "\n",
       "       offensePlayResult  playResult       epa  isDefensivePI  \n",
       "18629                  0           0 -0.000288          False  \n",
       "18658                  0           0  0.006909          False  \n",
       "18690                 29           0 -0.000406           True  \n",
       "18698                 14           0 -0.001846          False  \n",
       "18699                  0           0  0.000406          False  \n",
       "18722                  0           0  0.002487          False  \n",
       "18775                  0           0  0.002345          False  \n",
       "18780                 39           0  0.004934           True  \n",
       "18790                  0           0 -0.000991          False  \n",
       "18832                  0           0  0.000360          False  \n",
       "18865                 34           0  0.001992          False  \n",
       "18869                 22           0 -0.000247          False  \n",
       "18883                 20           0 -0.045422          False  \n",
       "18886                 18           0 -0.003994          False  \n",
       "18919                  0           0  0.000686          False  \n",
       "18925                  5           0 -0.034272          False  \n",
       "18939                 -1           0  0.006620          False  \n",
       "18963                  0           0 -0.038740           True  \n",
       "18996                  0           0  0.000351          False  \n",
       "19039                  0           0  0.000064          False  \n",
       "19044                 10           0  0.002252          False  \n",
       "19046                 -1           0 -0.013822          False  \n",
       "19061                 11           0 -0.002844          False  \n",
       "19114                 18           0  0.042085          False  \n",
       "19118                  0           0 -0.025804           True  \n",
       "19141                  0           0 -0.000092          False  \n",
       "19143                  0           0  0.003643          False  \n",
       "19155                  0           0  0.000201          False  \n",
       "19210                  0           0 -0.000232           True  \n",
       "\n",
       "[29 rows x 27 columns]"
      ]
     },
     "execution_count": 15,
     "metadata": {},
     "output_type": "execute_result"
    }
   ],
   "source": [
    "off_per.isnull().values.sum()\n",
    "# mising values, we already knew from earlier.\n",
    "df1 = df_copy1[off_per.isna()]\n",
    "df1\n"
   ]
  },
  {
   "cell_type": "code",
   "execution_count": 16,
   "metadata": {
    "colab": {
     "base_uri": "https://localhost:8080/"
    },
    "id": "-VolkCZ2tA-y",
    "outputId": "1e38fd85-c27a-4b39-dfed-8438f932f7bf"
   },
   "outputs": [
    {
     "data": {
      "text/plain": [
       "Index(['gameId', 'playId', 'playDescription', 'quarter', 'down', 'yardsToGo',\n",
       "       'possessionTeam', 'playType', 'yardlineSide', 'yardlineNumber',\n",
       "       'offenseFormation', 'personnelO', 'defendersInTheBox',\n",
       "       'numberOfPassRushers', 'personnelD', 'typeDropback',\n",
       "       'preSnapVisitorScore', 'preSnapHomeScore', 'gameClock',\n",
       "       'absoluteYardlineNumber', 'penaltyCodes', 'penaltyJerseyNumbers',\n",
       "       'passResult', 'offensePlayResult', 'playResult', 'epa',\n",
       "       'isDefensivePI'],\n",
       "      dtype='object')"
      ]
     },
     "execution_count": 16,
     "metadata": {},
     "output_type": "execute_result"
    }
   ],
   "source": [
    "df1.columns"
   ]
  },
  {
   "cell_type": "code",
   "execution_count": 17,
   "metadata": {
    "colab": {
     "base_uri": "https://localhost:8080/",
     "height": 816
    },
    "id": "AZWYWD0LtA-z",
    "outputId": "20b2c314-91c7-47fb-b4ba-7d5681f23630"
   },
   "outputs": [
    {
     "data": {
      "image/png": "[encoded data removed]",
      "text/plain": [
       "<Figure size 864x720 with 1 Axes>"
      ]
     },
     "metadata": {
      "needs_background": "light"
     },
     "output_type": "display_data"
    }
   ],
   "source": [
    "plt.figure(figsize=(12,10))\n",
    "df_copy1.groupby(\"personnelO\").size().plot(kind='bar')\n",
    "# Label the axes\n",
    "plt.xlabel(\"Formation\")\n",
    "plt.ylabel(\"Frequency\")\n",
    "plt.title(\"Offensive Formation Distribution Chart\")\n",
    "# Show the figure\n",
    "plt.show()"
   ]
  },
  {
   "cell_type": "markdown",
   "metadata": {
    "id": "cfjuGyCRERZA"
   },
   "source": [
    "### Analysis on Offensive personnell\n",
    "The issue with the feature is that *there* is no big variation in the data, most of the time the offense is going to line up in the standard formation(1RB:1TE:3WR) with the distant second being the 2 TE formation(1RB:2TE:2WR)."
   ]
  },
  {
   "cell_type": "markdown",
   "metadata": {
    "id": "-GXGgawtEpJN"
   },
   "source": [
    "### Feature 2: Yards To Go (with missing values) analysis and distributions"
   ]
  },
  {
   "cell_type": "code",
   "execution_count": 18,
   "metadata": {
    "colab": {
     "base_uri": "https://localhost:8080/"
    },
    "id": "i4Q4-7uXFSE3",
    "outputId": "e0e3a701-7b9e-4da6-8c21-0e61dda9c617"
   },
   "outputs": [
    {
     "data": {
      "text/plain": [
       "10    8684\n",
       "6     1071\n",
       "7     1047\n",
       "8     1003\n",
       "5      992\n",
       "9      932\n",
       "4      852\n",
       "3      769\n",
       "2      618\n",
       "1      522\n",
       "11     432\n",
       "15     421\n",
       "12     366\n",
       "20     310\n",
       "13     257\n",
       "14     224\n",
       "16     159\n",
       "17     156\n",
       "18     127\n",
       "19     102\n",
       "21      45\n",
       "22      37\n",
       "25      35\n",
       "23      24\n",
       "30      13\n",
       "24      12\n",
       "26      10\n",
       "28       7\n",
       "27       4\n",
       "29       3\n",
       "32       2\n",
       "41       1\n",
       "38       1\n",
       "33       1\n",
       "Name: yardsToGo, dtype: int64"
      ]
     },
     "execution_count": 18,
     "metadata": {},
     "output_type": "execute_result"
    }
   ],
   "source": [
    "df_copy1[\"yardsToGo\"].value_counts()\n"
   ]
  },
  {
   "cell_type": "markdown",
   "metadata": {
    "id": "mXKcSbdRF49V"
   },
   "source": [
    "The distribution between 1-10 are the most common, the other are not as common. The data is more evenly distrubted compared to "
   ]
  },
  {
   "cell_type": "code",
   "execution_count": 19,
   "metadata": {
    "colab": {
     "base_uri": "https://localhost:8080/",
     "height": 624
    },
    "id": "DMC4MSMMGBBn",
    "outputId": "49d1c276-4552-4ede-8b81-9c5d7fb43ded"
   },
   "outputs": [
    {
     "data": {
      "image/png": "[encoded data removed]",
      "text/plain": [
       "<Figure size 864x720 with 1 Axes>"
      ]
     },
     "metadata": {
      "needs_background": "light"
     },
     "output_type": "display_data"
    }
   ],
   "source": [
    "# visual of distribution\n",
    "plt.figure(figsize=(12,10))\n",
    "df_copy1.groupby(\"yardsToGo\").size().plot(kind='bar')\n",
    "# Label the axes\n",
    "plt.xlabel(\"Formation\")\n",
    "plt.ylabel(\"Frequency\")\n",
    "plt.title(\"Offensive Formation Distribution Chart\")\n",
    "# Show the figure\n",
    "plt.show()"
   ]
  },
  {
   "cell_type": "markdown",
   "metadata": {
    "id": "HzxDxIp9GTwG"
   },
   "source": [
    "Now reviewing the graph, we can that the most common is 10. This makes the most sense because anytime you get a first down, you are back to having 10 yards to go. \n"
   ]
  },
  {
   "cell_type": "code",
   "execution_count": null,
   "metadata": {
    "id": "zGaXbaO4HPj2"
   },
   "outputs": [],
   "source": []
  },
  {
   "cell_type": "markdown",
   "metadata": {
    "id": "qCXLLn2kHQnd"
   },
   "source": [
    "### Are most of the 10 yards to go on first down?\n",
    "We will use the play result to figure what down it usual is when there are 10 yards to go. This feature may not even be included in our models."
   ]
  },
  {
   "cell_type": "code",
   "execution_count": 20,
   "metadata": {
    "colab": {
     "base_uri": "https://localhost:8080/"
    },
    "id": "WvrIxqkAH9LU",
    "outputId": "60ff89a4-93a7-4f2e-e147-7292e2e395e6"
   },
   "outputs": [
    {
     "name": "stdout",
     "output_type": "stream",
     "text": [
      "1    7405\n",
      "Name: down, dtype: int64\n",
      "89.70% of all plays with 10 yards to go are first downs.\n"
     ]
    }
   ],
   "source": [
    "down = df_copy1.loc[(df_copy1['down'] == 1)]\n",
    "down_10 = df_copy1.loc[(df_copy1['down'] == 1)& (df_copy1['yardsToGo'] == 10)]\n",
    "print(down.down.value_counts())\n",
    "to_go = down_10.down.value_counts().sum()/ down.down.value_counts().sum() \n",
    "print(\"%.2f%% of all plays with 10 yards to go are first downs.\" % (to_go *100))\n",
    "#we can do more analysis here, how many yards to go are there on 2nd down or 3rd down usually? \n",
    "\n"
   ]
  },
  {
   "cell_type": "markdown",
   "metadata": {
    "id": "uy1KqMascSlt"
   },
   "source": [
    "This is not surprising, if its first down then the offense is 10 yards to go. We can do more analysis here, how many yards to go are there on 2nd down or 3rd down usually? \n"
   ]
  },
  {
   "cell_type": "code",
   "execution_count": null,
   "metadata": {
    "id": "E-Dtb2xgZkle"
   },
   "outputs": [],
   "source": []
  },
  {
   "cell_type": "markdown",
   "metadata": {
    "id": "LmBN7eDsd4yV"
   },
   "source": [
    "###  Feature 3 Play type (with missing values) analysis and distributions"
   ]
  },
  {
   "cell_type": "code",
   "execution_count": 21,
   "metadata": {
    "colab": {
     "base_uri": "https://localhost:8080/"
    },
    "id": "Gb-W7Bu2eozU",
    "outputId": "d736d2ea-2042-4dc2-f97a-d8f6605b646c"
   },
   "outputs": [
    {
     "data": {
      "text/plain": [
       "0           play_type_pass\n",
       "1           play_type_pass\n",
       "2           play_type_pass\n",
       "3           play_type_pass\n",
       "4           play_type_pass\n",
       "               ...        \n",
       "19234    play_type_unknown\n",
       "19235    play_type_unknown\n",
       "19236    play_type_unknown\n",
       "19237    play_type_unknown\n",
       "19238    play_type_unknown\n",
       "Name: playType, Length: 19239, dtype: object"
      ]
     },
     "execution_count": 21,
     "metadata": {},
     "output_type": "execute_result"
    }
   ],
   "source": [
    "df_copy1['playType']"
   ]
  },
  {
   "cell_type": "code",
   "execution_count": 22,
   "metadata": {
    "colab": {
     "base_uri": "https://localhost:8080/",
     "height": 710
    },
    "id": "DyMXkVTxepDj",
    "outputId": "d6d5d502-b052-4f99-8d04-9c2f77c4e720"
   },
   "outputs": [
    {
     "data": {
      "image/png": "[encoded data removed]",
      "text/plain": [
       "<Figure size 864x720 with 1 Axes>"
      ]
     },
     "metadata": {
      "needs_background": "light"
     },
     "output_type": "display_data"
    }
   ],
   "source": [
    "# visual of distribution\n",
    "plt.figure(figsize=(12,10))\n",
    "df_copy1.groupby(\"playType\").size().plot(kind='bar')\n",
    "# Label the axes\n",
    "plt.xlabel(\"Play Type\")\n",
    "plt.ylabel(\"Frequency\")\n",
    "plt.title(\"Offensive Play type Distribution Chart\")\n",
    "# Show the figure\n",
    "plt.show()"
   ]
  },
  {
   "cell_type": "markdown",
   "metadata": {
    "id": "0ga-pLEFfUY6"
   },
   "source": [
    "### Play Type Analysis\n",
    "This feature will be removed from the research, all the plays in the data that we have are passing plays, even if they end in a sack. We determined unknown plays were passing plays earlier and the distribution indicates that there is no variation. Sacks are a result of a failed passing play. "
   ]
  },
  {
   "cell_type": "markdown",
   "metadata": {
    "id": "nl6nJb3zf4rl"
   },
   "source": [
    "### Feature 4: Offensive formation (with missing values) analysis and distributions"
   ]
  },
  {
   "cell_type": "code",
   "execution_count": 23,
   "metadata": {
    "colab": {
     "base_uri": "https://localhost:8080/"
    },
    "id": "nmqgrq0xepUw",
    "outputId": "9a24f6cd-ea7a-46ca-ce4b-9dacd4f78d61"
   },
   "outputs": [
    {
     "data": {
      "text/plain": [
       "0            I_FORM\n",
       "1        SINGLEBACK\n",
       "2           SHOTGUN\n",
       "3           SHOTGUN\n",
       "4           SHOTGUN\n",
       "            ...    \n",
       "19234    SINGLEBACK\n",
       "19235       SHOTGUN\n",
       "19236       SHOTGUN\n",
       "19237    SINGLEBACK\n",
       "19238       SHOTGUN\n",
       "Name: offenseFormation, Length: 19239, dtype: object"
      ]
     },
     "execution_count": 23,
     "metadata": {},
     "output_type": "execute_result"
    }
   ],
   "source": [
    "df_copy1[\"offenseFormation\"]\n",
    "\n"
   ]
  },
  {
   "cell_type": "code",
   "execution_count": 24,
   "metadata": {
    "colab": {
     "base_uri": "https://localhost:8080/"
    },
    "id": "8ufFRR0Kepjh",
    "outputId": "bf59fe92-3bb2-46bd-ded4-ea2036153047"
   },
   "outputs": [
    {
     "data": {
      "text/plain": [
       "SHOTGUN       12627\n",
       "SINGLEBACK     2790\n",
       "EMPTY          2428\n",
       "I_FORM          915\n",
       "PISTOL          251\n",
       "JUMBO            51\n",
       "WILDCAT          36\n",
       "Name: offenseFormation, dtype: int64"
      ]
     },
     "execution_count": 24,
     "metadata": {},
     "output_type": "execute_result"
    }
   ],
   "source": [
    "df_copy1[\"offenseFormation\"].value_counts()\n"
   ]
  },
  {
   "cell_type": "markdown",
   "metadata": {
    "id": "-WWZ3qzkgct6"
   },
   "source": [
    "Reviewing the value counts we can already see the variation is higher than most of the other features "
   ]
  },
  {
   "cell_type": "code",
   "execution_count": 25,
   "metadata": {
    "colab": {
     "base_uri": "https://localhost:8080/",
     "height": 675
    },
    "id": "gBBLYyQjgYYF",
    "outputId": "c0012fc5-5b48-47de-feb5-d00d3ac6b478"
   },
   "outputs": [
    {
     "data": {
      "image/png": "[encoded data removed]",
      "text/plain": [
       "<Figure size 864x720 with 1 Axes>"
      ]
     },
     "metadata": {
      "needs_background": "light"
     },
     "output_type": "display_data"
    }
   ],
   "source": [
    "# visual of distribution\n",
    "plt.figure(figsize=(12,10))\n",
    "df_copy1.groupby(\"offenseFormation\").size().plot(kind='bar')\n",
    "# Label the axes\n",
    "plt.xlabel(\"PlayBook Formation\")\n",
    "plt.ylabel(\"Frequency\")\n",
    "plt.title(\"Offensive Playbook Formation Distribution Chart\")\n",
    "# Show the figure\n",
    "plt.show()"
   ]
  },
  {
   "cell_type": "code",
   "execution_count": null,
   "metadata": {
    "id": "1qIxZf0PnlGT"
   },
   "outputs": [],
   "source": []
  },
  {
   "cell_type": "markdown",
   "metadata": {
    "id": "8MJVN3gTiD31"
   },
   "source": [
    "### Offensive Formation feature Analysis\n",
    "This is no surprise as we can see in our earlier methods we determined that shotgun is the most common pass play formation and a shotgun formation consist of 1 rb 1 TE and 3 WR, which is the most common value in personnelO feature. These two features are identical and we will be using only one feature to represent the offensive formation. \n",
    "\n"
   ]
  },
  {
   "cell_type": "markdown",
   "metadata": {
    "id": "5J8yeDmDm6_W"
   },
   "source": [
    "### Feature 5 Defenders In The Box (with missing values) analysis and distributions"
   ]
  },
  {
   "cell_type": "code",
   "execution_count": 26,
   "metadata": {
    "colab": {
     "base_uri": "https://localhost:8080/"
    },
    "id": "ZbvcKAegm4q4",
    "outputId": "ae50cee1-6dd4-461b-df17-7adbb653d0f3"
   },
   "outputs": [
    {
     "data": {
      "text/plain": [
       "0        7.0\n",
       "1        7.0\n",
       "2        6.0\n",
       "3        6.0\n",
       "4        8.0\n",
       "        ... \n",
       "19234    7.0\n",
       "19235    6.0\n",
       "19236    6.0\n",
       "19237    7.0\n",
       "19238    6.0\n",
       "Name: defendersInTheBox, Length: 19239, dtype: float64"
      ]
     },
     "execution_count": 26,
     "metadata": {},
     "output_type": "execute_result"
    }
   ],
   "source": [
    "df_copy1['defendersInTheBox']"
   ]
  },
  {
   "cell_type": "code",
   "execution_count": 27,
   "metadata": {
    "colab": {
     "base_uri": "https://localhost:8080/"
    },
    "id": "puqGG3hInVho",
    "outputId": "a86851ec-559c-49f6-f44b-770c2818d31b"
   },
   "outputs": [
    {
     "data": {
      "text/plain": [
       "6.0     8825\n",
       "7.0     4401\n",
       "5.0     3450\n",
       "4.0     1170\n",
       "8.0     1059\n",
       "3.0      133\n",
       "9.0       77\n",
       "10.0      31\n",
       "11.0      15\n",
       "2.0       14\n",
       "1.0        2\n",
       "Name: defendersInTheBox, dtype: int64"
      ]
     },
     "execution_count": 27,
     "metadata": {},
     "output_type": "execute_result"
    }
   ],
   "source": [
    "df_copy1[\"defendersInTheBox\"].value_counts()"
   ]
  },
  {
   "cell_type": "code",
   "execution_count": 28,
   "metadata": {
    "colab": {
     "base_uri": "https://localhost:8080/",
     "height": 634
    },
    "id": "-Nzt_mn8nhTM",
    "outputId": "0eabc2c7-4fb3-45ee-8b7e-c1ada0cc884a"
   },
   "outputs": [
    {
     "data": {
      "image/png": "[encoded data removed]",
      "text/plain": [
       "<Figure size 864x720 with 1 Axes>"
      ]
     },
     "metadata": {
      "needs_background": "light"
     },
     "output_type": "display_data"
    }
   ],
   "source": [
    "# visual of distribution\n",
    "plt.figure(figsize=(12,10))\n",
    "df_copy1.groupby(\"defendersInTheBox\").size().plot(kind='bar')\n",
    "# Label the axes\n",
    "plt.xlabel(\"Number of Defenders in the Box\")\n",
    "plt.ylabel(\"Frequency\")\n",
    "plt.title(\"Defenders near the Line of Scrimmage\")\n",
    "# Show the figure\n",
    "plt.show()"
   ]
  },
  {
   "cell_type": "markdown",
   "metadata": {
    "id": "4h1KqpdYpTrM"
   },
   "source": [
    "### Defenders in the box Analysis\n",
    "There are usually between 5-7 defenders near the line of scrimmage, with 6 being the most common. What would be interesting is to see if the number of defenders in the box correlates/has a relationship with sacks. "
   ]
  },
  {
   "cell_type": "markdown",
   "metadata": {
    "id": "-2b_ozn_puaT"
   },
   "source": [
    "# Defenders in the box == more pass rushers? what about sacks? See if there is a relationship\n"
   ]
  },
  {
   "cell_type": "markdown",
   "metadata": {
    "id": "-EJ6-_8Up2jQ"
   },
   "source": [
    "### Feature 6: number Of Pass Rushers (with missing values) analysis and distributions"
   ]
  },
  {
   "cell_type": "code",
   "execution_count": 29,
   "metadata": {
    "colab": {
     "base_uri": "https://localhost:8080/"
    },
    "id": "pjDz0teMrlxs",
    "outputId": "322f5e6f-8233-426f-c258-d129c15949e0"
   },
   "outputs": [
    {
     "data": {
      "text/plain": [
       "0        4.0\n",
       "1        4.0\n",
       "2        4.0\n",
       "3        5.0\n",
       "4        6.0\n",
       "        ... \n",
       "19234    NaN\n",
       "19235    NaN\n",
       "19236    NaN\n",
       "19237    NaN\n",
       "19238    NaN\n",
       "Name: numberOfPassRushers, Length: 19239, dtype: float64"
      ]
     },
     "execution_count": 29,
     "metadata": {},
     "output_type": "execute_result"
    }
   ],
   "source": [
    "df_copy1['numberOfPassRushers']"
   ]
  },
  {
   "cell_type": "code",
   "execution_count": 30,
   "metadata": {
    "colab": {
     "base_uri": "https://localhost:8080/"
    },
    "id": "ebFonbmorxdh",
    "outputId": "27b4c7c6-75d8-4651-ab87-c6aad7b1ad4c"
   },
   "outputs": [
    {
     "data": {
      "text/plain": [
       "4.0     11521\n",
       "5.0      3646\n",
       "3.0      1597\n",
       "6.0      1136\n",
       "2.0       253\n",
       "7.0       242\n",
       "0.0       106\n",
       "1.0        73\n",
       "8.0        30\n",
       "10.0        1\n",
       "9.0         1\n",
       "Name: numberOfPassRushers, dtype: int64"
      ]
     },
     "execution_count": 30,
     "metadata": {},
     "output_type": "execute_result"
    }
   ],
   "source": [
    "df_copy1['numberOfPassRushers'].value_counts()"
   ]
  },
  {
   "cell_type": "code",
   "execution_count": 31,
   "metadata": {
    "colab": {
     "base_uri": "https://localhost:8080/",
     "height": 634
    },
    "id": "xU8rA8GRsSJI",
    "outputId": "4db97f20-7d9d-4917-e578-85e0244ec412"
   },
   "outputs": [
    {
     "data": {
      "image/png": "[encoded data removed]",
      "text/plain": [
       "<Figure size 864x720 with 1 Axes>"
      ]
     },
     "metadata": {
      "needs_background": "light"
     },
     "output_type": "display_data"
    }
   ],
   "source": [
    "# visual of distribution\n",
    "plt.figure(figsize=(12,10))\n",
    "df_copy1.groupby(\"numberOfPassRushers\").size().plot(kind='bar')\n",
    "# Label the axes\n",
    "plt.xlabel(\"Number of Defenders Rushing\")\n",
    "plt.ylabel(\"Frequency\")\n",
    "plt.title(\"The Number of Defenders Rushing the Quarterback on Passing Plays\")\n",
    "# Show the figure\n",
    "plt.show()"
   ]
  },
  {
   "cell_type": "markdown",
   "metadata": {
    "id": "uzNSVr7uvc2W"
   },
   "source": [
    "### Feature Number of Pass Rushers Analysis\n",
    "It would be interesting to see if there are any relationships between number of rushers, number of defenders in the box and a sack play result. Most NFL coaches either have 3 or 4 linemen on the defensive line. I would consider a 5 rushers to be a blitz. "
   ]
  },
  {
   "cell_type": "markdown",
   "metadata": {
    "id": "nDm0AnKZxIav"
   },
   "source": [
    "### Feature 6: Defensive Formation (with missing values) analysis and distributions"
   ]
  },
  {
   "cell_type": "code",
   "execution_count": 32,
   "metadata": {
    "colab": {
     "base_uri": "https://localhost:8080/"
    },
    "id": "SDpgM3E7vcPl",
    "outputId": "ba5f6f68-14ed-49ee-d382-758f7f1d13aa"
   },
   "outputs": [
    {
     "data": {
      "text/plain": [
       "0        4 DL, 2 LB, 5 DB\n",
       "1        4 DL, 2 LB, 5 DB\n",
       "2        4 DL, 2 LB, 5 DB\n",
       "3        4 DL, 1 LB, 6 DB\n",
       "4        6 DL, 3 LB, 2 DB\n",
       "               ...       \n",
       "19234    2 DL, 4 LB, 5 DB\n",
       "19235    2 DL, 4 LB, 5 DB\n",
       "19236    1 DL, 5 LB, 5 DB\n",
       "19237    2 DL, 3 LB, 6 DB\n",
       "19238    4 DL, 1 LB, 6 DB\n",
       "Name: personnelD, Length: 19239, dtype: object"
      ]
     },
     "execution_count": 32,
     "metadata": {},
     "output_type": "execute_result"
    }
   ],
   "source": [
    "df_copy1['personnelD']\n"
   ]
  },
  {
   "cell_type": "code",
   "execution_count": 33,
   "metadata": {
    "colab": {
     "base_uri": "https://localhost:8080/"
    },
    "id": "mJbK92GxspZt",
    "outputId": "17ecc4b8-d5e5-431f-8078-6dda998c5b58"
   },
   "outputs": [
    {
     "data": {
      "text/plain": [
       "4 DL, 2 LB, 5 DB                    6652\n",
       "3 DL, 3 LB, 5 DB                    3103\n",
       "4 DL, 3 LB, 4 DB                    2407\n",
       "2 DL, 4 LB, 5 DB                    2109\n",
       "4 DL, 1 LB, 6 DB                    1104\n",
       "3 DL, 2 LB, 6 DB                    1047\n",
       "2 DL, 3 LB, 6 DB                     917\n",
       "3 DL, 4 LB, 4 DB                     743\n",
       "1 DL, 4 LB, 6 DB                     311\n",
       "1 DL, 5 LB, 5 DB                     266\n",
       "1 DL, 3 LB, 7 DB                     102\n",
       "5 DL, 2 LB, 4 DB                      93\n",
       "3 DL, 1 LB, 7 DB                      82\n",
       "2 DL, 2 LB, 7 DB                      71\n",
       "0 DL, 4 LB, 7 DB                      32\n",
       "4 DL, 0 LB, 7 DB                      24\n",
       "4 DL, 4 LB, 3 DB                      23\n",
       "0 DL, 5 LB, 6 DB                      17\n",
       "5 DL, 3 LB, 3 DB                      14\n",
       "5 DL, 1 LB, 5 DB                      13\n",
       "6 DL, 4 LB, 1 DB                      12\n",
       "6 DL, 3 LB, 2 DB                      12\n",
       "0 DL, 6 LB, 5 DB                       6\n",
       "2 DL, 3 LB, 5 DB, 1 WR                 4\n",
       "4 DL, 5 LB, 2 DB                       4\n",
       "6 DL, 2 LB, 3 DB                       3\n",
       "3 DL, 1 LB, 6 DB, 1 WR                 3\n",
       "5 DL, 3 LB, 2 DB, 1 OL                 3\n",
       "6 DL, 1 LB, 4 DB                       2\n",
       "4 DL, 2 LB, 4 DB                       2\n",
       "3 DL, 2 LB, 5 DB, 1 WR                 2\n",
       "3 DL, 1 LB, 6 DB, 1 TE                 2\n",
       "2 DL, 3 LB, 5 DB                       2\n",
       "5 DL, 5 LB, 1 DB                       1\n",
       "2 DL, 2 LB, 6 DB, 1 WR                 1\n",
       "5 DL, 4 LB, 2 DB                       1\n",
       "1 DL, 3 LB, 6 DB, 1 WR                 1\n",
       "1 DL, 4 LB, 3 DB, 1 RB,2 WR            1\n",
       "0 DL, 4 LB, 4 DB, 1 RB,2 WR            1\n",
       "1 DL, 4 LB, 5 DB                       1\n",
       "3 DL, 3 LB, 4 DB, 1 WR                 1\n",
       "3 DL, 2 LB, 5 DB                       1\n",
       "3 DL, 0 LB, 8 DB                       1\n",
       "1 DL, 3 LB, 5 DB, 1 TE,1 WR            1\n",
       "1 DL, 4 LB, 5 DB, 1 RB                 1\n",
       "0 DL, 3 LB, 3 DB, 2 RB,2 TE,1 WR       1\n",
       "2 DL, 4 LB, 4 DB                       1\n",
       "3 DL, 5 LB, 3 DB                       1\n",
       "4 DL, 3 LB, 3 DB, 1 WR                 1\n",
       "1 DL, 2 LB, 7 DB                       1\n",
       "7 DL, 3 LB, 1 DB                       1\n",
       "0 DL, 3 LB, 4 DB, 3 RB,1 QB            1\n",
       "2 DL, 4 LB, 4 DB, 1 RB                 1\n",
       "0 DL, 2 LB, 4 DB, 3 RB,2 WR            1\n",
       "0 DL, 4 LB, 4 DB, 1 TE,2 WR            1\n",
       "4 DL, 4 LB, 2 DB                       1\n",
       "Name: personnelD, dtype: int64"
      ]
     },
     "execution_count": 33,
     "metadata": {},
     "output_type": "execute_result"
    }
   ],
   "source": [
    "df_copy1['personnelD'].value_counts()"
   ]
  },
  {
   "cell_type": "code",
   "execution_count": 34,
   "metadata": {
    "colab": {
     "base_uri": "https://localhost:8080/",
     "height": 776
    },
    "id": "jTUTWPVexVWA",
    "outputId": "7fbe4f77-8f31-41b5-f63d-412d8401b3d0"
   },
   "outputs": [
    {
     "data": {
      "image/png": "[encoded data removed]",
      "text/plain": [
       "<Figure size 864x720 with 1 Axes>"
      ]
     },
     "metadata": {
      "needs_background": "light"
     },
     "output_type": "display_data"
    }
   ],
   "source": [
    "# visual of distribution\n",
    "plt.figure(figsize=(12,10))\n",
    "df_copy1.groupby(\"personnelD\").size().plot(kind='bar')\n",
    "# Label the axes\n",
    "plt.xlabel(\"Defensive Formation\")\n",
    "plt.ylabel(\"Frequency\")\n",
    "plt.title(\"The Formation of the Defense on Passing Downs\")\n",
    "# Show the figure\n",
    "plt.show()"
   ]
  },
  {
   "cell_type": "markdown",
   "metadata": {
    "id": "PsINHptaxn8c"
   },
   "source": [
    "### Feature Defensive Formation Analysis\n",
    "In the bar chart we can conclude that there are in fact more defensive formations than offensive formation (it's not even close). Although the variation is more than the offensive formation we can see that 4DL 2 LB and 5 DB is the most common formation. I would say that this is a cover 3 with an extra corner in the slot. Knowing this data consists of passing plays it would make sense that that the defense would have an extra corner out. A quick glance analysis I would say that defenses play 5 DBs when the offense is in shotgun. "
   ]
  },
  {
   "cell_type": "markdown",
   "metadata": {
    "id": "GEU8OfRfy0bo"
   },
   "source": [
    "# Question: Do shotgun plays == 5 or more DBs defensive formation? "
   ]
  },
  {
   "cell_type": "markdown",
   "metadata": {
    "id": "JqAP22O898uT"
   },
   "source": [
    "### Feature 7: Play Result (with missing values) analysis and distributions\n",
    "Our playresult variable that present the number of net yards gained in each play"
   ]
  },
  {
   "cell_type": "code",
   "execution_count": 35,
   "metadata": {
    "colab": {
     "base_uri": "https://localhost:8080/"
    },
    "id": "Zhhf5wZTtA-2",
    "outputId": "010a77fa-64ec-47b1-940e-7acae79993fa"
   },
   "outputs": [
    {
     "name": "stdout",
     "output_type": "stream",
     "text": [
      "Describe Play Result\n",
      "count    19239.000000\n",
      "mean         6.469047\n",
      "std         10.566605\n",
      "min        -78.000000\n",
      "25%          0.000000\n",
      "50%          4.000000\n",
      "75%         11.000000\n",
      "max         97.000000\n",
      "Name: playResult, dtype: float64\n"
     ]
    }
   ],
   "source": [
    "print(\"Describe Play Result\")\n",
    "print(df['playResult'].describe())"
   ]
  },
  {
   "cell_type": "code",
   "execution_count": 36,
   "metadata": {
    "colab": {
     "base_uri": "https://localhost:8080/",
     "height": 686
    },
    "id": "akKI0znz_Vdz",
    "outputId": "557637e8-242e-4c8f-8aca-d9b319c330ad"
   },
   "outputs": [
    {
     "data": {
      "image/png": "[encoded data removed]",
      "text/plain": [
       "<Figure size 1080x720 with 1 Axes>"
      ]
     },
     "metadata": {
      "needs_background": "light"
     },
     "output_type": "display_data"
    }
   ],
   "source": [
    "plt.rcParams['figure.figsize'] = (15, 10)\n",
    "fig, axes = plt.subplots()\n",
    "\n",
    "\n",
    "plt.hist(df['playResult'], bins=20, color=\"green\", alpha=0.8)\n",
    "plt.xlabel(\"Net Yards Gained\", fontsize=20)\n",
    "plt.ylabel(\"count\", fontsize=20)\n",
    "plt.suptitle(\"Play Result Histogram\", fontsize=30)\n",
    "\n",
    "plt.show()"
   ]
  },
  {
   "cell_type": "code",
   "execution_count": 37,
   "metadata": {
    "colab": {
     "base_uri": "https://localhost:8080/",
     "height": 592
    },
    "id": "DYdhlVJKO6vL",
    "outputId": "4e1cb036-9398-4669-eb93-a086f022155c"
   },
   "outputs": [
    {
     "data": {
      "image/png": "[encoded data removed]",
      "text/plain": [
       "<Figure size 1080x720 with 1 Axes>"
      ]
     },
     "metadata": {
      "needs_background": "light"
     },
     "output_type": "display_data"
    }
   ],
   "source": [
    "plt.boxplot(df['playResult'])\n",
    "\n",
    "plt.show()\n",
    "    "
   ]
  },
  {
   "cell_type": "code",
   "execution_count": 38,
   "metadata": {
    "colab": {
     "base_uri": "https://localhost:8080/"
    },
    "id": "Sjf19z3OSp8M",
    "outputId": "cafc02b8-0f68-4624-9a75-a29befa15161"
   },
   "outputs": [
    {
     "name": "stdout",
     "output_type": "stream",
     "text": [
      "Describe Pass Result\n",
      "count     19237\n",
      "unique        5\n",
      "top           C\n",
      "freq      11370\n",
      "Name: passResult, dtype: object\n"
     ]
    }
   ],
   "source": [
    "print(\"Describe Pass Result\")\n",
    "print(df['passResult'].describe())"
   ]
  },
  {
   "cell_type": "code",
   "execution_count": 39,
   "metadata": {
    "colab": {
     "base_uri": "https://localhost:8080/",
     "height": 648
    },
    "id": "wLzEeUu0V87I",
    "outputId": "22237145-416f-481a-aff5-e456daf61a44"
   },
   "outputs": [
    {
     "data": {
      "image/png": "[encoded data removed]",
      "text/plain": [
       "<Figure size 1080x720 with 1 Axes>"
      ]
     },
     "metadata": {
      "needs_background": "light"
     },
     "output_type": "display_data"
    }
   ],
   "source": [
    "df.groupby(\"passResult\").size().plot(kind='bar', color=\"teal\")\n",
    "plt.xlabel(\"Pass Result\", fontsize=20)\n",
    "plt.ylabel(\"Frequency\", fontsize=20)\n",
    "plt.xticks(rotation = 0, fontsize=15)\n",
    "plt.title(\"Pass Result\", fontsize=30)\n",
    "\n",
    "plt.show()"
   ]
  },
  {
   "cell_type": "code",
   "execution_count": 40,
   "metadata": {
    "colab": {
     "base_uri": "https://localhost:8080/",
     "height": 700
    },
    "id": "h5tGy9CNXh2k",
    "outputId": "577ca489-b47e-4380-dadb-5a4dcb23430f"
   },
   "outputs": [
    {
     "name": "stderr",
     "output_type": "stream",
     "text": [
      "C:\\Users\\Gloria\\Anaconda3\\lib\\site-packages\\ipykernel_launcher.py:4: UserWarning: You have mixed positional and keyword arguments, some input may be discarded.\n",
      "  after removing the cwd from sys.path.\n"
     ]
    },
    {
     "data": {
      "image/png": "[encoded data removed]",
      "text/plain": [
       "<Figure size 1080x720 with 1 Axes>"
      ]
     },
     "metadata": {},
     "output_type": "display_data"
    }
   ],
   "source": [
    "explode = (0.1, 0, 0, 0, 0.1)\n",
    "plt.pie(df.passResult.value_counts(), autopct='%1.1f%%',\n",
    "        shadow=True, startangle=90, textprops={'fontsize': 15}, pctdistance=0.6, explode=explode)\n",
    "plt.legend(df.passResult.value_counts().index, labels= df.passResult.value_counts().index, title=\"Countries\",loc=\"center left\", bbox_to_anchor=(1.0, 0, 0.5, 1), fontsize=15)\n",
    "plt.axis('equal') \n",
    "plt.suptitle('Pass Result', fontsize = 20)\n",
    "plt.show()"
   ]
  },
  {
   "cell_type": "code",
   "execution_count": 41,
   "metadata": {
    "colab": {
     "base_uri": "https://localhost:8080/",
     "height": 904
    },
    "id": "vA85BZg8mwYV",
    "outputId": "900de8e6-a692-473a-e193-2db98b0fcc74"
   },
   "outputs": [
    {
     "data": {
      "text/plain": [
       "Text(0.5, 0.98, 'Box Plot Attendance by Month')"
      ]
     },
     "execution_count": 41,
     "metadata": {},
     "output_type": "execute_result"
    },
    {
     "data": {
      "image/png": "[encoded data removed]",
      "text/plain": [
       "<Figure size 864x864 with 1 Axes>"
      ]
     },
     "metadata": {
      "needs_background": "light"
     },
     "output_type": "display_data"
    }
   ],
   "source": [
    "ax = sns.catplot(x='passResult', y='playResult', kind = 'box', data = df, height=12, aspect=1)\n",
    "ax.fig.suptitle('Box Plot Attendance by Month')"
   ]
  },
  {
   "cell_type": "markdown",
   "metadata": {
    "id": "tojJdKkqtA_D"
   },
   "source": [
    "To begin our analysis, we will use an l apply to add an outcome column to the data set. This is the column we will use as our dependent variable. If the play results in any sort of positive yardage we counted that as a success "
   ]
  },
  {
   "cell_type": "code",
   "execution_count": 42,
   "metadata": {
    "id": "Bvb1C1sZu4lq",
    "scrolled": true
   },
   "outputs": [
    {
     "data": {
      "text/html": [
       "<div>\n",
       "<style scoped>\n",
       "    .dataframe tbody tr th:only-of-type {\n",
       "        vertical-align: middle;\n",
       "    }\n",
       "\n",
       "    .dataframe tbody tr th {\n",
       "        vertical-align: top;\n",
       "    }\n",
       "\n",
       "    .dataframe thead th {\n",
       "        text-align: right;\n",
       "    }\n",
       "</style>\n",
       "<table border=\"1\" class=\"dataframe\">\n",
       "  <thead>\n",
       "    <tr style=\"text-align: right;\">\n",
       "      <th></th>\n",
       "      <th>gameId</th>\n",
       "      <th>playId</th>\n",
       "      <th>playDescription</th>\n",
       "      <th>quarter</th>\n",
       "      <th>down</th>\n",
       "      <th>yardsToGo</th>\n",
       "      <th>possessionTeam</th>\n",
       "      <th>playType</th>\n",
       "      <th>yardlineSide</th>\n",
       "      <th>yardlineNumber</th>\n",
       "      <th>...</th>\n",
       "      <th>gameClock</th>\n",
       "      <th>absoluteYardlineNumber</th>\n",
       "      <th>penaltyCodes</th>\n",
       "      <th>penaltyJerseyNumbers</th>\n",
       "      <th>passResult</th>\n",
       "      <th>offensePlayResult</th>\n",
       "      <th>playResult</th>\n",
       "      <th>epa</th>\n",
       "      <th>isDefensivePI</th>\n",
       "      <th>outcome</th>\n",
       "    </tr>\n",
       "  </thead>\n",
       "  <tbody>\n",
       "    <tr>\n",
       "      <td>0</td>\n",
       "      <td>2018090600</td>\n",
       "      <td>75</td>\n",
       "      <td>(15:00) M.Ryan pass short right to J.Jones pus...</td>\n",
       "      <td>1</td>\n",
       "      <td>1</td>\n",
       "      <td>15</td>\n",
       "      <td>ATL</td>\n",
       "      <td>play_type_pass</td>\n",
       "      <td>ATL</td>\n",
       "      <td>20</td>\n",
       "      <td>...</td>\n",
       "      <td>15:00:00</td>\n",
       "      <td>90.0</td>\n",
       "      <td>NaN</td>\n",
       "      <td>NaN</td>\n",
       "      <td>C</td>\n",
       "      <td>10</td>\n",
       "      <td>10</td>\n",
       "      <td>0.261827</td>\n",
       "      <td>False</td>\n",
       "      <td>1</td>\n",
       "    </tr>\n",
       "    <tr>\n",
       "      <td>1</td>\n",
       "      <td>2018090600</td>\n",
       "      <td>146</td>\n",
       "      <td>(13:10) M.Ryan pass incomplete short right to ...</td>\n",
       "      <td>1</td>\n",
       "      <td>1</td>\n",
       "      <td>10</td>\n",
       "      <td>ATL</td>\n",
       "      <td>play_type_pass</td>\n",
       "      <td>PHI</td>\n",
       "      <td>39</td>\n",
       "      <td>...</td>\n",
       "      <td>13:10:00</td>\n",
       "      <td>49.0</td>\n",
       "      <td>NaN</td>\n",
       "      <td>NaN</td>\n",
       "      <td>I</td>\n",
       "      <td>0</td>\n",
       "      <td>0</td>\n",
       "      <td>-0.372360</td>\n",
       "      <td>False</td>\n",
       "      <td>0</td>\n",
       "    </tr>\n",
       "    <tr>\n",
       "      <td>2</td>\n",
       "      <td>2018090600</td>\n",
       "      <td>168</td>\n",
       "      <td>(13:05) (Shotgun) M.Ryan pass incomplete short...</td>\n",
       "      <td>1</td>\n",
       "      <td>2</td>\n",
       "      <td>10</td>\n",
       "      <td>ATL</td>\n",
       "      <td>play_type_pass</td>\n",
       "      <td>PHI</td>\n",
       "      <td>39</td>\n",
       "      <td>...</td>\n",
       "      <td>13:05:00</td>\n",
       "      <td>49.0</td>\n",
       "      <td>NaN</td>\n",
       "      <td>NaN</td>\n",
       "      <td>I</td>\n",
       "      <td>0</td>\n",
       "      <td>0</td>\n",
       "      <td>-0.702779</td>\n",
       "      <td>False</td>\n",
       "      <td>0</td>\n",
       "    </tr>\n",
       "    <tr>\n",
       "      <td>3</td>\n",
       "      <td>2018090600</td>\n",
       "      <td>190</td>\n",
       "      <td>(13:01) (Shotgun) M.Ryan pass deep left to J.J...</td>\n",
       "      <td>1</td>\n",
       "      <td>3</td>\n",
       "      <td>10</td>\n",
       "      <td>ATL</td>\n",
       "      <td>play_type_pass</td>\n",
       "      <td>PHI</td>\n",
       "      <td>39</td>\n",
       "      <td>...</td>\n",
       "      <td>13:01:00</td>\n",
       "      <td>49.0</td>\n",
       "      <td>NaN</td>\n",
       "      <td>NaN</td>\n",
       "      <td>C</td>\n",
       "      <td>33</td>\n",
       "      <td>33</td>\n",
       "      <td>3.047530</td>\n",
       "      <td>False</td>\n",
       "      <td>1</td>\n",
       "    </tr>\n",
       "    <tr>\n",
       "      <td>4</td>\n",
       "      <td>2018090600</td>\n",
       "      <td>256</td>\n",
       "      <td>(10:59) (Shotgun) M.Ryan pass incomplete short...</td>\n",
       "      <td>1</td>\n",
       "      <td>3</td>\n",
       "      <td>1</td>\n",
       "      <td>ATL</td>\n",
       "      <td>play_type_pass</td>\n",
       "      <td>PHI</td>\n",
       "      <td>1</td>\n",
       "      <td>...</td>\n",
       "      <td>10:59:00</td>\n",
       "      <td>11.0</td>\n",
       "      <td>NaN</td>\n",
       "      <td>NaN</td>\n",
       "      <td>I</td>\n",
       "      <td>0</td>\n",
       "      <td>0</td>\n",
       "      <td>-0.842272</td>\n",
       "      <td>False</td>\n",
       "      <td>0</td>\n",
       "    </tr>\n",
       "  </tbody>\n",
       "</table>\n",
       "<p>5 rows × 28 columns</p>\n",
       "</div>"
      ],
      "text/plain": [
       "       gameId  playId                                    playDescription  \\\n",
       "0  2018090600      75  (15:00) M.Ryan pass short right to J.Jones pus...   \n",
       "1  2018090600     146  (13:10) M.Ryan pass incomplete short right to ...   \n",
       "2  2018090600     168  (13:05) (Shotgun) M.Ryan pass incomplete short...   \n",
       "3  2018090600     190  (13:01) (Shotgun) M.Ryan pass deep left to J.J...   \n",
       "4  2018090600     256  (10:59) (Shotgun) M.Ryan pass incomplete short...   \n",
       "\n",
       "   quarter  down  yardsToGo possessionTeam        playType yardlineSide  \\\n",
       "0        1     1         15            ATL  play_type_pass          ATL   \n",
       "1        1     1         10            ATL  play_type_pass          PHI   \n",
       "2        1     2         10            ATL  play_type_pass          PHI   \n",
       "3        1     3         10            ATL  play_type_pass          PHI   \n",
       "4        1     3          1            ATL  play_type_pass          PHI   \n",
       "\n",
       "   yardlineNumber  ... gameClock absoluteYardlineNumber  penaltyCodes  \\\n",
       "0              20  ...  15:00:00                   90.0           NaN   \n",
       "1              39  ...  13:10:00                   49.0           NaN   \n",
       "2              39  ...  13:05:00                   49.0           NaN   \n",
       "3              39  ...  13:01:00                   49.0           NaN   \n",
       "4               1  ...  10:59:00                   11.0           NaN   \n",
       "\n",
       "   penaltyJerseyNumbers passResult offensePlayResult  playResult       epa  \\\n",
       "0                   NaN          C                10          10  0.261827   \n",
       "1                   NaN          I                 0           0 -0.372360   \n",
       "2                   NaN          I                 0           0 -0.702779   \n",
       "3                   NaN          C                33          33  3.047530   \n",
       "4                   NaN          I                 0           0 -0.842272   \n",
       "\n",
       "  isDefensivePI  outcome  \n",
       "0         False        1  \n",
       "1         False        0  \n",
       "2         False        0  \n",
       "3         False        1  \n",
       "4         False        0  \n",
       "\n",
       "[5 rows x 28 columns]"
      ]
     },
     "execution_count": 42,
     "metadata": {},
     "output_type": "execute_result"
    }
   ],
   "source": [
    "df['outcome'] = df['playResult'].apply(lambda c: 1 if c > 0 else 0)\n",
    "\n",
    "df.head()"
   ]
  },
  {
   "cell_type": "code",
   "execution_count": 43,
   "metadata": {},
   "outputs": [
    {
     "data": {
      "text/plain": [
       "Text(0.5, 1.0, 'Outcome Counts')"
      ]
     },
     "execution_count": 43,
     "metadata": {},
     "output_type": "execute_result"
    },
    {
     "data": {
      "image/png": "[encoded data removed]",
      "text/plain": [
       "<Figure size 1080x720 with 1 Axes>"
      ]
     },
     "metadata": {
      "needs_background": "light"
     },
     "output_type": "display_data"
    }
   ],
   "source": [
    "sns.countplot(x='outcome', data=df, palette = 'hls').set_title('Outcome Counts')"
   ]
  },
  {
   "cell_type": "markdown",
   "metadata": {},
   "source": [
    "OHE offensive formation"
   ]
  },
  {
   "cell_type": "code",
   "execution_count": 44,
   "metadata": {},
   "outputs": [],
   "source": [
    "processed = df[['gameId', 'playId', 'quarter', 'down', 'yardsToGo','yardlineNumber', 'defendersInTheBox',\n",
    "       'numberOfPassRushers', 'preSnapVisitorScore', 'preSnapHomeScore',\n",
    "       'absoluteYardlineNumber', 'offensePlayResult', 'playResult', 'epa', 'outcome']].copy()"
   ]
  },
  {
   "cell_type": "code",
   "execution_count": 45,
   "metadata": {},
   "outputs": [
    {
     "data": {
      "text/html": [
       "<div>\n",
       "<style scoped>\n",
       "    .dataframe tbody tr th:only-of-type {\n",
       "        vertical-align: middle;\n",
       "    }\n",
       "\n",
       "    .dataframe tbody tr th {\n",
       "        vertical-align: top;\n",
       "    }\n",
       "\n",
       "    .dataframe thead th {\n",
       "        text-align: right;\n",
       "    }\n",
       "</style>\n",
       "<table border=\"1\" class=\"dataframe\">\n",
       "  <thead>\n",
       "    <tr style=\"text-align: right;\">\n",
       "      <th></th>\n",
       "      <th>gameId</th>\n",
       "      <th>playId</th>\n",
       "      <th>quarter</th>\n",
       "      <th>down</th>\n",
       "      <th>yardsToGo</th>\n",
       "      <th>yardlineNumber</th>\n",
       "      <th>defendersInTheBox</th>\n",
       "      <th>numberOfPassRushers</th>\n",
       "      <th>preSnapVisitorScore</th>\n",
       "      <th>preSnapHomeScore</th>\n",
       "      <th>absoluteYardlineNumber</th>\n",
       "      <th>offensePlayResult</th>\n",
       "      <th>playResult</th>\n",
       "      <th>epa</th>\n",
       "      <th>outcome</th>\n",
       "    </tr>\n",
       "  </thead>\n",
       "  <tbody>\n",
       "    <tr>\n",
       "      <td>0</td>\n",
       "      <td>2018090600</td>\n",
       "      <td>75</td>\n",
       "      <td>1</td>\n",
       "      <td>1</td>\n",
       "      <td>15</td>\n",
       "      <td>20</td>\n",
       "      <td>7.0</td>\n",
       "      <td>4.0</td>\n",
       "      <td>0.0</td>\n",
       "      <td>0.0</td>\n",
       "      <td>90.0</td>\n",
       "      <td>10</td>\n",
       "      <td>10</td>\n",
       "      <td>0.261827</td>\n",
       "      <td>1</td>\n",
       "    </tr>\n",
       "    <tr>\n",
       "      <td>1</td>\n",
       "      <td>2018090600</td>\n",
       "      <td>146</td>\n",
       "      <td>1</td>\n",
       "      <td>1</td>\n",
       "      <td>10</td>\n",
       "      <td>39</td>\n",
       "      <td>7.0</td>\n",
       "      <td>4.0</td>\n",
       "      <td>0.0</td>\n",
       "      <td>0.0</td>\n",
       "      <td>49.0</td>\n",
       "      <td>0</td>\n",
       "      <td>0</td>\n",
       "      <td>-0.372360</td>\n",
       "      <td>0</td>\n",
       "    </tr>\n",
       "    <tr>\n",
       "      <td>2</td>\n",
       "      <td>2018090600</td>\n",
       "      <td>168</td>\n",
       "      <td>1</td>\n",
       "      <td>2</td>\n",
       "      <td>10</td>\n",
       "      <td>39</td>\n",
       "      <td>6.0</td>\n",
       "      <td>4.0</td>\n",
       "      <td>0.0</td>\n",
       "      <td>0.0</td>\n",
       "      <td>49.0</td>\n",
       "      <td>0</td>\n",
       "      <td>0</td>\n",
       "      <td>-0.702779</td>\n",
       "      <td>0</td>\n",
       "    </tr>\n",
       "    <tr>\n",
       "      <td>3</td>\n",
       "      <td>2018090600</td>\n",
       "      <td>190</td>\n",
       "      <td>1</td>\n",
       "      <td>3</td>\n",
       "      <td>10</td>\n",
       "      <td>39</td>\n",
       "      <td>6.0</td>\n",
       "      <td>5.0</td>\n",
       "      <td>0.0</td>\n",
       "      <td>0.0</td>\n",
       "      <td>49.0</td>\n",
       "      <td>33</td>\n",
       "      <td>33</td>\n",
       "      <td>3.047530</td>\n",
       "      <td>1</td>\n",
       "    </tr>\n",
       "    <tr>\n",
       "      <td>4</td>\n",
       "      <td>2018090600</td>\n",
       "      <td>256</td>\n",
       "      <td>1</td>\n",
       "      <td>3</td>\n",
       "      <td>1</td>\n",
       "      <td>1</td>\n",
       "      <td>8.0</td>\n",
       "      <td>6.0</td>\n",
       "      <td>0.0</td>\n",
       "      <td>0.0</td>\n",
       "      <td>11.0</td>\n",
       "      <td>0</td>\n",
       "      <td>0</td>\n",
       "      <td>-0.842272</td>\n",
       "      <td>0</td>\n",
       "    </tr>\n",
       "  </tbody>\n",
       "</table>\n",
       "</div>"
      ],
      "text/plain": [
       "       gameId  playId  quarter  down  yardsToGo  yardlineNumber  \\\n",
       "0  2018090600      75        1     1         15              20   \n",
       "1  2018090600     146        1     1         10              39   \n",
       "2  2018090600     168        1     2         10              39   \n",
       "3  2018090600     190        1     3         10              39   \n",
       "4  2018090600     256        1     3          1               1   \n",
       "\n",
       "   defendersInTheBox  numberOfPassRushers  preSnapVisitorScore  \\\n",
       "0                7.0                  4.0                  0.0   \n",
       "1                7.0                  4.0                  0.0   \n",
       "2                6.0                  4.0                  0.0   \n",
       "3                6.0                  5.0                  0.0   \n",
       "4                8.0                  6.0                  0.0   \n",
       "\n",
       "   preSnapHomeScore  absoluteYardlineNumber  offensePlayResult  playResult  \\\n",
       "0               0.0                    90.0                 10          10   \n",
       "1               0.0                    49.0                  0           0   \n",
       "2               0.0                    49.0                  0           0   \n",
       "3               0.0                    49.0                 33          33   \n",
       "4               0.0                    11.0                  0           0   \n",
       "\n",
       "        epa  outcome  \n",
       "0  0.261827        1  \n",
       "1 -0.372360        0  \n",
       "2 -0.702779        0  \n",
       "3  3.047530        1  \n",
       "4 -0.842272        0  "
      ]
     },
     "execution_count": 45,
     "metadata": {},
     "output_type": "execute_result"
    }
   ],
   "source": [
    "processed.head()"
   ]
  },
  {
   "cell_type": "code",
   "execution_count": 46,
   "metadata": {},
   "outputs": [],
   "source": [
    "target = processed['outcome']"
   ]
  },
  {
   "cell_type": "code",
   "execution_count": 49,
   "metadata": {},
   "outputs": [
    {
     "data": {
      "text/plain": [
       "Index(['gameId', 'playId', 'playDescription', 'quarter', 'down', 'yardsToGo',\n",
       "       'possessionTeam', 'playType', 'yardlineSide', 'yardlineNumber',\n",
       "       'offenseFormation', 'personnelO', 'defendersInTheBox',\n",
       "       'numberOfPassRushers', 'personnelD', 'typeDropback',\n",
       "       'preSnapVisitorScore', 'preSnapHomeScore', 'gameClock',\n",
       "       'absoluteYardlineNumber', 'penaltyCodes', 'penaltyJerseyNumbers',\n",
       "       'passResult', 'offensePlayResult', 'playResult', 'epa',\n",
       "       'isDefensivePI'],\n",
       "      dtype='object')"
      ]
     },
     "execution_count": 49,
     "metadata": {},
     "output_type": "execute_result"
    }
   ],
   "source": [
    "df_copy1.columns"
   ]
  },
  {
   "cell_type": "code",
   "execution_count": 54,
   "metadata": {},
   "outputs": [
    {
     "name": "stdout",
     "output_type": "stream",
     "text": [
      "   offenseFormation_EMPTY  offenseFormation_I_FORM  offenseFormation_JUMBO  \\\n",
      "0                       0                        1                       0   \n",
      "1                       0                        0                       0   \n",
      "2                       0                        0                       0   \n",
      "3                       0                        0                       0   \n",
      "4                       0                        0                       0   \n",
      "5                       0                        0                       0   \n",
      "6                       1                        0                       0   \n",
      "7                       0                        0                       0   \n",
      "\n",
      "   offenseFormation_PISTOL  offenseFormation_SHOTGUN  \\\n",
      "0                        0                         0   \n",
      "1                        0                         0   \n",
      "2                        0                         1   \n",
      "3                        0                         1   \n",
      "4                        0                         1   \n",
      "5                        0                         1   \n",
      "6                        0                         0   \n",
      "7                        0                         0   \n",
      "\n",
      "   offenseFormation_SINGLEBACK  offenseFormation_WILDCAT  \\\n",
      "0                            0                         0   \n",
      "1                            1                         0   \n",
      "2                            0                         0   \n",
      "3                            0                         0   \n",
      "4                            0                         0   \n",
      "5                            0                         0   \n",
      "6                            0                         0   \n",
      "7                            1                         0   \n",
      "\n",
      "   personnelO_0 RB, 0 TE, 5 WR  personnelO_0 RB, 1 TE, 0 WR,1 P,1 LS,2 DL,1 K  \\\n",
      "0                            0                                              0   \n",
      "1                            0                                              0   \n",
      "2                            0                                              0   \n",
      "3                            0                                              0   \n",
      "4                            0                                              0   \n",
      "5                            0                                              0   \n",
      "6                            0                                              0   \n",
      "7                            0                                              0   \n",
      "\n",
      "   personnelO_0 RB, 1 TE, 0 WR,1 P,3 LB,1 LS,1 DL,4 DB  ...  \\\n",
      "0                                                  0    ...   \n",
      "1                                                  0    ...   \n",
      "2                                                  0    ...   \n",
      "3                                                  0    ...   \n",
      "4                                                  0    ...   \n",
      "5                                                  0    ...   \n",
      "6                                                  0    ...   \n",
      "7                                                  0    ...   \n",
      "\n",
      "   personnelD_5 DL, 2 LB, 4 DB  personnelD_5 DL, 3 LB, 2 DB, 1 OL  \\\n",
      "0                            0                                  0   \n",
      "1                            0                                  0   \n",
      "2                            0                                  0   \n",
      "3                            0                                  0   \n",
      "4                            0                                  0   \n",
      "5                            0                                  0   \n",
      "6                            0                                  0   \n",
      "7                            0                                  0   \n",
      "\n",
      "   personnelD_5 DL, 3 LB, 3 DB  personnelD_5 DL, 4 LB, 2 DB  \\\n",
      "0                            0                            0   \n",
      "1                            0                            0   \n",
      "2                            0                            0   \n",
      "3                            0                            0   \n",
      "4                            0                            0   \n",
      "5                            0                            0   \n",
      "6                            0                            0   \n",
      "7                            0                            0   \n",
      "\n",
      "   personnelD_5 DL, 5 LB, 1 DB  personnelD_6 DL, 1 LB, 4 DB  \\\n",
      "0                            0                            0   \n",
      "1                            0                            0   \n",
      "2                            0                            0   \n",
      "3                            0                            0   \n",
      "4                            0                            0   \n",
      "5                            0                            0   \n",
      "6                            0                            0   \n",
      "7                            0                            0   \n",
      "\n",
      "   personnelD_6 DL, 2 LB, 3 DB  personnelD_6 DL, 3 LB, 2 DB  \\\n",
      "0                            0                            0   \n",
      "1                            0                            0   \n",
      "2                            0                            0   \n",
      "3                            0                            0   \n",
      "4                            0                            1   \n",
      "5                            0                            0   \n",
      "6                            0                            0   \n",
      "7                            0                            0   \n",
      "\n",
      "   personnelD_6 DL, 4 LB, 1 DB  personnelD_7 DL, 3 LB, 1 DB  \n",
      "0                            0                            0  \n",
      "1                            0                            0  \n",
      "2                            0                            0  \n",
      "3                            0                            0  \n",
      "4                            0                            0  \n",
      "5                            0                            0  \n",
      "6                            0                            0  \n",
      "7                            0                            0  \n",
      "\n",
      "[8 rows x 119 columns]\n"
     ]
    }
   ],
   "source": [
    "data_cat = df_copy1[['offenseFormation', 'personnelO', 'personnelD']]\n",
    "# One Hot Encoding \n",
    "data_cat_dummies = pd.get_dummies(data_cat)\n",
    "# check the data\n",
    "print(data_cat_dummies.head(8))"
   ]
  },
  {
   "cell_type": "code",
   "execution_count": null,
   "metadata": {},
   "outputs": [],
   "source": [
    "cat_columns = ['offenseFormation', 'personnelD', 'personnelO', 'passResult']\n",
    "cat_dummies = [col for col in processed \n",
    "               if \"__\" in col \n",
    "               and col.split(\"__\")[0] in cat_columns]\n",
    "processed = pd.get_dummies(df, prefix_sep=\"__\",\n",
    "                              columns=cat_columns)"
   ]
  },
  {
   "cell_type": "code",
   "execution_count": null,
   "metadata": {
    "scrolled": true
   },
   "outputs": [],
   "source": [
    "processed.head()"
   ]
  },
  {
   "cell_type": "code",
   "execution_count": null,
   "metadata": {},
   "outputs": [],
   "source": [
    "for col in processed.columns: \n",
    "    print(col) "
   ]
  },
  {
   "cell_type": "markdown",
   "metadata": {},
   "source": [
    "Dropping variables that we are not are interested in analyize"
   ]
  },
  {
   "cell_type": "code",
   "execution_count": null,
   "metadata": {},
   "outputs": [],
   "source": [
    "processed = processed.drop('playDescription', axis = 1)"
   ]
  },
  {
   "cell_type": "code",
   "execution_count": null,
   "metadata": {},
   "outputs": [],
   "source": [
    "processed = processed.drop('possessionTeam', axis = 1)"
   ]
  },
  {
   "cell_type": "code",
   "execution_count": null,
   "metadata": {},
   "outputs": [],
   "source": [
    "processed = processed.drop('playType', axis = 1)"
   ]
  },
  {
   "cell_type": "code",
   "execution_count": null,
   "metadata": {},
   "outputs": [],
   "source": [
    "processed = processed.drop('yardlineSide', axis = 1)"
   ]
  },
  {
   "cell_type": "code",
   "execution_count": null,
   "metadata": {},
   "outputs": [],
   "source": [
    "processed = processed.drop('typeDropback', axis = 1)"
   ]
  },
  {
   "cell_type": "code",
   "execution_count": null,
   "metadata": {},
   "outputs": [],
   "source": [
    "processed = processed.drop('gameClock', axis = 1)"
   ]
  },
  {
   "cell_type": "code",
   "execution_count": null,
   "metadata": {},
   "outputs": [],
   "source": [
    "processed = processed.drop('penaltyCodes', axis = 1)"
   ]
  },
  {
   "cell_type": "code",
   "execution_count": null,
   "metadata": {},
   "outputs": [],
   "source": [
    "processed = processed.drop('penaltyJerseyNumbers', axis = 1)"
   ]
  },
  {
   "cell_type": "code",
   "execution_count": null,
   "metadata": {},
   "outputs": [],
   "source": [
    "processed = processed.drop('offensePlayResult', axis = 1)"
   ]
  },
  {
   "cell_type": "code",
   "execution_count": null,
   "metadata": {},
   "outputs": [],
   "source": [
    "processed = processed.drop('playResult', axis = 1)"
   ]
  },
  {
   "cell_type": "code",
   "execution_count": null,
   "metadata": {},
   "outputs": [],
   "source": [
    "processed = processed.drop('isDefensivePI', axis = 1)"
   ]
  },
  {
   "cell_type": "code",
   "execution_count": null,
   "metadata": {},
   "outputs": [],
   "source": [
    "processed = processed.drop('gameId', axis = 1)"
   ]
  },
  {
   "cell_type": "code",
   "execution_count": null,
   "metadata": {
    "scrolled": true
   },
   "outputs": [],
   "source": [
    "processed.head()"
   ]
  },
  {
   "cell_type": "code",
   "execution_count": null,
   "metadata": {},
   "outputs": [],
   "source": [
    "for col in processed.columns: \n",
    "    print(col) "
   ]
  },
  {
   "cell_type": "markdown",
   "metadata": {},
   "source": [
    "### Missing values\n",
    "\n",
    "\n",
    "The criteria used to handling missing values is to drop the rows that has them, this criteria was decided after analysis and conclude that plays with missing data is not a play the we can analyze and does not aport information to the data set"
   ]
  },
  {
   "cell_type": "code",
   "execution_count": null,
   "metadata": {
    "scrolled": true
   },
   "outputs": [],
   "source": [
    "processed = processed.dropna(axis=1)"
   ]
  },
  {
   "cell_type": "code",
   "execution_count": null,
   "metadata": {},
   "outputs": [],
   "source": [
    "processed.reset_index()"
   ]
  },
  {
   "cell_type": "code",
   "execution_count": null,
   "metadata": {},
   "outputs": [],
   "source": [
    "#Checking if we have any NaN value left\n",
    "processed.isnull().sum().sum()"
   ]
  },
  {
   "cell_type": "markdown",
   "metadata": {},
   "source": [
    "## Correlation"
   ]
  },
  {
   "cell_type": "code",
   "execution_count": 55,
   "metadata": {},
   "outputs": [],
   "source": [
    "from sklearn.feature_selection import SelectKBest\n",
    "from sklearn.feature_selection import chi2, f_classif"
   ]
  },
  {
   "cell_type": "code",
   "execution_count": 58,
   "metadata": {},
   "outputs": [],
   "source": [
    "chi2_selector = SelectKBest(chi2, k =2)\n",
    "features_kbest = chi2_selector.fit_transform(data_cat_dummies, target)"
   ]
  },
  {
   "cell_type": "code",
   "execution_count": 60,
   "metadata": {},
   "outputs": [
    {
     "name": "stdout",
     "output_type": "stream",
     "text": [
      "Original # Features 119\n",
      "reduced # features 2\n"
     ]
    }
   ],
   "source": [
    "print('Original # Features', data_cat_dummies.shape[1])\n",
    "print('reduced # features', features_kbest.shape[1])"
   ]
  },
  {
   "cell_type": "code",
   "execution_count": null,
   "metadata": {},
   "outputs": [],
   "source": [
    "corr = processed[\"playId\"].corr(processed[\"outcome\"])\n",
    "print(corr)"
   ]
  },
  {
   "cell_type": "code",
   "execution_count": null,
   "metadata": {},
   "outputs": [],
   "source": [
    "corrdf = processed.corr()"
   ]
  },
  {
   "cell_type": "code",
   "execution_count": null,
   "metadata": {},
   "outputs": [],
   "source": [
    "positivec = corrdf[corrdf[\"outcome\"]>=0.05]"
   ]
  },
  {
   "cell_type": "code",
   "execution_count": null,
   "metadata": {},
   "outputs": [],
   "source": [
    "positivec"
   ]
  },
  {
   "cell_type": "code",
   "execution_count": null,
   "metadata": {},
   "outputs": [],
   "source": [
    "negativec = corrdf[corrdf[\"outcome\"]<= -0.1]"
   ]
  },
  {
   "cell_type": "code",
   "execution_count": null,
   "metadata": {},
   "outputs": [],
   "source": [
    "negativec"
   ]
  },
  {
   "cell_type": "code",
   "execution_count": null,
   "metadata": {},
   "outputs": [],
   "source": [
    "import seaborn as sns\n",
    "\n",
    "corr = processed.corr(method=\"pearson\")\n",
    "fig, ax = plt.subplots(figsize=(20,20))\n",
    "sns.set(font_scale= 1.1)\n",
    "sns.heatmap(corr, vmin = -1, vmax = 1, center = 0, cmap=sns.diverging_palette(20, 220, n=50), square=True, cbar_kws={\"shrink\": 0.5})\n",
    "plt.title('Correlation Heat Map', fontsize = 5)\n",
    "plt.show()"
   ]
  },
  {
   "cell_type": "markdown",
   "metadata": {},
   "source": [
    "## PCA for feture reduction"
   ]
  },
  {
   "cell_type": "code",
   "execution_count": null,
   "metadata": {},
   "outputs": [],
   "source": [
    "from sklearn.discriminant_analysis import LinearDiscriminantAnalysis"
   ]
  },
  {
   "cell_type": "code",
   "execution_count": null,
   "metadata": {},
   "outputs": [],
   "source": [
    "features = processed.loc[:, processed.columns != 'outcome']"
   ]
  },
  {
   "cell_type": "code",
   "execution_count": null,
   "metadata": {},
   "outputs": [],
   "source": [
    "x = features.values\n",
    "y = processed.loc[:, ['outcome']].values"
   ]
  },
  {
   "cell_type": "code",
   "execution_count": null,
   "metadata": {},
   "outputs": [],
   "source": [
    "features = x\n",
    "target = y\n",
    "\n",
    "lda = LinearDiscriminantAnalysis(n_components = 5)\n",
    "features_lda = lda.fit(features, target).transform(features)\n",
    "\n",
    "print('Original # of Features', features.shape[1])\n",
    "print('reduced # of features', features_lda.shape[1])"
   ]
  },
  {
   "cell_type": "markdown",
   "metadata": {
    "id": "7-NsE5iAu5dL"
   },
   "source": [
    "## Split into train and test sets"
   ]
  },
  {
   "cell_type": "code",
   "execution_count": null,
   "metadata": {},
   "outputs": [],
   "source": [
    "from sklearn.model_selection import train_test_split, GridSearchCV"
   ]
  },
  {
   "cell_type": "code",
   "execution_count": null,
   "metadata": {},
   "outputs": [],
   "source": [
    "data_model_y = processed.replace({'outcome': {1: 'Yard gained', 0: 'No Yard gained'}})['outcome']"
   ]
  },
  {
   "cell_type": "code",
   "execution_count": null,
   "metadata": {},
   "outputs": [],
   "source": [
    "X_train, X_val, y_train, y_val = train_test_split(processed.loc[:, processed.columns != 'outcome'],\n",
    "                                                    data_model_y, test_size =0.7, random_state=22, stratify=processed['outcome'])"
   ]
  },
  {
   "cell_type": "markdown",
   "metadata": {},
   "source": [
    "## Logistic Regression"
   ]
  },
  {
   "cell_type": "code",
   "execution_count": null,
   "metadata": {},
   "outputs": [],
   "source": [
    "from sklearn.linear_model import LogisticRegression\n",
    "from sklearn.preprocessing import StandardScaler\n",
    "from yellowbrick.classifier import ConfusionMatrix\n",
    "from yellowbrick.classifier import ClassificationReport\n",
    "from yellowbrick.classifier import ROCAUC"
   ]
  },
  {
   "cell_type": "code",
   "execution_count": null,
   "metadata": {},
   "outputs": [],
   "source": [
    "model = LogisticRegression()"
   ]
  },
  {
   "cell_type": "code",
   "execution_count": null,
   "metadata": {},
   "outputs": [],
   "source": [
    "#The ConfusionMatrix visualizer taxes a model\n",
    "classes = ['Yard ganied','No Yard gained']\n",
    "cm = ConfusionMatrix(model, classes=classes, percent=False)\n",
    "\n",
    "cm.fit(X_train, y_train)\n",
    "\n",
    "cm.score(X_val, y_val)\n",
    "\n",
    "for label in cm.ax.texts:\n",
    "    label.set_size(30)\n",
    "\n",
    "cm.poof()"
   ]
  },
  {
   "cell_type": "code",
   "execution_count": null,
   "metadata": {},
   "outputs": [],
   "source": [
    "# Precision, Recall, and F1 Score\n",
    "\n",
    "plt.rcParams['figure.figsize'] = (15, 7)\n",
    "plt.rcParams['font.size'] = 20\n",
    "\n",
    "\n",
    "visualizer = ClassificationReport(model, classes=classes)\n",
    "\n",
    "visualizer.score(X_val, y_val) \n",
    "g = visualizer.poof()\n",
    "\n",
    "# ROC and AUC\n",
    "\n",
    "visualizer = ROCAUC(model)\n",
    "\n",
    "visualizer.fit(X_train, y_train) \n",
    "visualizer.score(X_val, y_val) \n",
    "g = visualizer.poof()"
   ]
  },
  {
   "cell_type": "markdown",
   "metadata": {},
   "source": [
    "## K-Nearest Neightbors"
   ]
  },
  {
   "cell_type": "markdown",
   "metadata": {},
   "source": [
    "K-nearest neighbor classifier s going to be used in this problem, this algorithm will predict the observation to be in one class or the other one depening on the closer class of other obvservation. For this model We used our textbook (Albon. 2018. p254)"
   ]
  },
  {
   "cell_type": "code",
   "execution_count": null,
   "metadata": {},
   "outputs": [],
   "source": [
    "from sklearn.neighbors import KNeighborsClassifier"
   ]
  },
  {
   "cell_type": "code",
   "execution_count": null,
   "metadata": {},
   "outputs": [],
   "source": [
    "nearest_n = KNeighborsClassifier(n_neighbors = 2).fit(X_train, y_train)"
   ]
  },
  {
   "cell_type": "code",
   "execution_count": null,
   "metadata": {},
   "outputs": [],
   "source": [
    "nearest_n.predict(X_val)"
   ]
  },
  {
   "cell_type": "code",
   "execution_count": null,
   "metadata": {},
   "outputs": [],
   "source": [
    "#The ConfusionMatrix visualizer taxes a model\n",
    "classes = ['Yard ganied','No Yard gained']\n",
    "cm = ConfusionMatrix(nearest_n, classes=classes, percent=False)\n",
    "\n",
    "cm.score(X_val, y_val)\n",
    "\n",
    "for label in cm.ax.texts:\n",
    "    label.set_size(20)\n",
    "\n",
    "cm.poof()"
   ]
  },
  {
   "cell_type": "code",
   "execution_count": null,
   "metadata": {},
   "outputs": [],
   "source": [
    "# Precision, Recall, and F1 Score\n",
    "\n",
    "plt.rcParams['figure.figsize'] = (15, 7)\n",
    "plt.rcParams['font.size'] = 20\n",
    "\n",
    "\n",
    "visualizer = ClassificationReport(nearest_n, classes=classes)\n",
    "\n",
    "visualizer.score(X_val, y_val) \n",
    "g = visualizer.poof()\n",
    "\n",
    "\n",
    "visualizer = ROCAUC(nearest_n)\n",
    "\n",
    "visualizer.score(X_val, y_val) \n",
    "g = visualizer.poof()"
   ]
  },
  {
   "cell_type": "markdown",
   "metadata": {},
   "source": [
    "## Random Forest Classifier\n",
    "\n",
    "\n",
    "Third option a Random Forest Classifier, this model will be used because is another option for classification problem (Albon. 2018 p 238)"
   ]
  },
  {
   "cell_type": "code",
   "execution_count": null,
   "metadata": {},
   "outputs": [],
   "source": [
    "from sklearn.ensemble import RandomForestClassifier"
   ]
  },
  {
   "cell_type": "code",
   "execution_count": null,
   "metadata": {},
   "outputs": [],
   "source": [
    "random_f = RandomForestClassifier()\n",
    "model = random_f.fit(X_train, y_train)"
   ]
  },
  {
   "cell_type": "code",
   "execution_count": null,
   "metadata": {},
   "outputs": [],
   "source": [
    "#The ConfusionMatrix visualizer taxes a model\n",
    "classes = ['Yard ganied','No Yard gained']\n",
    "cm = ConfusionMatrix(model, classes=classes, percent=False)\n",
    "\n",
    "cm.score(X_val, y_val)\n",
    "\n",
    "for label in cm.ax.texts:\n",
    "\n",
    "    cm.poof()"
   ]
  },
  {
   "cell_type": "code",
   "execution_count": null,
   "metadata": {},
   "outputs": [],
   "source": [
    "# Precision, Recall, and F1 Score\n",
    "\n",
    "plt.rcParams['figure.figsize'] = (15, 7)\n",
    "plt.rcParams['font.size'] = 20\n",
    "\n",
    "\n",
    "visualizer = ClassificationReport(model, classes=classes)\n",
    "\n",
    "visualizer.score(X_val, y_val) \n",
    "g = visualizer.poof()\n",
    "\n",
    "\n",
    "visualizer = ROCAUC(model)\n",
    "\n",
    "visualizer.score(X_val, y_val)  \n",
    "g = visualizer.poof()"
   ]
  }
 ],
 "metadata": {
  "colab": {
   "collapsed_sections": [],
   "name": "DSC_630_Course_Project_MQ_GM_KT.ipynb",
   "provenance": [],
   "toc_visible": true
  },
  "kernelspec": {
   "display_name": "Python 3",
   "language": "python",
   "name": "python3"
  },
  "language_info": {
   "codemirror_mode": {
    "name": "ipython",
    "version": 3
   },
   "file_extension": ".py",
   "mimetype": "text/x-python",
   "name": "python",
   "nbconvert_exporter": "python",
   "pygments_lexer": "ipython3",
   "version": "3.7.4"
  }
 },
 "nbformat": 4,
 "nbformat_minor": 1
}
