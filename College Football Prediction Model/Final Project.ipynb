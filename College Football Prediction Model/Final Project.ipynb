{
 "cells": [
  {
   "cell_type": "code",
   "execution_count": 2,
   "metadata": {},
   "outputs": [],
   "source": [
    "import pandas as pd\n",
    "import numpy as np\n",
    "import thinkplot\n",
    "import thinkstats2"
   ]
  },
  {
   "cell_type": "code",
   "execution_count": 3,
   "metadata": {},
   "outputs": [],
   "source": [
    "df = pd.read_csv ('CFB2019.csv')\n"
   ]
  },
  {
   "cell_type": "code",
   "execution_count": 4,
   "metadata": {},
   "outputs": [],
   "source": [
    "df.columns = df.columns.str.strip().str.lower().str.replace(' ', '_').str.replace('(', '').str.replace(')', '')"
   ]
  },
  {
   "cell_type": "code",
   "execution_count": 5,
   "metadata": {},
   "outputs": [
    {
     "name": "stdout",
     "output_type": "stream",
     "text": [
      "                           team  games win-loss  off_rank  off_plays  \\\n",
      "0     Air Force (Mountain West)     13     11-2        51        881   \n",
      "1                   Akron (MAC)     12     0-12       130        725   \n",
      "2                 Alabama (SEC)     13     11-2         6        842   \n",
      "3    Appalachian St. (Sun Belt)     14     13-1        39        969   \n",
      "4              Arizona (Pac-12)     12      4-8        30        873   \n",
      "..                          ...    ...      ...       ...        ...   \n",
      "125      West Virginia (Big 12)     12      5-7       119        788   \n",
      "126         Western Ky. (C-USA)     13      9-4        84        900   \n",
      "127         Western Mich. (MAC)     13      7-6        25        916   \n",
      "128         Wisconsin (Big Ten)     14     10-4        38        963   \n",
      "129     Wyoming (Mountain West)     13      8-5       106        831   \n",
      "\n",
      "     off_yards  off_yards/play  off_tds  off_yards_per_game  def_rank  ...  \\\n",
      "0         5483            6.22       55               421.8        17  ...   \n",
      "1         2918            4.02       14               243.2        83  ...   \n",
      "2         6640            7.89       76               510.8        20  ...   \n",
      "3         6064            6.26       65               433.1        26  ...   \n",
      "4         5281            6.05       42               440.1       120  ...   \n",
      "..         ...             ...      ...                 ...       ...  ...   \n",
      "125       3863            4.90       28               321.9        74  ...   \n",
      "126       5041            5.60       38               387.8        24  ...   \n",
      "127       5794            6.33       56               445.7        87  ...   \n",
      "128       6065            6.30       56               433.2         4  ...   \n",
      "129       4562            5.49       38               350.9        43  ...   \n",
      "\n",
      "     average_time_of_possession_per_game  turnover_rank  fumbles_recovered  \\\n",
      "0                                  34:28             78                  9   \n",
      "1                                  26:29            128                  6   \n",
      "2                                  29:59              3                 11   \n",
      "3                                  31:19              7                 10   \n",
      "4                                  27:24             89                  4   \n",
      "..                                   ...            ...                ...   \n",
      "125                                28:21            103                  6   \n",
      "126                                32:00            100                  4   \n",
      "127                                30:21             19                  9   \n",
      "128                                35:37             61                 10   \n",
      "129                                30:35             33                  8   \n",
      "\n",
      "     opponents_intercepted  turnovers_gain  fumbles_lost  \\\n",
      "0                        7              16            12   \n",
      "1                        5              11            12   \n",
      "2                       17              28             4   \n",
      "3                       14              24             3   \n",
      "4                       11              15             6   \n",
      "..                     ...             ...           ...   \n",
      "125                      8              14             5   \n",
      "126                     11              15             9   \n",
      "127                     13              22             6   \n",
      "128                     12              22            17   \n",
      "129                     12              20             6   \n",
      "\n",
      "     interceptions_thrown.y  turnovers_lost  turnover_margin  \\\n",
      "0                         6              18               -2   \n",
      "1                        14              26              -15   \n",
      "2                         6              10               18   \n",
      "3                         6               9               15   \n",
      "4                        12              18               -3   \n",
      "..                      ...             ...              ...   \n",
      "125                      15              20               -6   \n",
      "126                      12              21               -6   \n",
      "127                       8              14                8   \n",
      "128                       5              22                0   \n",
      "129                       9              15                5   \n",
      "\n",
      "     avg_turnover_margin_per_game  \n",
      "0                           -0.15  \n",
      "1                           -1.25  \n",
      "2                            1.38  \n",
      "3                            1.07  \n",
      "4                           -0.25  \n",
      "..                            ...  \n",
      "125                         -0.50  \n",
      "126                         -0.46  \n",
      "127                          0.62  \n",
      "128                          0.00  \n",
      "129                          0.38  \n",
      "\n",
      "[130 rows x 146 columns]\n"
     ]
    }
   ],
   "source": [
    "print(df)"
   ]
  },
  {
   "cell_type": "code",
   "execution_count": 6,
   "metadata": {},
   "outputs": [
    {
     "name": "stdout",
     "output_type": "stream",
     "text": [
      "The mean is:\n",
      "44.30769230769231\n",
      "The Standard Deviation is:\n",
      "14.224035861303967\n",
      "The Spread is:\n",
      "202.3231961836613\n",
      "The Mode is:\n",
      "0    38\n",
      "1    51\n",
      "dtype: int64\n",
      "The Tail is:\n",
      "125    28\n",
      "126    38\n",
      "127    56\n",
      "128    56\n",
      "129    38\n",
      "Name: off_tds, dtype: int64\n"
     ]
    },
    {
     "data": {
      "image/png": "[encoded data removed]",
      "text/plain": [
       "<Figure size 432x288 with 1 Axes>"
      ]
     },
     "metadata": {
      "needs_background": "light"
     },
     "output_type": "display_data"
    }
   ],
   "source": [
    "hist = thinkstats2.Hist(df.off_tds, label='Touchdowns')\n",
    "thinkplot.Hist(hist)\n",
    "thinkplot.Config(xlabel='Touchdowns)', ylabel='Count')\n",
    "\n",
    "\n",
    "mean = df.off_tds.mean()\n",
    "std = df.off_tds.std()\n",
    "var = df.off_tds.var()\n",
    "mode = df.off_tds.mode()\n",
    "tail = df.off_tds.tail()\n",
    "\n",
    "\n",
    "\n",
    "print(\"The mean is:\")\n",
    "print(mean)\n",
    "\n",
    "print(\"The Standard Deviation is:\")\n",
    "print(std)\n",
    "\n",
    "print(\"The Spread is:\")\n",
    "print(var)\n",
    "\n",
    "print(\"The Mode is:\")\n",
    "print(mode)\n",
    "\n",
    "print(\"The Tail is:\")\n",
    "print(tail)"
   ]
  },
  {
   "cell_type": "code",
   "execution_count": 7,
   "metadata": {},
   "outputs": [
    {
     "name": "stdout",
     "output_type": "stream",
     "text": [
      "The mean is:\n",
      "28.686153846153857\n",
      "The Standard Deviation is:\n",
      "6.937201744086978\n",
      "The Spread is:\n",
      "48.12476803816341\n",
      "The Mode is:\n",
      "0    33.1\n",
      "dtype: float64\n",
      "The Tail is:\n",
      "125    20.6\n",
      "126    25.4\n",
      "127    33.1\n",
      "128    34.1\n",
      "129    25.4\n",
      "Name: points_per_game, dtype: float64\n"
     ]
    },
    {
     "data": {
      "image/png": "[encoded data removed]",
      "text/plain": [
       "<Figure size 432x288 with 1 Axes>"
      ]
     },
     "metadata": {
      "needs_background": "light"
     },
     "output_type": "display_data"
    }
   ],
   "source": [
    "hist = thinkstats2.Hist(df.points_per_game, label='Points')\n",
    "thinkplot.Hist(hist)\n",
    "thinkplot.Config(xlabel='Average Points Per Game', ylabel='Count')\n",
    "\n",
    "mean = df.points_per_game.mean()\n",
    "std = df.points_per_game.std()\n",
    "var = df.points_per_game.var()\n",
    "mode = df.points_per_game.mode()\n",
    "tail = df.points_per_game.tail()\n",
    "\n",
    "\n",
    "print(\"The mean is:\")\n",
    "print(mean)\n",
    "\n",
    "print(\"The Standard Deviation is:\")\n",
    "print(std)\n",
    "\n",
    "print(\"The Spread is:\")\n",
    "print(var)\n",
    "\n",
    "print(\"The Mode is:\")\n",
    "print(mode)\n",
    "\n",
    "print(\"The Tail is:\")\n",
    "print(tail)"
   ]
  },
  {
   "cell_type": "code",
   "execution_count": 8,
   "metadata": {},
   "outputs": [
    {
     "name": "stdout",
     "output_type": "stream",
     "text": [
      "The mean is:\n",
      "78.02307692307693\n",
      "The Standard Deviation is:\n",
      "15.625196003541067\n",
      "The Spread is:\n",
      "244.1467501490757\n",
      "The Mode is:\n",
      "0    80\n",
      "dtype: int64\n",
      "The Tail is:\n",
      "125    71\n",
      "126    53\n",
      "127    82\n",
      "128    69\n",
      "129    67\n",
      "Name: penalties, dtype: int64\n"
     ]
    },
    {
     "data": {
      "image/png": "[encoded data removed]",
      "text/plain": [
       "<Figure size 432x288 with 1 Axes>"
      ]
     },
     "metadata": {
      "needs_background": "light"
     },
     "output_type": "display_data"
    }
   ],
   "source": [
    "hist = thinkstats2.Hist(df.penalties, label='Penalties')\n",
    "thinkplot.Hist(hist)\n",
    "thinkplot.Config(xlabel='Number of Penalties', ylabel='Count')\n",
    "\n",
    "mean = df.penalties.mean()\n",
    "std = df.penalties.std()\n",
    "var = df.penalties.var()\n",
    "mode = df.penalties.mode()\n",
    "tail = df.penalties.tail()\n",
    "\n",
    "\n",
    "\n",
    "print(\"The mean is:\")\n",
    "print(mean)\n",
    "\n",
    "print(\"The Standard Deviation is:\")\n",
    "print(std)\n",
    "\n",
    "print(\"The Spread is:\")\n",
    "print(var)\n",
    "\n",
    "print(\"The Mode is:\")\n",
    "print(mode)\n",
    "\n",
    "print(\"The Tail is:\")\n",
    "print(tail)"
   ]
  },
  {
   "cell_type": "code",
   "execution_count": 9,
   "metadata": {},
   "outputs": [
    {
     "name": "stdout",
     "output_type": "stream",
     "text": [
      "The mean is:\n",
      "43.2\n",
      "The Standard Deviation is:\n",
      "10.97099770748652\n",
      "The Spread is:\n",
      "120.36279069767448\n",
      "The Mode is:\n",
      "0    43\n",
      "dtype: int64\n",
      "The Tail is:\n",
      "125    43\n",
      "126    32\n",
      "127    40\n",
      "128    30\n",
      "129    25\n",
      "Name: total_tds_allowed, dtype: int64\n"
     ]
    },
    {
     "data": {
      "image/png": "[encoded data removed]",
      "text/plain": [
       "<Figure size 432x288 with 1 Axes>"
      ]
     },
     "metadata": {
      "needs_background": "light"
     },
     "output_type": "display_data"
    }
   ],
   "source": [
    "hist = thinkstats2.Hist(df.total_tds_allowed, label='Touchdowns')\n",
    "thinkplot.Hist(hist)\n",
    "thinkplot.Config(xlabel='Touchdowns Allowed', ylabel='Count')\n",
    "\n",
    "mean = df.total_tds_allowed.mean()\n",
    "std = df.total_tds_allowed.std()\n",
    "var = df.total_tds_allowed.var()\n",
    "mode = df.total_tds_allowed.mode()\n",
    "tail = df.total_tds_allowed.tail()\n",
    "\n",
    "\n",
    "print(\"The mean is:\")\n",
    "print(mean)\n",
    "\n",
    "print(\"The Standard Deviation is:\")\n",
    "print(std)\n",
    "\n",
    "print(\"The Spread is:\")\n",
    "print(var)\n",
    "\n",
    "print(\"The Mode is:\")\n",
    "print(mode)\n",
    "\n",
    "print(\"The Tail is:\")\n",
    "print(tail)"
   ]
  },
  {
   "cell_type": "code",
   "execution_count": 10,
   "metadata": {},
   "outputs": [
    {
     "name": "stdout",
     "output_type": "stream",
     "text": [
      "The mean is:\n",
      "18.5\n",
      "The Standard Deviation is:\n",
      "4.761359326459085\n",
      "The Spread is:\n",
      "22.670542635658915\n",
      "The Mode is:\n",
      "0    19\n",
      "dtype: int64\n",
      "The Tail is:\n",
      "125    14\n",
      "126    15\n",
      "127    22\n",
      "128    22\n",
      "129    20\n",
      "Name: turnovers_gain, dtype: int64\n"
     ]
    },
    {
     "data": {
      "image/png": "[encoded data removed]",
      "text/plain": [
       "<Figure size 432x288 with 1 Axes>"
      ]
     },
     "metadata": {
      "needs_background": "light"
     },
     "output_type": "display_data"
    }
   ],
   "source": [
    "hist = thinkstats2.Hist(df.turnovers_gain, label='Turnovers')\n",
    "thinkplot.Hist(hist)\n",
    "thinkplot.Config(xlabel='Turnovers Gained', ylabel='Count')\n",
    "\n",
    "mean = df.turnovers_gain.mean()\n",
    "std = df.turnovers_gain.std()\n",
    "var = df.turnovers_gain.var()\n",
    "mode = df.turnovers_gain.mode()\n",
    "tail = df.turnovers_gain.tail()\n",
    "\n",
    "print(\"The mean is:\")\n",
    "print(mean)\n",
    "\n",
    "print(\"The Standard Deviation is:\")\n",
    "print(std)\n",
    "\n",
    "print(\"The Spread is:\")\n",
    "print(var)\n",
    "\n",
    "print(\"The Mode is:\")\n",
    "print(mode)\n",
    "\n",
    "print(\"The Tail is:\")\n",
    "print(tail)"
   ]
  },
  {
   "cell_type": "code",
   "execution_count": 11,
   "metadata": {},
   "outputs": [],
   "source": [
    "elite = df[df.off_rank < 26]\n",
    "\n",
    "other = df[df.off_rank > 26]"
   ]
  },
  {
   "cell_type": "code",
   "execution_count": null,
   "metadata": {},
   "outputs": [],
   "source": []
  },
  {
   "cell_type": "code",
   "execution_count": null,
   "metadata": {},
   "outputs": [],
   "source": []
  },
  {
   "cell_type": "code",
   "execution_count": 12,
   "metadata": {},
   "outputs": [
    {
     "data": {
      "image/png": "[encoded data removed]",
      "text/plain": [
       "<Figure size 432x288 with 1 Axes>"
      ]
     },
     "metadata": {
      "needs_background": "light"
     },
     "output_type": "display_data"
    }
   ],
   "source": [
    "pmf1 = thinkstats2.Pmf(elite.off_tds, label='touchdowns')\n",
    "\n",
    "thinkplot.Pmf(pmf1)\n",
    "thinkplot.Config(xlabel='Number of Touchdowns', ylabel='PMF')"
   ]
  },
  {
   "cell_type": "code",
   "execution_count": 13,
   "metadata": {},
   "outputs": [
    {
     "data": {
      "image/png": "[encoded data removed]",
      "text/plain": [
       "<Figure size 432x288 with 1 Axes>"
      ]
     },
     "metadata": {
      "needs_background": "light"
     },
     "output_type": "display_data"
    }
   ],
   "source": [
    "pmf2 = thinkstats2.Pmf(other.off_tds, label='touchdowns')\n",
    "\n",
    "thinkplot.Pmf(pmf2)\n",
    "thinkplot.Config(xlabel='Number of Touchdowns', ylabel='PMF')"
   ]
  },
  {
   "cell_type": "code",
   "execution_count": 14,
   "metadata": {},
   "outputs": [
    {
     "data": {
      "image/png": "[encoded data removed]",
      "text/plain": [
       "<Figure size 432x288 with 1 Axes>"
      ]
     },
     "metadata": {
      "needs_background": "light"
     },
     "output_type": "display_data"
    },
    {
     "data": {
      "text/plain": [
       "<Figure size 576x432 with 0 Axes>"
      ]
     },
     "metadata": {},
     "output_type": "display_data"
    }
   ],
   "source": [
    "cdf = thinkstats2.Cdf(df.points_per_game, label='Points Per Game')\n",
    "\n",
    "thinkplot.Cdf(cdf)\n",
    "thinkplot.Show(xlabel='Points', ylabel='CDF')"
   ]
  },
  {
   "cell_type": "code",
   "execution_count": 22,
   "metadata": {},
   "outputs": [],
   "source": [
    "points = df.points_per_game\n",
    "yards = df.off_yards_per_game"
   ]
  },
  {
   "cell_type": "code",
   "execution_count": 20,
   "metadata": {},
   "outputs": [],
   "source": [
    "def MakeNormalModel(points):\n",
    "    \"\"\"Plots a CDF with a Normal model.\n",
    "\n",
    "    weights: sequence\n",
    "    \"\"\"\n",
    "    cdf = thinkstats2.Cdf(points, label='points')\n",
    "\n",
    "    mean, var = thinkstats2.TrimmedMeanVar(points)\n",
    "    std = np.sqrt(var)\n",
    "    print('n, mean, std', len(points), mean, std)\n",
    "\n",
    "    xmin = mean - 4 * std\n",
    "    xmax = mean + 4 * std\n",
    "\n",
    "    xs, ps = thinkstats2.RenderNormalCdf(mean, std, xmin, xmax)\n",
    "    thinkplot.Plot(xs, ps, label='model', linewidth=4, color='0.8')\n",
    "    thinkplot.Cdf(cdf)"
   ]
  },
  {
   "cell_type": "code",
   "execution_count": 21,
   "metadata": {},
   "outputs": [
    {
     "name": "stdout",
     "output_type": "stream",
     "text": [
      "n, mean, std 130 28.67421875 6.548320945261345\n"
     ]
    },
    {
     "data": {
      "image/png": "[encoded data removed]",
      "text/plain": [
       "<Figure size 432x288 with 1 Axes>"
      ]
     },
     "metadata": {
      "needs_background": "light"
     },
     "output_type": "display_data"
    }
   ],
   "source": [
    "MakeNormalModel(points)"
   ]
  },
  {
   "cell_type": "code",
   "execution_count": 29,
   "metadata": {},
   "outputs": [],
   "source": [
    "def Cov(xs, ys, meanx=None, meany=None):\n",
    "    xs = np.asarray(xs)\n",
    "    ys = np.asarray(ys)\n",
    "\n",
    "    if meanx is None:\n",
    "        meanx = np.mean(xs)\n",
    "    if meany is None:\n",
    "        meany = np.mean(ys)\n",
    "\n",
    "    cov = np.dot(xs-meanx, ys-meany) / len(xs)\n",
    "    return cov"
   ]
  },
  {
   "cell_type": "code",
   "execution_count": 30,
   "metadata": {},
   "outputs": [],
   "source": [
    "def Corr(xs, ys):\n",
    "    xs = np.asarray(xs)\n",
    "    ys = np.asarray(ys)\n",
    "\n",
    "    meanx, varx = thinkstats2.MeanVar(xs)\n",
    "    meany, vary = thinkstats2.MeanVar(ys)\n",
    "\n",
    "    corr = Cov(xs, ys, meanx, meany) / np.sqrt(varx * vary)\n",
    "    return corr"
   ]
  },
  {
   "cell_type": "code",
   "execution_count": 31,
   "metadata": {},
   "outputs": [],
   "source": [
    "def SpearmanCorr(xs, ys):\n",
    "    xranks = pd.Series(xs).rank()\n",
    "    yranks = pd.Series(ys).rank()\n",
    "    return Corr(xranks, yranks)"
   ]
  },
  {
   "cell_type": "code",
   "execution_count": 23,
   "metadata": {},
   "outputs": [
    {
     "data": {
      "image/png": "[encoded data removed]",
      "text/plain": [
       "<Figure size 432x288 with 1 Axes>"
      ]
     },
     "metadata": {
      "needs_background": "light"
     },
     "output_type": "display_data"
    }
   ],
   "source": [
    "thinkplot.Scatter(yards, points, alpha=1)\n",
    "thinkplot.Config(xlabel='Yards Per Game',\n",
    "                 ylabel='Points Per Game',\n",
    "                 legend=False)"
   ]
  },
  {
   "cell_type": "code",
   "execution_count": 35,
   "metadata": {},
   "outputs": [
    {
     "name": "stdout",
     "output_type": "stream",
     "text": [
      "Covariance of Yards and Points\n"
     ]
    },
    {
     "data": {
      "text/plain": [
       "366.4912059171598"
      ]
     },
     "execution_count": 35,
     "metadata": {},
     "output_type": "execute_result"
    }
   ],
   "source": [
    "print('Covariance of Yards and Points') \n",
    "Cov(yards, points)"
   ]
  },
  {
   "cell_type": "code",
   "execution_count": 37,
   "metadata": {},
   "outputs": [
    {
     "name": "stdout",
     "output_type": "stream",
     "text": [
      "Correlation of Yards and Points\n"
     ]
    },
    {
     "data": {
      "text/plain": [
       "0.9020666439159747"
      ]
     },
     "execution_count": 37,
     "metadata": {},
     "output_type": "execute_result"
    }
   ],
   "source": [
    "print('Correlation of Yards and Points') \n",
    "Corr(yards,points)"
   ]
  },
  {
   "cell_type": "code",
   "execution_count": 38,
   "metadata": {},
   "outputs": [
    {
     "name": "stdout",
     "output_type": "stream",
     "text": [
      "Spearman Correlation of Yards and Points\n"
     ]
    },
    {
     "data": {
      "text/plain": [
       "0.865209388750825"
      ]
     },
     "execution_count": 38,
     "metadata": {},
     "output_type": "execute_result"
    }
   ],
   "source": [
    "print('Spearman Correlation of Yards and Points') \n",
    "SpearmanCorr(yards, points)"
   ]
  },
  {
   "cell_type": "code",
   "execution_count": 27,
   "metadata": {},
   "outputs": [],
   "source": [
    "opptds = df.total_tds_allowed\n",
    "oppyds = df.yards_allowed"
   ]
  },
  {
   "cell_type": "code",
   "execution_count": 28,
   "metadata": {},
   "outputs": [
    {
     "data": {
      "image/png": "[encoded data removed]",
      "text/plain": [
       "<Figure size 432x288 with 1 Axes>"
      ]
     },
     "metadata": {
      "needs_background": "light"
     },
     "output_type": "display_data"
    }
   ],
   "source": [
    "thinkplot.Scatter(oppyds, opptds, alpha=1)\n",
    "thinkplot.Config(xlabel='Yards Allowed Per Game',\n",
    "                 ylabel='Touchdowns Allowed Per Game',\n",
    "                 legend=False)"
   ]
  },
  {
   "cell_type": "code",
   "execution_count": 39,
   "metadata": {},
   "outputs": [
    {
     "name": "stdout",
     "output_type": "stream",
     "text": [
      "Covariance of Yards Allowed and Touchdowns Allowed\n"
     ]
    },
    {
     "data": {
      "text/plain": [
       "5449.169230769231"
      ]
     },
     "execution_count": 39,
     "metadata": {},
     "output_type": "execute_result"
    }
   ],
   "source": [
    "print('Covariance of Yards Allowed and Touchdowns Allowed') \n",
    "Cov(oppyds, opptds)"
   ]
  },
  {
   "cell_type": "code",
   "execution_count": 40,
   "metadata": {},
   "outputs": [
    {
     "name": "stdout",
     "output_type": "stream",
     "text": [
      "Correlation of Yards Allowed and Touchdowns Allowed\n"
     ]
    },
    {
     "data": {
      "text/plain": [
       "0.7994899564647993"
      ]
     },
     "execution_count": 40,
     "metadata": {},
     "output_type": "execute_result"
    }
   ],
   "source": [
    "print('Correlation of Yards Allowed and Touchdowns Allowed') \n",
    "Corr(oppyds, opptds)"
   ]
  },
  {
   "cell_type": "code",
   "execution_count": 41,
   "metadata": {},
   "outputs": [
    {
     "name": "stdout",
     "output_type": "stream",
     "text": [
      "Spearman Correlation of Yards Allowed and Touchdowns Allowed\n"
     ]
    },
    {
     "data": {
      "text/plain": [
       "0.7910563064668915"
      ]
     },
     "execution_count": 41,
     "metadata": {},
     "output_type": "execute_result"
    }
   ],
   "source": [
    "print('Spearman Correlation of Yards Allowed and Touchdowns Allowed') \n",
    "SpearmanCorr(oppyds, opptds)"
   ]
  },
  {
   "cell_type": "code",
   "execution_count": 56,
   "metadata": {},
   "outputs": [],
   "source": [
    "class DiffMeansPermute(thinkstats2.HypothesisTest):\n",
    "\n",
    "    def TestStatistic(self, data):\n",
    "        group1, group2 = data\n",
    "        test_stat = abs(group1.mean() - group2.mean())\n",
    "        return test_stat\n",
    "\n",
    "    def MakeModel(self):\n",
    "        group1, group2 = self.data\n",
    "        self.n, self.m = len(group1), len(group2)\n",
    "        self.pool = np.hstack((group1, group2))\n",
    "\n",
    "    def RunModel(self):\n",
    "        np.random.shuffle(self.pool)\n",
    "        data = self.pool[:self.n], self.pool[self.n:]\n",
    "        return data"
   ]
  },
  {
   "cell_type": "code",
   "execution_count": 57,
   "metadata": {},
   "outputs": [
    {
     "data": {
      "text/plain": [
       "0.047"
      ]
     },
     "execution_count": 57,
     "metadata": {},
     "output_type": "execute_result"
    }
   ],
   "source": [
    "data = elite.yards_allowed.values, other.yards_allowed.values\n",
    "\n",
    "ht = DiffMeansPermute(data)\n",
    "pvalue = ht.PValue()\n",
    "pvalue"
   ]
  },
  {
   "cell_type": "code",
   "execution_count": 58,
   "metadata": {},
   "outputs": [
    {
     "data": {
      "image/png": "[encoded data removed]",
      "text/plain": [
       "<Figure size 432x288 with 1 Axes>"
      ]
     },
     "metadata": {
      "needs_background": "light"
     },
     "output_type": "display_data"
    }
   ],
   "source": [
    "ht.PlotCdf()\n",
    "thinkplot.Config(xlabel='test statistic',\n",
    "                   ylabel='CDF')"
   ]
  },
  {
   "cell_type": "code",
   "execution_count": 59,
   "metadata": {},
   "outputs": [
    {
     "data": {
      "text/html": [
       "<table class=\"simpletable\">\n",
       "<caption>OLS Regression Results</caption>\n",
       "<tr>\n",
       "  <th>Dep. Variable:</th>         <td>off_tds</td>     <th>  R-squared:         </th> <td>   0.326</td>\n",
       "</tr>\n",
       "<tr>\n",
       "  <th>Model:</th>                   <td>OLS</td>       <th>  Adj. R-squared:    </th> <td>   0.310</td>\n",
       "</tr>\n",
       "<tr>\n",
       "  <th>Method:</th>             <td>Least Squares</td>  <th>  F-statistic:       </th> <td>   20.33</td>\n",
       "</tr>\n",
       "<tr>\n",
       "  <th>Date:</th>             <td>Sat, 30 May 2020</td> <th>  Prob (F-statistic):</th> <td>8.26e-11</td>\n",
       "</tr>\n",
       "<tr>\n",
       "  <th>Time:</th>                 <td>10:59:13</td>     <th>  Log-Likelihood:    </th> <td> -503.44</td>\n",
       "</tr>\n",
       "<tr>\n",
       "  <th>No. Observations:</th>      <td>   130</td>      <th>  AIC:               </th> <td>   1015.</td>\n",
       "</tr>\n",
       "<tr>\n",
       "  <th>Df Residuals:</th>          <td>   126</td>      <th>  BIC:               </th> <td>   1026.</td>\n",
       "</tr>\n",
       "<tr>\n",
       "  <th>Df Model:</th>              <td>     3</td>      <th>                     </th>     <td> </td>   \n",
       "</tr>\n",
       "<tr>\n",
       "  <th>Covariance Type:</th>      <td>nonrobust</td>    <th>                     </th>     <td> </td>   \n",
       "</tr>\n",
       "</table>\n",
       "<table class=\"simpletable\">\n",
       "<tr>\n",
       "             <td></td>               <th>coef</th>     <th>std err</th>      <th>t</th>      <th>P>|t|</th>  <th>[0.025</th>    <th>0.975]</th>  \n",
       "</tr>\n",
       "<tr>\n",
       "  <th>Intercept</th>              <td>   33.8630</td> <td>   10.029</td> <td>    3.377</td> <td> 0.001</td> <td>   14.017</td> <td>   53.709</td>\n",
       "</tr>\n",
       "<tr>\n",
       "  <th>yards_per_game_allowed</th> <td>   -0.1931</td> <td>    0.040</td> <td>   -4.781</td> <td> 0.000</td> <td>   -0.273</td> <td>   -0.113</td>\n",
       "</tr>\n",
       "<tr>\n",
       "  <th>opp_first_downs</th>        <td>    0.3453</td> <td>    0.054</td> <td>    6.403</td> <td> 0.000</td> <td>    0.239</td> <td>    0.452</td>\n",
       "</tr>\n",
       "<tr>\n",
       "  <th>touchdowns_allowed</th>     <td>   -0.0901</td> <td>    0.180</td> <td>   -0.501</td> <td> 0.617</td> <td>   -0.446</td> <td>    0.266</td>\n",
       "</tr>\n",
       "</table>\n",
       "<table class=\"simpletable\">\n",
       "<tr>\n",
       "  <th>Omnibus:</th>       <td> 1.008</td> <th>  Durbin-Watson:     </th> <td>   2.082</td>\n",
       "</tr>\n",
       "<tr>\n",
       "  <th>Prob(Omnibus):</th> <td> 0.604</td> <th>  Jarque-Bera (JB):  </th> <td>   0.639</td>\n",
       "</tr>\n",
       "<tr>\n",
       "  <th>Skew:</th>          <td> 0.144</td> <th>  Prob(JB):          </th> <td>   0.726</td>\n",
       "</tr>\n",
       "<tr>\n",
       "  <th>Kurtosis:</th>      <td> 3.186</td> <th>  Cond. No.          </th> <td>4.59e+03</td>\n",
       "</tr>\n",
       "</table><br/><br/>Warnings:<br/>[1] Standard Errors assume that the covariance matrix of the errors is correctly specified.<br/>[2] The condition number is large, 4.59e+03. This might indicate that there are<br/>strong multicollinearity or other numerical problems."
      ],
      "text/plain": [
       "<class 'statsmodels.iolib.summary.Summary'>\n",
       "\"\"\"\n",
       "                            OLS Regression Results                            \n",
       "==============================================================================\n",
       "Dep. Variable:                off_tds   R-squared:                       0.326\n",
       "Model:                            OLS   Adj. R-squared:                  0.310\n",
       "Method:                 Least Squares   F-statistic:                     20.33\n",
       "Date:                Sat, 30 May 2020   Prob (F-statistic):           8.26e-11\n",
       "Time:                        10:59:13   Log-Likelihood:                -503.44\n",
       "No. Observations:                 130   AIC:                             1015.\n",
       "Df Residuals:                     126   BIC:                             1026.\n",
       "Df Model:                           3                                         \n",
       "Covariance Type:            nonrobust                                         \n",
       "==========================================================================================\n",
       "                             coef    std err          t      P>|t|      [0.025      0.975]\n",
       "------------------------------------------------------------------------------------------\n",
       "Intercept                 33.8630     10.029      3.377      0.001      14.017      53.709\n",
       "yards_per_game_allowed    -0.1931      0.040     -4.781      0.000      -0.273      -0.113\n",
       "opp_first_downs            0.3453      0.054      6.403      0.000       0.239       0.452\n",
       "touchdowns_allowed        -0.0901      0.180     -0.501      0.617      -0.446       0.266\n",
       "==============================================================================\n",
       "Omnibus:                        1.008   Durbin-Watson:                   2.082\n",
       "Prob(Omnibus):                  0.604   Jarque-Bera (JB):                0.639\n",
       "Skew:                           0.144   Prob(JB):                        0.726\n",
       "Kurtosis:                       3.186   Cond. No.                     4.59e+03\n",
       "==============================================================================\n",
       "\n",
       "Warnings:\n",
       "[1] Standard Errors assume that the covariance matrix of the errors is correctly specified.\n",
       "[2] The condition number is large, 4.59e+03. This might indicate that there are\n",
       "strong multicollinearity or other numerical problems.\n",
       "\"\"\""
      ]
     },
     "execution_count": 59,
     "metadata": {},
     "output_type": "execute_result"
    }
   ],
   "source": [
    "import statsmodels.formula.api as smf\n",
    "model = smf.ols('off_tds ~ yards_per_game_allowed + opp_first_downs + touchdowns_allowed', data=df)\n",
    "results = model.fit()\n",
    "results.summary()"
   ]
  },
  {
   "cell_type": "code",
   "execution_count": null,
   "metadata": {},
   "outputs": [],
   "source": []
  },
  {
   "cell_type": "code",
   "execution_count": null,
   "metadata": {},
   "outputs": [],
   "source": []
  }
 ],
 "metadata": {
  "kernelspec": {
   "display_name": "Python 3",
   "language": "python",
   "name": "python3"
  },
  "language_info": {
   "codemirror_mode": {
    "name": "ipython",
    "version": 3
   },
   "file_extension": ".py",
   "mimetype": "text/x-python",
   "name": "python",
   "nbconvert_exporter": "python",
   "pygments_lexer": "ipython3",
   "version": "3.7.4"
  }
 },
 "nbformat": 4,
 "nbformat_minor": 4
}
